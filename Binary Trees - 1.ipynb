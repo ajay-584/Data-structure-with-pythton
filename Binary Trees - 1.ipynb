{
 "cells": [
  {
   "cell_type": "markdown",
   "metadata": {},
   "source": [
    "# Quiz"
   ]
  },
  {
   "cell_type": "code",
   "execution_count": 1,
   "metadata": {},
   "outputs": [],
   "source": [
    "\"\"\"\n",
    "A node in Binary trees can have how many children ?\n",
    "Options\n",
    "2\n",
    "any number of children\n",
    "0 or 1 or 2\n",
    "0 or 1\n",
    "\n",
    "ans = o or 1 or 2\n",
    "\"\"\"\n",
    "pass"
   ]
  },
  {
   "cell_type": "markdown",
   "metadata": {},
   "source": [
    "# How To Create Binary Tree Node"
   ]
  },
  {
   "cell_type": "code",
   "execution_count": 5,
   "metadata": {},
   "outputs": [],
   "source": [
    "class BinaryTreeNode:\n",
    "    def __init__(self,data):\n",
    "        self.data = data\n",
    "        self.left = None\n",
    "        self.right = None"
   ]
  },
  {
   "cell_type": "code",
   "execution_count": 6,
   "metadata": {},
   "outputs": [],
   "source": [
    "btn1 = BinaryTreeNode(1)\n",
    "btn2 = BinaryTreeNode(2)\n",
    "btn3 = BinaryTreeNode(3)"
   ]
  },
  {
   "cell_type": "code",
   "execution_count": 7,
   "metadata": {},
   "outputs": [],
   "source": [
    "btn1.left = btn2\n",
    "btn1.right = btn3"
   ]
  },
  {
   "cell_type": "markdown",
   "metadata": {},
   "source": [
    "# Print Binary Tree"
   ]
  },
  {
   "cell_type": "code",
   "execution_count": 16,
   "metadata": {},
   "outputs": [
    {
     "name": "stdout",
     "output_type": "stream",
     "text": [
      "1:2,3\n",
      "2:4,5\n",
      "4:\n",
      "5:\n",
      "3:\n"
     ]
    }
   ],
   "source": [
    "class BinaryTreeNode:\n",
    "    def __init__(self,data):\n",
    "        self.data = data\n",
    "        self.left = None\n",
    "        self.right = None\n",
    "\n",
    "        \n",
    "def printTree(root):\n",
    "    if root == None:\n",
    "        return\n",
    "    print(root.data)\n",
    "    printTree(root.left)\n",
    "    printTree(root.right)\n",
    "    \n",
    "def printAgain(root):\n",
    "    if root == None:\n",
    "        return \n",
    "    print(root.data,end=\":\")\n",
    "    if root.left != None:\n",
    "        print(root.left.data,end=\",\")\n",
    "    if root.right != None:\n",
    "        print(root.right.data,end=\"\")\n",
    "    print()\n",
    "    printAgain(root.left)\n",
    "    printAgain(root.right)\n",
    "    \n",
    "        \n",
    "btn1 = BinaryTreeNode(1)\n",
    "btn2 = BinaryTreeNode(2)\n",
    "btn3 = BinaryTreeNode(3)\n",
    "btn4 = BinaryTreeNode(4)\n",
    "btn5 = BinaryTreeNode(5)\n",
    "\n",
    "btn1.left = btn2\n",
    "btn1.right = btn3\n",
    "btn2.left = btn4\n",
    "btn2.right = btn5\n",
    "\n",
    "# printTree(btn1)\n",
    "printAgain(btn1)"
   ]
  },
  {
   "cell_type": "markdown",
   "metadata": {},
   "source": [
    "# Input Of Binary Tree"
   ]
  },
  {
   "cell_type": "code",
   "execution_count": 21,
   "metadata": {},
   "outputs": [
    {
     "name": "stdout",
     "output_type": "stream",
     "text": [
      "1\n",
      "2\n",
      "4\n",
      "8\n",
      "-1\n",
      "-1\n",
      "9\n",
      "-1\n",
      "-1\n",
      "3\n",
      "-1\n",
      "-1\n",
      "3\n",
      "6\n",
      "-1\n",
      "-1\n",
      "7\n",
      "-1\n",
      "-1\n",
      "1:L 2,R 3\n",
      "2:L 4,R 3\n",
      "4:L 8,R 9\n",
      "8:\n",
      "9:\n",
      "3:\n",
      "3:L 6,R 7\n",
      "6:\n",
      "7:\n"
     ]
    }
   ],
   "source": [
    "class BinaryTreeNode:\n",
    "    def __init__(self,data):\n",
    "        self.data = data\n",
    "        self.left = None\n",
    "        self.right = None\n",
    "\n",
    "    \n",
    "def printAgain(root):\n",
    "    if root == None:\n",
    "        return \n",
    "    print(root.data,end=\":\")\n",
    "    if root.left != None:\n",
    "        print(\"L\",root.left.data,end=\",\")\n",
    "    if root.right != None:\n",
    "        print(\"R\",root.right.data,end=\"\")\n",
    "    print()\n",
    "    printAgain(root.left)\n",
    "    printAgain(root.right)\n",
    "    \n",
    "        \n",
    "def treeInput():\n",
    "    rootData = int(input())\n",
    "    if rootData == -1:\n",
    "        return \n",
    "    \n",
    "    root = BinaryTreeNode(rootData)\n",
    "    leftTree = treeInput()\n",
    "    rightTree = treeInput()\n",
    "    root.left = leftTree\n",
    "    root.right = rightTree\n",
    "    return root\n",
    "root = treeInput()\n",
    "printAgain(root)"
   ]
  },
  {
   "cell_type": "markdown",
   "metadata": {},
   "source": [
    "# Quiz"
   ]
  },
  {
   "cell_type": "code",
   "execution_count": 22,
   "metadata": {},
   "outputs": [],
   "source": [
    "\"\"\"\n",
    "Consider the below code\n",
    "def takeInput():\n",
    "    print(\"Enter root data\")\n",
    "    rootData = int(input())\n",
    "    if (rootData == -1) {\n",
    "        return None\n",
    "    }\n",
    "    root = BinaryTreeNode(rootData)\n",
    "    root.left = takeInput()\n",
    "    root.right = takeInput()\n",
    "    return root\n",
    "Alt text\n",
    "\n",
    "What will be the input(excluding -1) to above code to construct this tree ?\n",
    " 1)  2 7 2 6 5 11 5 9 4 \n",
    " 2)  2 7 5 6 11 2 5 4 9 \n",
    " 3)  2 7 5 2 6 9 5 11 4\n",
    "\n",
    "ans = 1\n",
    "\"\"\"\n",
    "pass"
   ]
  },
  {
   "cell_type": "markdown",
   "metadata": {},
   "source": [
    "# Number Of Nodes In Binary Tree"
   ]
  },
  {
   "cell_type": "code",
   "execution_count": 25,
   "metadata": {},
   "outputs": [
    {
     "name": "stdout",
     "output_type": "stream",
     "text": [
      "1\n",
      "2\n",
      "4\n",
      "8\n",
      "-1\n",
      "-1\n",
      "9\n",
      "-1\n",
      "-1\n",
      "5\n",
      "-1\n",
      "-1\n",
      "3\n",
      "6\n",
      "-1\n",
      "-1\n",
      "7\n",
      "-1\n",
      "-1\n",
      "1:L 2,R 3\n",
      "2:L 4,R 5\n",
      "4:L 8,R 9\n",
      "8:\n",
      "9:\n",
      "5:\n",
      "3:L 6,R 7\n",
      "6:\n",
      "7:\n",
      "Total no of Nodes is : 9\n"
     ]
    }
   ],
   "source": [
    "class BinaryTreeNode:\n",
    "    def __init__(self,data):\n",
    "        self.data = data\n",
    "        self.left = None\n",
    "        self.right = None\n",
    "\n",
    "    \n",
    "def printAgain(root):\n",
    "    if root == None:\n",
    "        return \n",
    "    print(root.data,end=\":\")\n",
    "    if root.left != None:\n",
    "        print(\"L\",root.left.data,end=\",\")\n",
    "    if root.right != None:\n",
    "        print(\"R\",root.right.data,end=\"\")\n",
    "    print()\n",
    "    printAgain(root.left)\n",
    "    printAgain(root.right)\n",
    "    \n",
    "        \n",
    "def treeInput():\n",
    "    rootData = int(input())\n",
    "    if rootData == -1:\n",
    "        return \n",
    "    \n",
    "    root = BinaryTreeNode(rootData)\n",
    "    leftTree = treeInput()\n",
    "    rightTree = treeInput()\n",
    "    root.left = leftTree\n",
    "    root.right = rightTree\n",
    "    return root\n",
    "\n",
    "def numNodes(root):\n",
    "    if root == None:\n",
    "        return 0\n",
    "    leftCount = numNodes(root.left)\n",
    "    rightCount = numNodes(root.right)\n",
    "    return leftCount+rightCount+1\n",
    "root = treeInput()\n",
    "printAgain(root)\n",
    "print(\"Total no of Nodes is :\",numNodes(root))"
   ]
  },
  {
   "cell_type": "markdown",
   "metadata": {},
   "source": [
    "# Sum Of Nodes"
   ]
  },
  {
   "cell_type": "code",
   "execution_count": 27,
   "metadata": {},
   "outputs": [
    {
     "name": "stdout",
     "output_type": "stream",
     "text": [
      "5 6 10 2 3 -1 -1 -1 -1 -1 9 -1 -1\n",
      "35\n"
     ]
    }
   ],
   "source": [
    "\"\"\"\n",
    "Given a binary tree, find and return the sum of all nodes.\n",
    "Input format :\n",
    "Elements in level order form (separated by space). If any node does not have left or right child, take -1 in its place.\n",
    "\"\"\"\n",
    "import queue\n",
    "class BinaryTreeNode:\n",
    "    def __init__(self, data):\n",
    "        self.data = data\n",
    "        self.left = None\n",
    "        self.right = None\n",
    "\n",
    "def sumOfAllNodes(root):\n",
    "    # Given a binary tree, find and return the sum of all nodes.\n",
    "    #############################\n",
    "    # PLEASE ADD YOUR CODE HERE #\n",
    "    #############################\n",
    "    if root is None:\n",
    "        return 0\n",
    "        # return root.data\n",
    "    s1 = sumOfAllNodes(root.left)\n",
    "    s2 = sumOfAllNodes(root.right)\n",
    "    return s1+s2+root.data\n",
    "\n",
    "def buildLevelTree(levelorder):\n",
    "    index = 0\n",
    "    length = len(levelorder)\n",
    "    if length<=0 or levelorder[0]==-1:\n",
    "        return None\n",
    "    root = BinaryTreeNode(levelorder[index])\n",
    "    index += 1\n",
    "    q = queue.Queue()\n",
    "    q.put(root)\n",
    "    while not q.empty():\n",
    "        currentNode = q.get()\n",
    "        leftChild = levelorder[index]\n",
    "        index += 1\n",
    "        if leftChild != -1:\n",
    "            leftNode = BinaryTreeNode(leftChild)\n",
    "            currentNode.left =leftNode\n",
    "            q.put(leftNode)\n",
    "        rightChild = levelorder[index]\n",
    "        index += 1\n",
    "        if rightChild != -1:\n",
    "            rightNode = BinaryTreeNode(rightChild)\n",
    "            currentNode.right =rightNode\n",
    "            q.put(rightNode)\n",
    "    return root\n",
    "\n",
    "# Main\n",
    "levelOrder = [int(i) for i in input().strip().split()]\n",
    "root = buildLevelTree(levelOrder)\n",
    "print(sumOfAllNodes(root))"
   ]
  },
  {
   "cell_type": "markdown",
   "metadata": {},
   "source": [
    "# Preorder Binary Tree"
   ]
  },
  {
   "cell_type": "code",
   "execution_count": 1,
   "metadata": {},
   "outputs": [
    {
     "name": "stdout",
     "output_type": "stream",
     "text": [
      "8 3 10 1 6 -1 14 -1 -1 4 7 13 -1 -1 -1 -1 -1 -1 -1\n",
      "8 3 1 6 4 7 10 14 13 "
     ]
    }
   ],
   "source": [
    "import queue\n",
    "class BinaryTreeNode:\n",
    "    def __init__(self, data):\n",
    "        self.data = data\n",
    "        self.left = None\n",
    "        self.right = None\n",
    "\n",
    "def preOrder(root):\n",
    "    # Given a binary tree, print the preorder traversal of given tree. Pre-order\n",
    "    # traversal is: Root LeftChild RightChild\n",
    "    #############################\n",
    "    # PLEASE ADD YOUR CODE HERE #\n",
    "    #############################\n",
    "    if root == None:\n",
    "        return \n",
    "    print(root.data,end=\" \")\n",
    "    preOrder(root.left)\n",
    "    preOrder(root.right)\n",
    "\n",
    "def buildLevelTree(levelorder):\n",
    "    index = 0\n",
    "    length = len(levelorder)\n",
    "    if length<=0 or levelorder[0]==-1:\n",
    "        return None\n",
    "    root = BinaryTreeNode(levelorder[index])\n",
    "    index += 1\n",
    "    q = queue.Queue()\n",
    "    q.put(root)\n",
    "    while not q.empty():\n",
    "        currentNode = q.get()\n",
    "        leftChild = levelorder[index]\n",
    "        index += 1\n",
    "        if leftChild != -1:\n",
    "            leftNode = BinaryTreeNode(leftChild)\n",
    "            currentNode.left =leftNode\n",
    "            q.put(leftNode)\n",
    "        rightChild = levelorder[index]\n",
    "        index += 1\n",
    "        if rightChild != -1:\n",
    "            rightNode = BinaryTreeNode(rightChild)\n",
    "            currentNode.right =rightNode\n",
    "            q.put(rightNode)\n",
    "    return root\n",
    "\n",
    "# Main\n",
    "levelOrder = [int(i) for i in input().strip().split()]\n",
    "root = buildLevelTree(levelOrder)\n",
    "preOrder(root)"
   ]
  },
  {
   "cell_type": "markdown",
   "metadata": {},
   "source": [
    "# Postorder Binary Tree"
   ]
  },
  {
   "cell_type": "code",
   "execution_count": 2,
   "metadata": {},
   "outputs": [
    {
     "name": "stdout",
     "output_type": "stream",
     "text": [
      "8 3 10 1 6 -1 14 -1 -1 4 7 13 -1 -1 -1 -1 -1 -1 -1\n",
      "1 4 7 6 3 13 14 10 8 "
     ]
    }
   ],
   "source": [
    "import queue\n",
    "class BinaryTreeNode:\n",
    "    def __init__(self, data):\n",
    "        self.data = data\n",
    "        self.left = None\n",
    "        self.right = None\n",
    "\n",
    "def postOrder(root):\n",
    "    # Given a binary tree, print the postorder traversal of given tree.\n",
    "    # Post-order traversal is: LeftChild RightChild Root\n",
    "    #############################\n",
    "    # PLEASE ADD YOUR CODE HERE #\n",
    "    #############################\n",
    "    if root == None:\n",
    "        return \n",
    "    postOrder(root.left)\n",
    "    postOrder(root.right)\n",
    "    print(root.data,end=\" \")\n",
    "\n",
    "def buildLevelTree(levelorder):\n",
    "    index = 0\n",
    "    length = len(levelorder)\n",
    "    if length<=0 or levelorder[0]==-1:\n",
    "        return None\n",
    "    root = BinaryTreeNode(levelorder[index])\n",
    "    index += 1\n",
    "    q = queue.Queue()\n",
    "    q.put(root)\n",
    "    while not q.empty():\n",
    "        currentNode = q.get()\n",
    "        leftChild = levelorder[index]\n",
    "        index += 1\n",
    "        if leftChild != -1:\n",
    "            leftNode = BinaryTreeNode(leftChild)\n",
    "            currentNode.left =leftNode\n",
    "            q.put(leftNode)\n",
    "        rightChild = levelorder[index]\n",
    "        index += 1\n",
    "        if rightChild != -1:\n",
    "            rightNode = BinaryTreeNode(rightChild)\n",
    "            currentNode.right =rightNode\n",
    "            q.put(rightNode)\n",
    "    return root\n",
    "\n",
    "# Main\n",
    "levelOrder = [int(i) for i in input().strip().split()]\n",
    "root = buildLevelTree(levelOrder)\n",
    "postOrder(root)"
   ]
  },
  {
   "cell_type": "markdown",
   "metadata": {},
   "source": [
    "# Quiz "
   ]
  },
  {
   "cell_type": "code",
   "execution_count": 3,
   "metadata": {},
   "outputs": [],
   "source": [
    "\"\"\"\n",
    "Print given tree level wise\n",
    "Alt text\n",
    "\n",
    "image here\n",
    "\n",
    " 1) 0 1 3 7 8 4 9 10 2 5 11 12 6 13 14\n",
    " 2) 0 1 2 3 4 5 6 7 8 9 10 11 12 13 14\n",
    " 3) 0 2 1 6 5 4 3 14 13 12 11 10 9 8 7\n",
    "ans is 2\n",
    "\"\"\"\n",
    "pass\n"
   ]
  },
  {
   "cell_type": "markdown",
   "metadata": {},
   "source": [
    "# Node With Largest Data"
   ]
  },
  {
   "cell_type": "code",
   "execution_count": 4,
   "metadata": {},
   "outputs": [
    {
     "name": "stdout",
     "output_type": "stream",
     "text": [
      "8\n",
      "3\n",
      "1\n",
      "-1\n",
      "-1\n",
      "6\n",
      "-1\n",
      "-1\n",
      "10\n",
      "-1\n",
      "-1\n",
      "8:L 3,R 10\n",
      "3:L 1,R 6\n",
      "1:\n",
      "6:\n",
      "10:\n"
     ]
    },
    {
     "data": {
      "text/plain": [
       "10"
      ]
     },
     "execution_count": 4,
     "metadata": {},
     "output_type": "execute_result"
    }
   ],
   "source": [
    "class BinaryTreeNode:\n",
    "    def __init__(self,data):\n",
    "        self.data = data\n",
    "        self.left = None\n",
    "        self.right = None\n",
    "\n",
    "    \n",
    "def printAgain(root):\n",
    "    if root == None:\n",
    "        return \n",
    "    print(root.data,end=\":\")\n",
    "    if root.left != None:\n",
    "        print(\"L\",root.left.data,end=\",\")\n",
    "    if root.right != None:\n",
    "        print(\"R\",root.right.data,end=\"\")\n",
    "    print()\n",
    "    printAgain(root.left)\n",
    "    printAgain(root.right)\n",
    "\n",
    "def printGratest(root):\n",
    "    if root == None:\n",
    "        return -1\n",
    "    leftChild = printGratest(root.left)\n",
    "    rightChild = printGratest(root.right)\n",
    "    result = max(leftChild,rightChild,root.data)\n",
    "    return result\n",
    "\n",
    "def treeInput():\n",
    "    rootData = int(input())\n",
    "    if rootData == -1:\n",
    "        return \n",
    "    \n",
    "    root = BinaryTreeNode(rootData)\n",
    "    leftTree = treeInput()\n",
    "    rightTree = treeInput()\n",
    "    root.left = leftTree\n",
    "    root.right = rightTree\n",
    "    return root\n",
    "root = treeInput()\n",
    "printAgain(root)\n",
    "printGratest(root)"
   ]
  },
  {
   "cell_type": "markdown",
   "metadata": {},
   "source": [
    "# Nodes Greater Than X"
   ]
  },
  {
   "cell_type": "code",
   "execution_count": 1,
   "metadata": {},
   "outputs": [
    {
     "name": "stdout",
     "output_type": "stream",
     "text": [
      "8 3 10 1 6 -1 14 -1 -1 4 7 13 -1 -1 -1 -1 -1 -1 -1\n",
      "8\n",
      "3\n"
     ]
    }
   ],
   "source": [
    "import queue\n",
    "class BinaryTreeNode:\n",
    "    def __init__(self, data):\n",
    "        self.data = data\n",
    "        self.left = None\n",
    "        self.right = None\n",
    "\n",
    "def countNodesGreaterThanX(root, x):\n",
    "    # Given a Binary Tree and an integer x, find and return the count of nodes\n",
    "    # which are having data greater than x.\n",
    "    #############################\n",
    "    # PLEASE ADD YOUR CODE HERE #\n",
    "    #############################\n",
    "    if root == None:\n",
    "        return 0\n",
    "    if root.data>x:\n",
    "        return 1+countNodesGreaterThanX(root.left,x)+countNodesGreaterThanX(root.right,x)\n",
    "    else:\n",
    "        return 0+countNodesGreaterThanX(root.left,x)+countNodesGreaterThanX(root.right,x)\n",
    "    \n",
    "\n",
    "def buildLevelTree(levelorder):\n",
    "    index = 0\n",
    "    length = len(levelorder)\n",
    "    if length<=0 or levelorder[0]==-1:\n",
    "        return None\n",
    "    root = BinaryTreeNode(levelorder[index])\n",
    "    index += 1\n",
    "    q = queue.Queue()\n",
    "    q.put(root)\n",
    "    while not q.empty():\n",
    "        currentNode = q.get()\n",
    "        leftChild = levelorder[index]\n",
    "        index += 1\n",
    "        if leftChild != -1:\n",
    "            leftNode = BinaryTreeNode(leftChild)\n",
    "            currentNode.left =leftNode\n",
    "            q.put(leftNode)\n",
    "        rightChild = levelorder[index]\n",
    "        index += 1\n",
    "        if rightChild != -1:\n",
    "            rightNode = BinaryTreeNode(rightChild)\n",
    "            currentNode.right =rightNode\n",
    "            q.put(rightNode)\n",
    "    return root\n",
    "\n",
    "# Main\n",
    "levelOrder = [int(i) for i in input().strip().split()]\n",
    "x=int(input())\n",
    "root = buildLevelTree(levelOrder)\n",
    "print(countNodesGreaterThanX(root, x))"
   ]
  },
  {
   "cell_type": "markdown",
   "metadata": {},
   "source": [
    "# Quiz"
   ]
  },
  {
   "cell_type": "code",
   "execution_count": 2,
   "metadata": {},
   "outputs": [],
   "source": [
    "\"\"\"\n",
    "The maximum and minimum number of nodes in a binary tree of height 6 are\n",
    "A tree with zero node has height 0 A tree with one node has height 1\n",
    "\n",
    "Options\n",
    "63 and 6, respectively \n",
    "64 and 5, respectively\n",
    "32 and 6, respectively\n",
    "31 and 5, respectively\n",
    "\n",
    "ans = 63 and 6\n",
    "\"\"\"\n",
    "pass"
   ]
  },
  {
   "cell_type": "markdown",
   "metadata": {},
   "source": [
    "# Height Of Tree"
   ]
  },
  {
   "cell_type": "code",
   "execution_count": 6,
   "metadata": {},
   "outputs": [
    {
     "name": "stdout",
     "output_type": "stream",
     "text": [
      "5\n",
      "2\n",
      "4\n",
      "-1\n",
      "-1\n",
      "-1\n",
      "3\n",
      "7\n",
      "9\n",
      "-1\n",
      "-1\n",
      "-1\n",
      "8\n",
      "-1\n",
      "-1\n",
      "5\n"
     ]
    }
   ],
   "source": [
    "#!/usr/bin/env python\n",
    "# coding: utf-8\n",
    "\n",
    "# In[ ]:\n",
    "\n",
    "\n",
    "import queue\n",
    "class BinaryTreeNode:\n",
    "    def __init__(self, data):\n",
    "        self.data = data\n",
    "        self.left = None\n",
    "        self.right = None\n",
    "\n",
    "def height(root):\n",
    "    # Find the Height Of Binary Tree\n",
    "    #############################\n",
    "    # PLEASE ADD YOUR CODE HERE #\n",
    "    #############################\n",
    "    if root == None:\n",
    "        return 0\n",
    "    left = height(root.left)+1\n",
    "    right = height(root.right)+1\n",
    "    m = max(left,right)\n",
    "    return m\n",
    "    \n",
    "\n",
    "def buildLevelTree():\n",
    "    \n",
    "    root = BinaryTreeNode(int(input()))\n",
    "    q = queue.Queue()\n",
    "    q.put(root)\n",
    "    while not q.empty():\n",
    "        currentNode = q.get()\n",
    "        leftChild = int(input())\n",
    "        if leftChild != -1:\n",
    "            leftNode = BinaryTreeNode(leftChild)\n",
    "            currentNode.left =leftNode\n",
    "            q.put(leftNode)\n",
    "        rightChild = int(input())\n",
    "        if rightChild != -1:\n",
    "            rightNode = BinaryTreeNode(rightChild)\n",
    "            currentNode.right =rightNode\n",
    "            q.put(rightNode)\n",
    "    return root\n",
    "\n",
    "# Main\n",
    "root = buildLevelTree()\n",
    "print(height(root))"
   ]
  },
  {
   "cell_type": "markdown",
   "metadata": {},
   "source": [
    "# Number Of Leaf Nodes"
   ]
  },
  {
   "cell_type": "code",
   "execution_count": 17,
   "metadata": {},
   "outputs": [
    {
     "name": "stdout",
     "output_type": "stream",
     "text": [
      "1\n",
      "2\n",
      "-1\n",
      "-1\n",
      "3\n",
      "4\n",
      "-1\n",
      "-1\n",
      "5\n",
      "-1\n",
      "-1\n",
      "1:L 2,R 3\n",
      "2:\n",
      "3:L 4,R 5\n",
      "4:\n",
      "5:\n",
      "Total no of leaf Nodes is : 3\n"
     ]
    }
   ],
   "source": [
    "class BinaryTreeNode:\n",
    "    def __init__(self,data):\n",
    "        self.data = data\n",
    "        self.left = None\n",
    "        self.right = None\n",
    "\n",
    "    \n",
    "def printAgain(root):\n",
    "    if root == None:\n",
    "        return \n",
    "    print(root.data,end=\":\")\n",
    "    if root.left != None:\n",
    "        print(\"L\",root.left.data,end=\",\")\n",
    "    if root.right != None:\n",
    "        print(\"R\",root.right.data,end=\"\")\n",
    "    print()\n",
    "    printAgain(root.left)\n",
    "    printAgain(root.right)\n",
    "    \n",
    "        \n",
    "def treeInput():\n",
    "    rootData = int(input())\n",
    "    if rootData == -1:\n",
    "        return \n",
    "    \n",
    "    root = BinaryTreeNode(rootData)\n",
    "    leftTree = treeInput()\n",
    "    rightTree = treeInput()\n",
    "    root.left = leftTree\n",
    "    root.right = rightTree\n",
    "    return root\n",
    "def numLeafNode(root):\n",
    "    if root == None:\n",
    "        return 0\n",
    "    if root.left == None and root.right==None:\n",
    "        return 1\n",
    "    l = numLeafNode(root.left)\n",
    "    r = numLeafNode(root.right)\n",
    "    return l+r\n",
    "\n",
    "root = treeInput()\n",
    "printAgain(root)\n",
    "print(\"Total no of leaf Nodes is :\",numLeafNode(root))\n"
   ]
  },
  {
   "cell_type": "markdown",
   "metadata": {},
   "source": [
    "# Print Nodes At Depth K"
   ]
  },
  {
   "cell_type": "code",
   "execution_count": 7,
   "metadata": {},
   "outputs": [
    {
     "name": "stdout",
     "output_type": "stream",
     "text": [
      "1\n",
      "2\n",
      "4\n",
      "-1\n",
      "-1\n",
      "5\n",
      "-1\n",
      "-1\n",
      "3\n",
      "6\n",
      "-1\n",
      "-1\n",
      "-1\n",
      "\n",
      "Nodes at k depth:4 5 6 "
     ]
    }
   ],
   "source": [
    "class BinaryTreeNode:\n",
    "    def __init__(self,data):\n",
    "        self.data = data\n",
    "        self.left = None\n",
    "        self.right = None\n",
    "\n",
    "    \n",
    "def printAgain(root):\n",
    "    if root == None:\n",
    "        return \n",
    "    print(root.data,end=\":\")\n",
    "    if root.left != None:\n",
    "        print(\"L\",root.left.data,end=\",\")\n",
    "    if root.right != None:\n",
    "        print(\"R\",root.right.data,end=\"\")\n",
    "    print()\n",
    "    printAgain(root.left)\n",
    "    printAgain(root.right)\n",
    "    \n",
    "        \n",
    "def treeInput():\n",
    "    rootData = int(input())\n",
    "    if rootData == -1:\n",
    "        return \n",
    "    \n",
    "    root = BinaryTreeNode(rootData)\n",
    "    leftTree = treeInput()\n",
    "    rightTree = treeInput()\n",
    "    root.left = leftTree\n",
    "    root.right = rightTree\n",
    "    return root\n",
    "def printNodeAtDepthK1(root,k):\n",
    "    if root == None:\n",
    "        return\n",
    "    if k==0:\n",
    "        print(root.data,end=\" \")\n",
    "        return\n",
    "    printNodeAtDepthK1(root.left,k-1)\n",
    "    printNodeAtDepthK1(root.right,k-1)\n",
    "\n",
    "def printNodeAtDepthK2(root,k,d=0):\n",
    "    if root == None:\n",
    "        return\n",
    "    if k==d:\n",
    "        print(root.data,end=\" \")\n",
    "        return\n",
    "    printNodeAtDepthK2(root.left,k,d+1)\n",
    "    printNodeAtDepthK2(root.right,k,d+1)\n",
    "\n",
    "root = treeInput()\n",
    "# printAgain(root)\n",
    "print()\n",
    "print(\"Nodes at k depth:\",end=\"\")\n",
    "# printNodeAtDepthK1(root,2)\n",
    "printNodeAtDepthK2(root,2)\n"
   ]
  },
  {
   "cell_type": "markdown",
   "metadata": {},
   "source": [
    "# Replace Node With Depth"
   ]
  },
  {
   "cell_type": "code",
   "execution_count": 8,
   "metadata": {},
   "outputs": [
    {
     "name": "stdout",
     "output_type": "stream",
     "text": [
      " 1 2 3 4 5 6 7 -1 -1 -1 -1 -1 -1 -1 -1\n",
      "2\n",
      "1\n",
      "2\n",
      "0\n",
      "2\n",
      "1\n",
      "2\n"
     ]
    }
   ],
   "source": [
    "#!/usr/bin/env python\n",
    "# coding: utf-8\n",
    "\n",
    "# In[ ]:\n",
    "\n",
    "\n",
    "import queue\n",
    "class BinaryTreeNode:\n",
    "    def __init__(self, data):\n",
    "        self.data = data\n",
    "        self.left = None\n",
    "        self.right = None\n",
    "\n",
    "def replaceWithDepth(root,level=0,d=0):\n",
    "    # Given a Binary Tree and an integer x, find and return the count of nodes\n",
    "    # which are having data greater than x.\n",
    "    #############################\n",
    "    # PLEASE ADD YOUR CODE HERE #\n",
    "    #############################\n",
    "    if root == None:\n",
    "        return\n",
    "    root.data=level\n",
    "    # print(root.data)\n",
    "    replaceWithDepth(root.left,level+1,d+1)\n",
    "    replaceWithDepth(root.right,level+1,d+1)\n",
    "    \n",
    "def inorder(root):\n",
    "    if root is None:\n",
    "        return\n",
    "    inorder(root.left)\n",
    "    print(root.data)\n",
    "    inorder(root.right)\n",
    "\n",
    "def buildLevelTree(levelorder):\n",
    "    index = 0\n",
    "    length = len(levelorder)\n",
    "    if length<=0 or levelorder[0]==-1:\n",
    "        return None\n",
    "    root = BinaryTreeNode(levelorder[index])\n",
    "    index += 1\n",
    "    q = queue.Queue()\n",
    "    q.put(root)\n",
    "    while not q.empty():\n",
    "        currentNode = q.get()\n",
    "        leftChild = levelorder[index]\n",
    "        index += 1\n",
    "        if leftChild != -1:\n",
    "            leftNode = BinaryTreeNode(leftChild)\n",
    "            currentNode.left =leftNode\n",
    "            q.put(leftNode)\n",
    "        rightChild = levelorder[index]\n",
    "        index += 1\n",
    "        if rightChild != -1:\n",
    "            rightNode = BinaryTreeNode(rightChild)\n",
    "            currentNode.right =rightNode\n",
    "            q.put(rightNode)\n",
    "    return root\n",
    "\n",
    "# Main\n",
    "levelOrder = [int(i) for i in input().strip().split()]\n",
    "root = buildLevelTree(levelOrder)\n",
    "replaceWithDepth(root)\n",
    "inorder(root)"
   ]
  },
  {
   "cell_type": "markdown",
   "metadata": {},
   "source": [
    "# Assignment"
   ]
  },
  {
   "cell_type": "markdown",
   "metadata": {},
   "source": [
    "# Is node present"
   ]
  },
  {
   "cell_type": "code",
   "execution_count": 10,
   "metadata": {},
   "outputs": [
    {
     "name": "stdout",
     "output_type": "stream",
     "text": [
      "1 2 -1 -1 3 -1 -1\n",
      "3\n",
      "true\n"
     ]
    }
   ],
   "source": [
    "import queue\n",
    "class BinaryTreeNode:\n",
    "    def __init__(self, data):\n",
    "        self.data = data\n",
    "        self.left = None\n",
    "        self.right = None\n",
    "\n",
    "def isNodePresent(root, x):\n",
    "    # Given a Binary Tree and an integer x, check if node with data x is present\n",
    "    # in the input binary tree or not. Return True or False.\n",
    "    #############################\n",
    "    # PLEASE ADD YOUR CODE HERE #\n",
    "    #############################\n",
    "    if root == None:\n",
    "        return False\n",
    "    if root.data==x:\n",
    "        return True\n",
    "    l=isNodePresent(root.left, x)\n",
    "    if l:\n",
    "        return True\n",
    "    r=isNodePresent(root.right, x)\n",
    "    return r\n",
    "    \n",
    "    \n",
    "def buildLevelTree(levelorder):\n",
    "    index = 0\n",
    "    length = len(levelorder)\n",
    "    if length<=0 or levelorder[0]==-1:\n",
    "        return None\n",
    "    root = BinaryTreeNode(levelorder[index])\n",
    "    index += 1\n",
    "    q = queue.Queue()\n",
    "    q.put(root)\n",
    "    while not q.empty():\n",
    "        currentNode = q.get()\n",
    "        leftChild = levelorder[index]\n",
    "        index += 1\n",
    "        if leftChild != -1:\n",
    "            leftNode = BinaryTreeNode(leftChild)\n",
    "            currentNode.left =leftNode\n",
    "            q.put(leftNode)\n",
    "        rightChild = levelorder[index]\n",
    "        index += 1\n",
    "        if rightChild != -1:\n",
    "            rightNode = BinaryTreeNode(rightChild)\n",
    "            currentNode.right =rightNode\n",
    "            q.put(rightNode)\n",
    "    return root\n",
    "\n",
    "# Main\n",
    "levelOrder = [int(i) for i in input().strip().split()]\n",
    "root = buildLevelTree(levelOrder)\n",
    "x=int(input())\n",
    "present=isNodePresent(root, x)\n",
    "if present:\n",
    "    print('true')\n",
    "else:\n",
    "    print('false')"
   ]
  },
  {
   "cell_type": "markdown",
   "metadata": {},
   "source": [
    "# Nodes without sibling"
   ]
  },
  {
   "cell_type": "code",
   "execution_count": 11,
   "metadata": {},
   "outputs": [
    {
     "name": "stdout",
     "output_type": "stream",
     "text": [
      "1 2 -1 -1 3 -1 -1\n",
      "2\n",
      "3\n"
     ]
    }
   ],
   "source": [
    "import queue\n",
    "class BinaryTreeNode:\n",
    "    def __init__(self, data):\n",
    "        self.data = data\n",
    "        self.left = None\n",
    "        self.right = None\n",
    "\n",
    "def nodesWithoutSibling(root):\n",
    "    # Given a binary tree, print all nodes that don’t have a sibling. Print the\n",
    "    # elements in different lines. And order of elements doesn't matter.\n",
    "    #############################\n",
    "    # PLEASE ADD YOUR CODE HERE #\n",
    "    #############################\n",
    "    if root==None:\n",
    "        return \n",
    "    if root.left!=None and root.right!=None:\n",
    "    \tnodesWithoutSibling(root.left)\n",
    "    \tnodesWithoutSibling(root.right)\n",
    "    elif root.left is not None:\n",
    "        print(root.left.data)\n",
    "        nodesWithoutSibling(root.left)\n",
    "    elif root.right is not None:\n",
    "        print(root.right.data)\n",
    "        nodesWithoutSibling(root.right)\n",
    "    \n",
    "\n",
    "def buildLevelTree(levelorder):\n",
    "    index = 0\n",
    "    length = len(levelorder)\n",
    "    if length<=0 or levelorder[0]==-1:\n",
    "        return None\n",
    "    root = BinaryTreeNode(levelorder[index])\n",
    "    index += 1\n",
    "    q = queue.Queue()\n",
    "    q.put(root)\n",
    "    while not q.empty():\n",
    "        currentNode = q.get()\n",
    "        leftChild = levelorder[index]\n",
    "        index += 1\n",
    "        if leftChild != -1:\n",
    "            leftNode = BinaryTreeNode(leftChild)\n",
    "            currentNode.left =leftNode\n",
    "            q.put(leftNode)\n",
    "        rightChild = levelorder[index]\n",
    "        index += 1\n",
    "        if rightChild != -1:\n",
    "            rightNode = BinaryTreeNode(rightChild)\n",
    "            currentNode.right =rightNode\n",
    "            q.put(rightNode)\n",
    "    return root\n",
    "\n",
    "# Main\n",
    "levelOrder = [int(i) for i in input().strip().split()]\n",
    "root = buildLevelTree(levelOrder)\n",
    "nodesWithoutSibling(root)"
   ]
  },
  {
   "cell_type": "code",
   "execution_count": null,
   "metadata": {},
   "outputs": [],
   "source": [
    "end"
   ]
  }
 ],
 "metadata": {
  "kernelspec": {
   "display_name": "Python 3",
   "language": "python",
   "name": "python3"
  },
  "language_info": {
   "codemirror_mode": {
    "name": "ipython",
    "version": 3
   },
   "file_extension": ".py",
   "mimetype": "text/x-python",
   "name": "python",
   "nbconvert_exporter": "python",
   "pygments_lexer": "ipython3",
   "version": "3.7.4"
  }
 },
 "nbformat": 4,
 "nbformat_minor": 4
}
