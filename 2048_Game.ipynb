{
 "cells": [
  {
   "cell_type": "code",
   "execution_count": 4,
   "metadata": {},
   "outputs": [
    {
     "ename": "ModuleNotFoundError",
     "evalue": "No module named 'Tkinter'",
     "output_type": "error",
     "traceback": [
      "\u001b[1;31m---------------------------------------------------------------------------\u001b[0m",
      "\u001b[1;31mModuleNotFoundError\u001b[0m                       Traceback (most recent call last)",
      "\u001b[1;32m<ipython-input-4-6203604854aa>\u001b[0m in \u001b[0;36m<module>\u001b[1;34m\u001b[0m\n\u001b[1;32m----> 1\u001b[1;33m \u001b[1;32mfrom\u001b[0m \u001b[0mTkinter\u001b[0m \u001b[1;32mimport\u001b[0m \u001b[0mFrame\u001b[0m\u001b[1;33m,\u001b[0m \u001b[0mLabel\u001b[0m\u001b[1;33m,\u001b[0m \u001b[0mCENTER\u001b[0m\u001b[1;33m\u001b[0m\u001b[1;33m\u001b[0m\u001b[0m\n\u001b[0m\u001b[0;32m      2\u001b[0m \u001b[1;33m\u001b[0m\u001b[0m\n\u001b[0;32m      3\u001b[0m \u001b[1;32mimport\u001b[0m \u001b[0mGameLogic\u001b[0m\u001b[1;33m\u001b[0m\u001b[1;33m\u001b[0m\u001b[0m\n\u001b[0;32m      4\u001b[0m \u001b[1;32mimport\u001b[0m \u001b[0mGameConstants\u001b[0m \u001b[1;32mas\u001b[0m \u001b[0mc\u001b[0m\u001b[1;33m\u001b[0m\u001b[1;33m\u001b[0m\u001b[0m\n\u001b[0;32m      5\u001b[0m \u001b[1;33m\u001b[0m\u001b[0m\n",
      "\u001b[1;31mModuleNotFoundError\u001b[0m: No module named 'Tkinter'"
     ]
    }
   ],
   "source": [
    "from Tkinter import Frame, Label, CENTER\n",
    "\n",
    "import GameLogic\n",
    "import GameConstants as c\n",
    "\n",
    "\n",
    "class Game2048(Frame):\n",
    "    def __init__(self):\n",
    "        Frame.__init__(self)\n",
    "\n",
    "        self.grid()\n",
    "        self.master.title('2048')\n",
    "        self.master.bind(\"<Key>\", self.key_down)\n",
    "        self.commands = {c.KEY_UP: LogicsFinal.move_up, c.KEY_DOWN: LogicsFinal.move_down,\n",
    "                         c.KEY_LEFT: LogicsFinal.move_left, c.KEY_RIGHT: LogicsFinal.move_right\n",
    "                        }\n",
    "        \n",
    "        self.grid_cells = []\n",
    "        self.init_grid()\n",
    "        self.init_matrix()\n",
    "        self.update_grid_cells()\n",
    "\n",
    "        self.mainloop()\n",
    "\n",
    "    def init_grid(self):\n",
    "        background = Frame(self, bg=c.BACKGROUND_COLOR_GAME,\n",
    "                           width=c.SIZE, height=c.SIZE)\n",
    "        background.grid()\n",
    "\n",
    "        for i in range(c.GRID_LEN):\n",
    "            grid_row = []\n",
    "            for j in range(c.GRID_LEN):\n",
    "                cell = Frame(background, bg=c.BACKGROUND_COLOR_CELL_EMPTY,\n",
    "                             width=c.SIZE / c.GRID_LEN,\n",
    "                             height=c.SIZE / c.GRID_LEN)\n",
    "                cell.grid(row=i, column=j, padx=c.GRID_PADDING,\n",
    "                          pady=c.GRID_PADDING)\n",
    "                t = Label(master=cell, text=\"\",\n",
    "                          bg=c.BACKGROUND_COLOR_CELL_EMPTY,\n",
    "                          justify=CENTER, font=c.FONT, width=5, height=2)\n",
    "                t.grid()\n",
    "                grid_row.append(t)\n",
    "\n",
    "            self.grid_cells.append(grid_row)\n",
    "\n",
    "\n",
    "    def init_matrix(self):\n",
    "        self.matrix = LogicsFinal.start_game()\n",
    "        LogicsFinal.add_new_2(self.matrix)\n",
    "        LogicsFinal.add_new_2(self.matrix)\n",
    "\n",
    "    def update_grid_cells(self):\n",
    "        for i in range(c.GRID_LEN):\n",
    "            for j in range(c.GRID_LEN):\n",
    "                new_number = self.matrix[i][j]\n",
    "                if new_number == 0:\n",
    "                    self.grid_cells[i][j].configure(\n",
    "                        text=\"\", bg=c.BACKGROUND_COLOR_CELL_EMPTY)\n",
    "                else:\n",
    "                    self.grid_cells[i][j].configure(text=str(\n",
    "                        new_number), bg=c.BACKGROUND_COLOR_DICT[new_number],\n",
    "                        fg=c.CELL_COLOR_DICT[new_number])\n",
    "        self.update_idletasks()\n",
    "\n",
    "    def key_down(self, event):\n",
    "        key = repr(event.char)\n",
    "        if key in self.commands:\n",
    "            self.matrix, changed = self.commands[repr(event.char)](self.matrix)\n",
    "            if changed:\n",
    "                LogicsFinal.add_new_2(self.matrix)\n",
    "                self.update_grid_cells()\n",
    "                changed = False\n",
    "                if LogicsFinal.get_current_state(self.matrix) == 'WON':\n",
    "                    self.grid_cells[1][1].configure(\n",
    "                        text=\"You\", bg=c.BACKGROUND_COLOR_CELL_EMPTY)\n",
    "                    self.grid_cells[1][2].configure(\n",
    "                        text=\"Win!\", bg=c.BACKGROUND_COLOR_CELL_EMPTY)\n",
    "                if LogicsFinal.get_current_state(self.matrix) == 'LOST':\n",
    "                    self.grid_cells[1][1].configure(\n",
    "                        text=\"You\", bg=c.BACKGROUND_COLOR_CELL_EMPTY)\n",
    "                    self.grid_cells[1][2].configure(\n",
    "                        text=\"Lose!\", bg=c.BACKGROUND_COLOR_CELL_EMPTY)\n",
    "\n",
    "\n",
    "\n",
    "gamegrid = Game2048()"
   ]
  },
  {
   "cell_type": "code",
   "execution_count": 5,
   "metadata": {},
   "outputs": [
    {
     "name": "stdout",
     "output_type": "stream",
     "text": [
      "Note: you may need to restart the kernel to use updated packages.\n"
     ]
    },
    {
     "name": "stderr",
     "output_type": "stream",
     "text": [
      "ERROR: Could not find a version that satisfies the requirement Tkinter (from versions: none)\n",
      "ERROR: No matching distribution found for Tkinter\n",
      "WARNING: You are using pip version 20.2.1; however, version 20.2.2 is available.\n",
      "You should consider upgrading via the 'c:\\users\\ajay\\appdata\\local\\programs\\python\\python37\\python.exe -m pip install --upgrade pip' command.\n"
     ]
    }
   ],
   "source": [
    "pip install Tkinter"
   ]
  },
  {
   "cell_type": "code",
   "execution_count": null,
   "metadata": {},
   "outputs": [],
   "source": []
  }
 ],
 "metadata": {
  "kernelspec": {
   "display_name": "Python 3",
   "language": "python",
   "name": "python3"
  },
  "language_info": {
   "codemirror_mode": {
    "name": "ipython",
    "version": 3
   },
   "file_extension": ".py",
   "mimetype": "text/x-python",
   "name": "python",
   "nbconvert_exporter": "python",
   "pygments_lexer": "ipython3",
   "version": "3.7.4"
  }
 },
 "nbformat": 4,
 "nbformat_minor": 4
}
