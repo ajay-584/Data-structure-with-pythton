{
 "cells": [
  {
   "cell_type": "markdown",
   "metadata": {},
   "source": [
    "# Basic inhertance"
   ]
  },
  {
   "cell_type": "code",
   "execution_count": 6,
   "metadata": {},
   "outputs": [],
   "source": [
    "class Vehicle:\n",
    "    def __init__(self,color,maxSpeed):\n",
    "        self.color=color\n",
    "        self.maxSpeed=maxSpeed\n",
    "        "
   ]
  },
  {
   "cell_type": "code",
   "execution_count": 7,
   "metadata": {},
   "outputs": [],
   "source": [
    "class Car(Vehicle):\n",
    "    def __init__(self,color,maxSpeed,numGears,isConvertable):\n",
    "        super().__init__(color,maxSpeed)\n",
    "        self.numGears=numGears\n",
    "        self.isConvertable=isConvertable\n",
    "    def printCar(self):\n",
    "        print(\"color :\",self.color)\n",
    "        print(\"maxSpeed :\",self.maxSpeed)\n",
    "        print(\"numGear :\",self.numGears)\n",
    "        print(\"isConvertable :\",self.isConvertable)"
   ]
  },
  {
   "cell_type": "code",
   "execution_count": 12,
   "metadata": {},
   "outputs": [
    {
     "name": "stdout",
     "output_type": "stream",
     "text": [
      "color : red\n",
      "maxSpeed : 15\n",
      "numGear : 7\n",
      "isConvertable : False\n"
     ]
    }
   ],
   "source": [
    "c=Car(\"red\",15,7,False)\n",
    "c.printCar()"
   ]
  },
  {
   "cell_type": "markdown",
   "metadata": {},
   "source": [
    "# Inheritance And Private Members"
   ]
  },
  {
   "cell_type": "code",
   "execution_count": 31,
   "metadata": {},
   "outputs": [],
   "source": [
    "class Vehicle:\n",
    "    def __init__(self,color,maxSpeed):\n",
    "        self.color=color\n",
    "        self.__maxSpeed=maxSpeed\n",
    "    def getmaxSpeed(self):\n",
    "        return self.__maxSpeed\n",
    "    def setmaxSpeed(slef,maxSpedd):\n",
    "        self.__maxSpeed=maxSpeed\n",
    "    def printv(self):\n",
    "        print(\"color :\",self.color)\n",
    "        print(\"maxSpeed :\",self.__maxSpeed)\n",
    "        "
   ]
  },
  {
   "cell_type": "code",
   "execution_count": 32,
   "metadata": {},
   "outputs": [],
   "source": [
    "class Car(Vehicle):\n",
    "    def __init__(self,color,maxSpeed,numGears,isConvertable):\n",
    "        super().__init__(color,maxSpeed)\n",
    "        self.numGears=numGears\n",
    "        self.isConvertable=isConvertable\n",
    "    def printCar(self):\n",
    "        super().printv()\n",
    "#         self.printv()  # we can use it also\n",
    "#         print(\"color :\",self.color)\n",
    "#         print(\"maxSpeed :\",self.getmaxSpeed())\n",
    "        print(\"numGear :\",self.numGears)\n",
    "        print(\"isConvertable :\",self.isConvertable)"
   ]
  },
  {
   "cell_type": "code",
   "execution_count": 33,
   "metadata": {},
   "outputs": [
    {
     "name": "stdout",
     "output_type": "stream",
     "text": [
      "color : red\n",
      "maxSpeed : 15\n",
      "numGear : 7\n",
      "isConvertable : False\n"
     ]
    }
   ],
   "source": [
    " c=Car(\"red\",15,7,False)\n",
    "c.printCar()"
   ]
  },
  {
   "cell_type": "markdown",
   "metadata": {},
   "source": [
    "# Polymorphism"
   ]
  },
  {
   "cell_type": "code",
   "execution_count": 57,
   "metadata": {},
   "outputs": [],
   "source": [
    "class Vehicle:\n",
    "    def __init__(self,color,maxSpeed):\n",
    "        self.color=color\n",
    "        self.__maxSpeed=maxSpeed\n",
    "    def getmaxSpeed(self):\n",
    "        return self.__maxSpeed\n",
    "    def setmaxSpeed(slef,maxSpedd):\n",
    "        self.__maxSpeed=maxSpeed\n",
    "    def printv(self):\n",
    "        print(\"color :\",self.color)\n",
    "        print(\"maxSpeed :\",self.__maxSpeed)\n",
    "        "
   ]
  },
  {
   "cell_type": "code",
   "execution_count": 62,
   "metadata": {},
   "outputs": [],
   "source": [
    "class Car(Vehicle):\n",
    "    def __init__(self,color,maxSpeed,numGears,isConvertable):\n",
    "        super().__init__(color,maxSpeed)\n",
    "        self.numGears=numGears\n",
    "        self.isConvertable=isConvertable\n",
    "    def printv(self):\n",
    "        super().printv()\n",
    "#         self.printv()  # we can use it also\n",
    "#         print(\"color :\",self.color)\n",
    "#         print(\"maxSpeed :\",self.getmaxSpeed())\n",
    "        print(\"numGear :\",self.numGears)\n",
    "        print(\"isConvertable :\",self.isConvertable)"
   ]
  },
  {
   "cell_type": "code",
   "execution_count": 63,
   "metadata": {},
   "outputs": [
    {
     "name": "stdout",
     "output_type": "stream",
     "text": [
      "color : red\n",
      "maxSpeed : 15\n",
      "numGear : 7\n",
      "isConvertable : False\n"
     ]
    }
   ],
   "source": [
    "c=Car(\"red\",15,7,False)\n",
    "c.printv()"
   ]
  },
  {
   "cell_type": "markdown",
   "metadata": {},
   "source": [
    "# Protected Members"
   ]
  },
  {
   "cell_type": "code",
   "execution_count": 65,
   "metadata": {},
   "outputs": [
    {
     "name": "stdout",
     "output_type": "stream",
     "text": [
      "Color : red\n",
      "MaxSpeed : 18\n",
      "\n",
      "15\n",
      "Color : red\n",
      "MaxSpeed : 19\n"
     ]
    }
   ],
   "source": [
    "\n",
    "\n",
    "class Vehicle:\n",
    "\n",
    "\tdef __init__(self,color,maxSpeed):\n",
    "\t\tself.color = color\n",
    "\t\tself._maxSpeed = maxSpeed\n",
    "\n",
    "\t@classmethod\n",
    "\tdef getMaxSpeed(cls):\n",
    "\t\treturn 15\n",
    "\n",
    "\tdef setMaxSpeed(self,maxSpeed):\n",
    "\t\tself._maxSpeed = maxSpeed\n",
    "\n",
    "\tdef print(self):\n",
    "\t\tprint(\"Color :\" ,self.color)\n",
    "\t\tprint(\"MaxSpeed :\",self._maxSpeed)\n",
    "\n",
    "class Car(Vehicle):\n",
    "\n",
    "\tdef __init__(self,color,maxSpeed,numGears,isConvertible):\n",
    "\n",
    "\t\tsuper().__init__(color,maxSpeed)\n",
    "\t\tself.numGears = numGears\n",
    "\t\tself.isConvertible = isConvertible\n",
    "\n",
    "\tdef print(self):\n",
    "\t\t# super().print()\n",
    "\t\tprint(\"Color :\" ,self.color)\n",
    "\t\tprint(\"MaxSpeed :\",self._maxSpeed)\n",
    "\t\tprint(\"NumGears :\",self.numGears)\n",
    "\t\tprint(\"IsConvertible :\", self.isConvertible)\n",
    "\n",
    "\n",
    "# c = Car(\"red\",15,3,False)\n",
    "# c.print()\n",
    "#print()\n",
    "v = Vehicle(\"red\",18)\n",
    "v.print()\n",
    "print()\n",
    "v._maxSpeed = 19\n",
    "get = v.getMaxSpeed()\n",
    "print(get)\n",
    "v.print()"
   ]
  },
  {
   "cell_type": "markdown",
   "metadata": {},
   "source": [
    "# Object Class"
   ]
  },
  {
   "cell_type": "code",
   "execution_count": 66,
   "metadata": {},
   "outputs": [],
   "source": [
    "# There are three object class \n",
    "# 1 __new__\n",
    "# 2 __init__\n",
    "# 3 __str__"
   ]
  },
  {
   "cell_type": "code",
   "execution_count": 81,
   "metadata": {},
   "outputs": [],
   "source": [
    "class Circle(object):  # It is same like class circle:\n",
    "    def __init__(self,r):\n",
    "        self.r=r\n",
    "    def __str__(self):\n",
    "        return \"This is a circle class r is taken radus of circle.\"\n",
    "        "
   ]
  },
  {
   "cell_type": "code",
   "execution_count": 82,
   "metadata": {},
   "outputs": [
    {
     "name": "stdout",
     "output_type": "stream",
     "text": [
      "This is a circle class r is taken radus of circle.\n"
     ]
    }
   ],
   "source": [
    "c = Circle(5)\n",
    "print(c)"
   ]
  },
  {
   "cell_type": "markdown",
   "metadata": {},
   "source": [
    "# Multiple Inheritance"
   ]
  },
  {
   "cell_type": "code",
   "execution_count": 89,
   "metadata": {},
   "outputs": [],
   "source": [
    "class Mother:\n",
    "    def __init__(self):\n",
    "        self.name=\"Manju\"\n",
    "    def print(self):\n",
    "        print(\"print of mother called\")"
   ]
  },
  {
   "cell_type": "code",
   "execution_count": 90,
   "metadata": {},
   "outputs": [],
   "source": [
    "class Father:\n",
    "    def __init__(self):\n",
    "        self.name=\"Ajay\"\n",
    "    def print(self):\n",
    "        print(\"print of father called\")"
   ]
  },
  {
   "cell_type": "code",
   "execution_count": 91,
   "metadata": {},
   "outputs": [],
   "source": [
    "class Child(Mother,Father):\n",
    "    def __init__(self):\n",
    "        super().__init__()\n",
    "    def printchild(self):\n",
    "        print(\"name of child is :\",self.name)"
   ]
  },
  {
   "cell_type": "code",
   "execution_count": 92,
   "metadata": {},
   "outputs": [
    {
     "name": "stdout",
     "output_type": "stream",
     "text": [
      "print of mother called\n"
     ]
    }
   ],
   "source": [
    "c=Child()\n",
    "c.print()"
   ]
  },
  {
   "cell_type": "code",
   "execution_count": 93,
   "metadata": {},
   "outputs": [
    {
     "name": "stdout",
     "output_type": "stream",
     "text": [
      "name of child is : Manju\n"
     ]
    }
   ],
   "source": [
    "c.printchild()"
   ]
  },
  {
   "cell_type": "markdown",
   "metadata": {},
   "source": [
    "# Method Resolution Order"
   ]
  },
  {
   "cell_type": "code",
   "execution_count": 11,
   "metadata": {},
   "outputs": [
    {
     "name": "stdout",
     "output_type": "stream",
     "text": [
      "name of child is : Ajay\n",
      "[<class '__main__.Child'>, <class '__main__.Mother'>, <class '__main__.Father'>, <class 'object'>]\n"
     ]
    }
   ],
   "source": [
    "class Mother:\n",
    "    def __init__(self):\n",
    "        self.name=\"Manju\"\n",
    "        super().__init__()\n",
    "    def print(self):\n",
    "        print(\"print of mother called\")\n",
    "class Father:\n",
    "    def __init__(self):\n",
    "        self.name=\"Ajay\"\n",
    "    def print(self):\n",
    "        print(\"print of father called\")\n",
    "class Child(Mother,Father):\n",
    "    def __init__(self):\n",
    "        super().__init__()\n",
    "    def print(self):\n",
    "        print(\"name of child is :\",self.name)\n",
    "c=Child()\n",
    "c.print()\n",
    "print(Child.mro())"
   ]
  },
  {
   "cell_type": "markdown",
   "metadata": {},
   "source": [
    "# Operator Overloading"
   ]
  },
  {
   "cell_type": "code",
   "execution_count": 15,
   "metadata": {},
   "outputs": [
    {
     "name": "stdout",
     "output_type": "stream",
     "text": [
      "This point at (5,7)\n",
      "False\n"
     ]
    }
   ],
   "source": [
    "import math\n",
    "class Point:\n",
    "    def __init__(self,x,y):\n",
    "        self.__x=x\n",
    "        self.__y=y\n",
    "    def __str__(self):\n",
    "        return \"This point at (\"+str(self.__x)+\",\"+str(self.__y)+\")\"\n",
    "    def __add__(self,point_object):\n",
    "        return Point(self.__x+point_object.__x,self.__y+point_object.__y)\n",
    "    def __lt__(self,point_object):\n",
    "        return math.sqrt(self.__x**2+self.__y**2) < math.sqrt(point_object.__x**2+point_object.__y**2)\n",
    "p1=Point(1,2)\n",
    "p2=Point(4,5)\n",
    "p3=p1+p2\n",
    "print(p3)\n",
    "print(p1>p2)\n",
    "        "
   ]
  },
  {
   "cell_type": "code",
   "execution_count": null,
   "metadata": {},
   "outputs": [],
   "source": []
  }
 ],
 "metadata": {
  "kernelspec": {
   "display_name": "Python 3",
   "language": "python",
   "name": "python3"
  },
  "language_info": {
   "codemirror_mode": {
    "name": "ipython",
    "version": 3
   },
   "file_extension": ".py",
   "mimetype": "text/x-python",
   "name": "python",
   "nbconvert_exporter": "python",
   "pygments_lexer": "ipython3",
   "version": "3.7.4"
  }
 },
 "nbformat": 4,
 "nbformat_minor": 4
}
