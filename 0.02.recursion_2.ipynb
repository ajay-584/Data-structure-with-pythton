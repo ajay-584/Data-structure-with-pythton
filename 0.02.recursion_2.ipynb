{
 "cells": [
  {
   "cell_type": "markdown",
   "metadata": {},
   "source": [
    "# String in recusion"
   ]
  },
  {
   "cell_type": "code",
   "execution_count": 5,
   "metadata": {},
   "outputs": [
    {
     "name": "stdout",
     "output_type": "stream",
     "text": [
      "xxxxxxxxxxxxxxxxxxxxxxxxxxxx\n"
     ]
    }
   ],
   "source": [
    "def replaceChar(s,a,b):\n",
    "    if len(s)==0:\n",
    "        return s\n",
    "    output=replaceChar(s[1:],a,b)\n",
    "    if s[0]==a:\n",
    "        return b+output\n",
    "    else:\n",
    "        return s[0]+output\n",
    "s=\"ffffffffffffffffffffffffffff\"\n",
    "a=\"f\"\n",
    "b=\"x\"\n",
    "print(replaceChar(s,a,b))"
   ]
  },
  {
   "cell_type": "code",
   "execution_count": 7,
   "metadata": {},
   "outputs": [
    {
     "name": "stdout",
     "output_type": "stream",
     "text": [
      "hgxxxxxxxxxxxxxhgfhkgk\n",
      "hghgfhkgk\n"
     ]
    }
   ],
   "source": [
    "# Problem: Remove x from string\n",
    "def removeX(s): \n",
    "    if len(s)==0:\n",
    "        return s\n",
    "    output=removeX(s[1:])\n",
    "    if s[0]=='x':\n",
    "        return \"\"+output\n",
    "    else:\n",
    "        return s[0]+output\n",
    "\n",
    "# Main\n",
    "string = input()\n",
    "print(removeX(string))"
   ]
  },
  {
   "cell_type": "code",
   "execution_count": 8,
   "metadata": {},
   "outputs": [
    {
     "data": {
      "text/plain": [
       "'alskdfj 3.14 alksdjf app3.14'"
      ]
     },
     "execution_count": 8,
     "metadata": {},
     "output_type": "execute_result"
    }
   ],
   "source": [
    "# Problem: Replace pi with 3.14\n",
    "def replacePi(s):\n",
    "    if len(s)==0 or len(s)==1:\n",
    "        return s\n",
    "    if s[0]=='p' and s[1]=='i':\n",
    "        output=replacePi(s[2:])\n",
    "        return '3.14'+output\n",
    "    else:\n",
    "        output=replacePi(s[1:])\n",
    "        return s[0]+output\n",
    "replacePi(\"alskdfj pi alksdjf apppi\")"
   ]
  },
  {
   "cell_type": "code",
   "execution_count": 9,
   "metadata": {},
   "outputs": [
    {
     "name": "stdout",
     "output_type": "stream",
     "text": [
      "aalkdfjkkk\n",
      "alkdfjk\n"
     ]
    }
   ],
   "source": [
    "# Problem ID 91, removeConsecutiveDuplicates\n",
    "def removeConsecutiveDuplicates(s):\n",
    "    # Please add your code heret\n",
    "    if len(s)==0 or len(s)==1:\n",
    "        return s\n",
    "    output=removeConsecutiveDuplicates(s[1:])\n",
    "    if s[0]==s[1]:\n",
    "        return \"\"+output\n",
    "    else:\n",
    "        return s[0]+output\n",
    "\n",
    "# Main\n",
    "string = input().strip()\n",
    "print(removeConsecutiveDuplicates(string))"
   ]
  },
  {
   "cell_type": "markdown",
   "metadata": {},
   "source": [
    "# Binary Search by suing recursion"
   ]
  },
  {
   "cell_type": "code",
   "execution_count": 11,
   "metadata": {},
   "outputs": [
    {
     "name": "stdout",
     "output_type": "stream",
     "text": [
      "6\n"
     ]
    }
   ],
   "source": [
    "def BinarySearch(a,x,si,ei):\n",
    "    if si>ei:\n",
    "        return -1\n",
    "    mid=(si+ei)//2\n",
    "    if a[mid]==x:\n",
    "        return mid\n",
    "    elif a[mid]<x:\n",
    "        return BinarySearch(a,x,mid+1,ei)\n",
    "    else:\n",
    "        return BinarySearch(a,x,si,mid-1)\n",
    "print(BinarySearch([1,2,3,4,5,6,7],7,0,7))"
   ]
  },
  {
   "cell_type": "markdown",
   "metadata": {},
   "source": [
    "Binary Search without recusion"
   ]
  },
  {
   "cell_type": "code",
   "execution_count": 14,
   "metadata": {},
   "outputs": [
    {
     "name": "stdout",
     "output_type": "stream",
     "text": [
      "3 2\n"
     ]
    }
   ],
   "source": [
    "def BinarySearch(a,x,n):\n",
    "    si=0\n",
    "    while(si<n):\n",
    "        mid=(si+n)//2\n",
    "        if a[mid]==x:\n",
    "            print(a[mid],mid)\n",
    "            break\n",
    "        elif a[mid]<x:\n",
    "            si=mid+1\n",
    "        else:\n",
    "            n=mid-1\n",
    "    else:\n",
    "        print(-1)\n",
    "BinarySearch([1,2,3,4],3,4)"
   ]
  },
  {
   "cell_type": "markdown",
   "metadata": {},
   "source": [
    "# Sorting Algo"
   ]
  },
  {
   "cell_type": "markdown",
   "metadata": {},
   "source": [
    "Bubble sort"
   ]
  },
  {
   "cell_type": "code",
   "execution_count": 22,
   "metadata": {},
   "outputs": [
    {
     "name": "stdout",
     "output_type": "stream",
     "text": [
      "[0, 1, 6, 12, 22, 24, 45, 56]\n"
     ]
    }
   ],
   "source": [
    "def b_sort(a):\n",
    "    for i in range(len(a)):\n",
    "        for j in range(len(a)):\n",
    "            if a[i]<a[j] and i!=j:\n",
    "                temp=a[i]\n",
    "                a[i]=a[j]\n",
    "                a[j]=temp\n",
    "def b_sort1(a):\n",
    "    l=len(a)\n",
    "    si=0\n",
    "    while(si<l):\n",
    "        sj=0\n",
    "        while(sj<l):\n",
    "            if a[si]<a[sj] and si!=sj:\n",
    "                a[si],a[sj]=a[sj],a[si]\n",
    "            sj+=1\n",
    "        si+=1\n",
    "a=[12,45,1,56,24,0,6,22]\n",
    "b_sort1(a)\n",
    "print(a)"
   ]
  },
  {
   "cell_type": "markdown",
   "metadata": {},
   "source": [
    "Bubble sort using recusion"
   ]
  },
  {
   "cell_type": "code",
   "execution_count": 20,
   "metadata": {},
   "outputs": [
    {
     "name": "stdout",
     "output_type": "stream",
     "text": [
      "[0, 1, 6, 12, 22, 24, 45, 56]\n"
     ]
    }
   ],
   "source": [
    "def b_sort2(a):\n",
    "    count=0\n",
    "    for i in range(len(a)-1):\n",
    "        if a[i]>a[i+1]:\n",
    "            a[i],a[i+1]=a[i+1],a[i]\n",
    "            count +=1\n",
    "    if count==0:\n",
    "        return a\n",
    "    else:\n",
    "        return b_sort2(a)\n",
    "a=[12,45,1,56,24,0,6,22]\n",
    "b_sort2(a)\n",
    "print(a)"
   ]
  },
  {
   "cell_type": "markdown",
   "metadata": {},
   "source": [
    "Selection sort"
   ]
  },
  {
   "cell_type": "code",
   "execution_count": 3,
   "metadata": {},
   "outputs": [
    {
     "name": "stdout",
     "output_type": "stream",
     "text": [
      "[1, 4, 2, 5, 3]\n",
      "[1, 2, 4, 5, 3]\n",
      "[1, 2, 3, 5, 4]\n",
      "[1, 2, 3, 4, 5]\n",
      "[1, 2, 3, 4, 5]\n"
     ]
    }
   ],
   "source": [
    "def sel_sort1(a):\n",
    "    for i in range(len(a)-1):\n",
    "        min_pos=i\n",
    "        for j in range(i+1,len(a)):\n",
    "            if a[j]<a[min_pos]:\n",
    "                min_pos=j\n",
    "#                 print(min_pos,end=\" \")\n",
    "        a[i],a[min_pos]=a[min_pos],a[i]\n",
    "        print(a)\n",
    "def sel_sort(a):\n",
    "    n=len(a)\n",
    "    i=0\n",
    "    while(i<n-1):\n",
    "        min_index=i\n",
    "        j=i+1\n",
    "        while(j<n):\n",
    "            if a[j]<a[min_index]:\n",
    "                min_index=j\n",
    "                print(min_index,end=\" \")\n",
    "            j+=1\n",
    "        a[min_index],a[i]=a[i],a[min_index]\n",
    "        i+=1\n",
    "a=[3,4,2,5,1]\n",
    "# sel_sort(a)\n",
    "sel_sort1(a)\n",
    "print(a)"
   ]
  },
  {
   "cell_type": "code",
   "execution_count": 19,
   "metadata": {},
   "outputs": [
    {
     "name": "stdout",
     "output_type": "stream",
     "text": [
      "[0, 1, 6, 12, 22, 24, 45, 56]\n"
     ]
    }
   ],
   "source": [
    "def minindex(a,i,j):\n",
    "    if i==j:\n",
    "        return i\n",
    "    k=minindex(a,i+1,j)\n",
    "    if a[i]>a[k]:\n",
    "        return k\n",
    "    else:\n",
    "        return i\n",
    "def selsort(a,n,index=0):\n",
    "    if index==n:\n",
    "        return \n",
    "    k=minindex(a,index,n-1)\n",
    "    if k!=index:\n",
    "        a[k],a[index]=a[index],a[k]\n",
    "    return selsort(a,n,index+1)\n",
    "a=[12,45,1,56,24,0,6,22]\n",
    "selsort(a,len(a))\n",
    "print(a)"
   ]
  },
  {
   "cell_type": "markdown",
   "metadata": {},
   "source": [
    "Insertion sort"
   ]
  },
  {
   "cell_type": "code",
   "execution_count": 27,
   "metadata": {},
   "outputs": [
    {
     "name": "stdout",
     "output_type": "stream",
     "text": [
      "2 4 6 8 8\n",
      "2 4 6 6 8\n",
      "2 4 4 6 8\n",
      "[2, 3, 4, 6, 8]\n"
     ]
    }
   ],
   "source": [
    "def ins_sort1(a):\n",
    "    for i in range(1,len(a)):\n",
    "        val=a[i]\n",
    "        hole=i\n",
    "        while(hole>0 and a[hole-1]>val):\n",
    "            a[hole]=a[hole-1]\n",
    "            hole-=1\n",
    "        a[hole]=val\n",
    "def ins_sort(a,l):\n",
    "    if l==0 or l==1:\n",
    "        return \n",
    "    ins_sort(a,l-1)\n",
    "    last=a[l-1]\n",
    "    j=l-2\n",
    "    while(j>=0 and a[j]>last):\n",
    "        a[j+1]=a[j]\n",
    "        j-=1\n",
    "        print(*a)\n",
    "    a[j+1]=last  \n",
    "# a=[12,45,1,56,24,0,6,22]\n",
    "a=[2,4,6,8,3]\n",
    "n=len(a)\n",
    "ins_sort(a,n)\n",
    "print(a)     "
   ]
  },
  {
   "cell_type": "markdown",
   "metadata": {},
   "source": [
    "Merge Sort"
   ]
  },
  {
   "cell_type": "code",
   "execution_count": 21,
   "metadata": {},
   "outputs": [
    {
     "name": "stdout",
     "output_type": "stream",
     "text": [
      "[3, 6, 9, 11, 33, 34, 44, 55, 66, 77, 88, 111, 133, 266, 299]\n"
     ]
    }
   ],
   "source": [
    "# def merge(a,b,n,m):\n",
    "#     c=[]\n",
    "#     i,j=0,0\n",
    "#     while(i<n and j<m):\n",
    "#         if a[i]<=b[j]:\n",
    "#             c.append(a[i])\n",
    "#             i+=1\n",
    "#         else:\n",
    "#             c.append(b[j])\n",
    "#             j+=1\n",
    "#     for x in range(i,n):\n",
    "#         c.append(a[x])\n",
    "#     for x in range(j,m):\n",
    "#         c.append(b[x])\n",
    "#     return c\n",
    "# a=[1,2,3,6,9,11,34]\n",
    "# b=[1,2,33,44,55,66,77,88]\n",
    "# n=len(a)\n",
    "# m=len(b)\n",
    "# print(merge(a,b,n,m))\n",
    "def merge_sort(a):\n",
    "    if len(a)>1:\n",
    "        mid=len(a)//2\n",
    "        l=a[:mid]\n",
    "        r=a[mid:]\n",
    "        merge_sort(l)\n",
    "        merge_sort(r)\n",
    "        i=j=k=0\n",
    "        while i<len(l) and j<len(r):\n",
    "            if l[i]<r[j]:\n",
    "                a[k]=l[i]\n",
    "                i+=1\n",
    "            else:\n",
    "                a[k]=r[j]\n",
    "                j+=1\n",
    "            k+=1\n",
    "        while i<len(l):\n",
    "            a[k]=l[i]\n",
    "            i+=1\n",
    "            k+=1\n",
    "        while j<len(r):\n",
    "            a[k]=r[j]\n",
    "            j+=1\n",
    "            k+=1\n",
    "a=[111, 133, 266, 299, 3, 6, 9, 11, 33, 34, 44, 55, 66, 77, 88]\n",
    "merge_sort(a)\n",
    "print(a)"
   ]
  },
  {
   "cell_type": "markdown",
   "metadata": {},
   "source": [
    "Quick sort"
   ]
  },
  {
   "cell_type": "code",
   "execution_count": 9,
   "metadata": {},
   "outputs": [
    {
     "name": "stdout",
     "output_type": "stream",
     "text": [
      "[1, 3, 9, 11, 33, 34, 44, 55, 66, 77, 88, 111, 133, 266, 299]\n"
     ]
    }
   ],
   "source": [
    "def quick_sort(a):\n",
    "    \n",
    "    less=[]\n",
    "    high=[]\n",
    "    if len(a)>1:\n",
    "        piot=a[0]\n",
    "        i=1\n",
    "        while(i<len(a)):\n",
    "            if a[i]<piot:\n",
    "                less.append(a[i])\n",
    "            else:\n",
    "                high.append(a[i])\n",
    "            i+=1\n",
    "        return quick_sort(less)+[piot]+quick_sort(high)\n",
    "    else:\n",
    "        return a\n",
    "a=[111, 133, 266, 299, 3, 1, 9, 11, 33, 34, 44, 55, 66, 77, 88]\n",
    "q=quick_sort(a)\n",
    "print(q)"
   ]
  },
  {
   "cell_type": "code",
   "execution_count": 10,
   "metadata": {},
   "outputs": [
    {
     "name": "stdout",
     "output_type": "stream",
     "text": [
      "3 6 9 11 33 34 44 55 66 77 88 111 133 266 299\n"
     ]
    }
   ],
   "source": [
    "def partition(arr,start,end):\n",
    "    pivot=arr[start]\n",
    "    c=0\n",
    "    for i in range(start,end+1):\n",
    "        if arr[i]<pivot:\n",
    "            c+=1\n",
    "    arr[start+c],arr[start]=arr[start],arr[start+c]\n",
    "    pivot_index=start+c\n",
    "    i=start\n",
    "    j=end\n",
    "    while i<j:\n",
    "        if arr[i]<pivot:\n",
    "            i+=1\n",
    "        elif arr[j]>=pivot:\n",
    "            j-=1\n",
    "        else:\n",
    "            arr[i],arr[j]=arr[j],arr[i]\n",
    "    return pivot_index\n",
    "def quickSort(arr, start, end):\n",
    "    # Please add your code here\n",
    "    if start>=end:\n",
    "        return \n",
    "    \n",
    "    pivot_index=partition(arr,start,end)\n",
    "    quickSort(arr,start,pivot_index-1)\n",
    "    quickSort(arr,pivot_index+1,end)\n",
    "\n",
    "arr=[111, 133, 266, 299, 3, 6, 9, 11, 33, 34, 44, 55, 66, 77, 88]\n",
    "n=len(arr)\n",
    "quickSort(arr, 0, n-1)\n",
    "# print(partition(arr,0,n-1))\n",
    "print(*arr)\n"
   ]
  },
  {
   "cell_type": "markdown",
   "metadata": {},
   "source": [
    "# Tower Of Hanoi"
   ]
  },
  {
   "cell_type": "code",
   "execution_count": 5,
   "metadata": {},
   "outputs": [
    {
     "name": "stdout",
     "output_type": "stream",
     "text": [
      "1\n",
      "a c\n"
     ]
    }
   ],
   "source": [
    "def towerofhanoi(n, source, aux, dest):\n",
    "    # Please add your code here\n",
    "    if n>0:\n",
    "        if n==1:\n",
    "            print(source,dest)\n",
    "            return\n",
    "        towerofhanoi(n-1,source,dest,aux)\n",
    "        print(source,dest)\n",
    "        towerofhanoi(n-1,aux,source,dest)\n",
    "    else:\n",
    "        return\n",
    "#     print(source,dest)\n",
    "    \n",
    "    \n",
    "n=input()\n",
    "if n==\"n\":\n",
    "    print(\"Invalid input\")\n",
    "a=int(n)\n",
    "towerofhanoi(a, 'a', 'b', 'c')\n"
   ]
  },
  {
   "cell_type": "code",
   "execution_count": null,
   "metadata": {},
   "outputs": [],
   "source": [
    "def towerofhanoi(n, s, a, d):\n",
    "    # Please add your code here\n",
    "    if n>0:\n",
    "    \tif n==1:\n",
    "        \tprint(s,d)\n",
    "        \treturn\n",
    "    \t# print(\"a\",\"b\")\n",
    "    \ttowerofhanoi(n-1, s, d, a)\n",
    "    \tprint(s,d)\n",
    "    \ttowerofhanoi(n-1, a, s, d)\n",
    "    else:\n",
    "        return\n",
    "n=int(input())\n",
    "towerofhanoi(n, 'a', 'b', 'c')"
   ]
  },
  {
   "cell_type": "code",
   "execution_count": null,
   "metadata": {},
   "outputs": [],
   "source": []
  },
  {
   "cell_type": "code",
   "execution_count": null,
   "metadata": {},
   "outputs": [],
   "source": []
  },
  {
   "cell_type": "code",
   "execution_count": null,
   "metadata": {},
   "outputs": [],
   "source": []
  }
 ],
 "metadata": {
  "kernelspec": {
   "display_name": "Python 3",
   "language": "python",
   "name": "python3"
  },
  "language_info": {
   "codemirror_mode": {
    "name": "ipython",
    "version": 3
   },
   "file_extension": ".py",
   "mimetype": "text/x-python",
   "name": "python",
   "nbconvert_exporter": "python",
   "pygments_lexer": "ipython3",
   "version": "3.7.4"
  }
 },
 "nbformat": 4,
 "nbformat_minor": 4
}
