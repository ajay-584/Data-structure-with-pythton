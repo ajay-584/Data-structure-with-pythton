{
 "cells": [
  {
   "cell_type": "markdown",
   "metadata": {},
   "source": [
    "# Abstract Classes"
   ]
  },
  {
   "cell_type": "code",
   "execution_count": 32,
   "metadata": {},
   "outputs": [],
   "source": [
    "from abc import ABC,abstractmethod\n",
    "class Automobile(ABC):\n",
    "    def __init__(self):\n",
    "        print(\"Abstracted is created\")\n",
    "    @abstractmethod\n",
    "    def start(self):\n",
    "        print(\"The automobile is calling\")\n",
    "    @abstractmethod\n",
    "    def stop(self):\n",
    "        pass\n",
    "    @abstractmethod\n",
    "    def drive(self):\n",
    "        pass"
   ]
  },
  {
   "cell_type": "code",
   "execution_count": 18,
   "metadata": {},
   "outputs": [
    {
     "ename": "TypeError",
     "evalue": "Can't instantiate abstract class Automobile with abstract methods drive, start, stop",
     "output_type": "error",
     "traceback": [
      "\u001b[1;31m---------------------------------------------------------------------------\u001b[0m",
      "\u001b[1;31mTypeError\u001b[0m                                 Traceback (most recent call last)",
      "\u001b[1;32m<ipython-input-18-698a7c1cd1a9>\u001b[0m in \u001b[0;36m<module>\u001b[1;34m\u001b[0m\n\u001b[1;32m----> 1\u001b[1;33m \u001b[0mc\u001b[0m\u001b[1;33m=\u001b[0m\u001b[0mAutomobile\u001b[0m\u001b[1;33m(\u001b[0m\u001b[1;33m)\u001b[0m \u001b[1;31m# you can not creat the object of atuomobile\u001b[0m\u001b[1;33m\u001b[0m\u001b[1;33m\u001b[0m\u001b[0m\n\u001b[0m",
      "\u001b[1;31mTypeError\u001b[0m: Can't instantiate abstract class Automobile with abstract methods drive, start, stop"
     ]
    }
   ],
   "source": [
    "c=Automobile() # you can not creat the object of atuomobile"
   ]
  },
  {
   "cell_type": "code",
   "execution_count": 35,
   "metadata": {},
   "outputs": [],
   "source": [
    "class Car(Automobile):\n",
    "    def __init__(self,name):\n",
    "        print(\"Car is created\")\n",
    "        self.name=name\n",
    "    def start(self):\n",
    "        super().start()\n",
    "        print(\"The car is calling\")\n",
    "    def stop(self):\n",
    "        pass\n",
    "    def drive(self):\n",
    "        pass\n",
    "\n",
    "    "
   ]
  },
  {
   "cell_type": "code",
   "execution_count": 36,
   "metadata": {},
   "outputs": [
    {
     "name": "stdout",
     "output_type": "stream",
     "text": [
      "Car is created\n",
      "The automobile is calling\n",
      "The car is calling\n"
     ]
    }
   ],
   "source": [
    "c=Car(\"Ajay\")\n",
    "c.start()"
   ]
  },
  {
   "cell_type": "markdown",
   "metadata": {},
   "source": [
    "# Intro To Exception Handling"
   ]
  },
  {
   "cell_type": "code",
   "execution_count": 38,
   "metadata": {},
   "outputs": [
    {
     "name": "stdout",
     "output_type": "stream",
     "text": [
      "Enter the numerator :5\n",
      "Enter the denominator :4\n",
      "1.25\n",
      "5\n",
      "4\n",
      "1.25\n",
      "exception may or may not be raised\n"
     ]
    }
   ],
   "source": [
    "class ZeroDenominatorError(ZeroDivisionError):\n",
    "\tpass\n",
    "while True:\n",
    "\ttry:\n",
    "\t\tn = input('Enter the numerator :')\n",
    "\t\tnum = int(n)\n",
    "\t\tn = input('Enter the denominator :')\n",
    "\t\tdenom = int(n)\n",
    "\t\tif denom == 0:\n",
    "\t\t\traise ZeroDenominatorError('Denominator should not be zero')\n",
    "\t\tvalue = num/denom\n",
    "\texcept ValueError:\n",
    "\t\tprint(\"Numerator and Denominator should be integers\")\n",
    "\texcept ZeroDenominatorError:\n",
    "\t\tprint(\"ZeroDenominatorError is raised\")\n",
    "\texcept ZeroDivisionError:\n",
    "\t\tprint(\"Division by zero is not allowed\")\n",
    "\texcept :\n",
    "\t\tprint(\"some exception is raised\") \n",
    "\telse:\n",
    "\t\tprint(value)\n",
    "\t\tbreak\n",
    "\tfinally:\n",
    "\t\tprint(num)\n",
    "\t\tprint(denom)\n",
    "\t\tprint(value)\n",
    "\t\tprint('exception may or may not be raised')"
   ]
  },
  {
   "cell_type": "markdown",
   "metadata": {},
   "source": [
    "# Handling Multiple Exceptions"
   ]
  },
  {
   "cell_type": "code",
   "execution_count": 4,
   "metadata": {},
   "outputs": [
    {
     "name": "stdout",
     "output_type": "stream",
     "text": [
      "Enter the numerator :5\n",
      "Enter the denumerator :5\n",
      "1.0\n"
     ]
    }
   ],
   "source": [
    "while True:\n",
    "    try:\n",
    "        n = input(\"Enter the numerator :\")\n",
    "        num = int(n)\n",
    "        n = input(\"Enter the denumerator :\")\n",
    "        denom = int(n)\n",
    "        value = num/denom\n",
    "        print(value)\n",
    "        break\n",
    "    except ValueError:  # we can also write (ValueError,ZeroDivisionError)\n",
    "        print(\"numrator and denumrator should be integer\")\n",
    "    except ZeroDivisionError:\n",
    "        print(\"the denomator should be non-zero\")\n"
   ]
  },
  {
   "cell_type": "markdown",
   "metadata": {},
   "source": [
    "# Custom Exceptions"
   ]
  },
  {
   "cell_type": "code",
   "execution_count": 3,
   "metadata": {},
   "outputs": [
    {
     "name": "stdout",
     "output_type": "stream",
     "text": [
      "Enter the numerator :5\n",
      "Enter the denumerator :0\n",
      "aslkdfja sdf;laksj\n",
      "Enter the numerator :9\n",
      "Enter the denumerator :9\n",
      "1.0\n"
     ]
    }
   ],
   "source": [
    "class MyFunError(Exception):\n",
    "    pass\n",
    "while True:\n",
    "    try:\n",
    "        n = input(\"Enter the numerator :\")\n",
    "        num = int(n)\n",
    "        n = input(\"Enter the denumerator :\")\n",
    "        denom = int(n)\n",
    "        if denom==0:\n",
    "            raise MyFunError(\"Demunerator should be non_zero\")\n",
    "        value = num/denom\n",
    "        print(value)\n",
    "        break\n",
    "    except ValueError:  # we can also write (ValueError,ZeroDivisionError)\n",
    "        print(\"numrator and denumrator should be integer\")\n",
    "    except ZeroDivisionError:\n",
    "        print(\"the denomator should be non-zero\")\n",
    "    except MyFunError:\n",
    "        print(\"aslkdfja sdf;laksj\")\n"
   ]
  },
  {
   "cell_type": "markdown",
   "metadata": {},
   "source": [
    "# Except Functionailty"
   ]
  },
  {
   "cell_type": "code",
   "execution_count": 1,
   "metadata": {},
   "outputs": [
    {
     "name": "stdout",
     "output_type": "stream",
     "text": [
      "Enter the numerator :4\n",
      "Enter the denominator :0\n",
      "ZeroDenominatorError is raised\n",
      "Enter the numerator :3\n",
      "Enter the denominator :1\n",
      "3.0\n"
     ]
    }
   ],
   "source": [
    "class ZeroDenominatorError(ZeroDivisionError):\n",
    "\tpass\n",
    "while True:\n",
    "\ttry:\n",
    "\t\tn = input('Enter the numerator :')\n",
    "\t\tnum = int(n)\n",
    "\t\tn = input('Enter the denominator :')\n",
    "\t\tdenom = int(n)\n",
    "\t\tif denom == 0:\n",
    "\t\t\traise ZeroDenominatorError('Denominator should not be zero')\n",
    "\t\tvalue = num/denom\n",
    "\texcept ValueError:\n",
    "\t\tprint(\"Numerator and Denominator should be integers\")\n",
    "\texcept ZeroDenominatorError:\n",
    "\t\tprint(\"ZeroDenominatorError is raised\")\n",
    "\texcept ZeroDivisionError:\n",
    "\t\tprint(\"Division by zero is not allowed\")\n",
    "\texcept :\n",
    "\t\tprint(\"some exception is raised\") \n",
    "\telse:\n",
    "\t\tprint(value)\n",
    "\t\tbreak"
   ]
  },
  {
   "cell_type": "markdown",
   "metadata": {},
   "source": [
    "# Else And Finally"
   ]
  },
  {
   "cell_type": "code",
   "execution_count": 2,
   "metadata": {},
   "outputs": [
    {
     "name": "stdout",
     "output_type": "stream",
     "text": [
      "Enter the numerator :6\n",
      "Enter the denominator :0\n",
      "ZeroDenominatorError is raised\n",
      "6\n",
      "0\n",
      "3.0\n",
      "exception may or may not be raised\n",
      "Enter the numerator :4\n",
      "Enter the denominator :1\n",
      "4.0\n",
      "4\n",
      "1\n",
      "4.0\n",
      "exception may or may not be raised\n"
     ]
    }
   ],
   "source": [
    "class ZeroDenominatorError(ZeroDivisionError):\n",
    "\tpass\n",
    "while True:\n",
    "\ttry:\n",
    "\t\tn = input('Enter the numerator :')\n",
    "\t\tnum = int(n)\n",
    "\t\tn = input('Enter the denominator :')\n",
    "\t\tdenom = int(n)\n",
    "\t\tif denom == 0:\n",
    "\t\t\traise ZeroDenominatorError('Denominator should not be zero')\n",
    "\t\tvalue = num/denom\n",
    "\texcept ValueError:\n",
    "\t\tprint(\"Numerator and Denominator should be integers\")\n",
    "\texcept ZeroDenominatorError:\n",
    "\t\tprint(\"ZeroDenominatorError is raised\")\n",
    "\texcept ZeroDivisionError:\n",
    "\t\tprint(\"Division by zero is not allowed\")\n",
    "\texcept :\n",
    "\t\tprint(\"some exception is raised\") \n",
    "\telse:\n",
    "\t\tprint(value)\n",
    "\t\tbreak\n",
    "\tfinally:\n",
    "\t\tprint(num)\n",
    "\t\tprint(denom)\n",
    "\t\tprint(value)\n",
    "\t\tprint('exception may or may not be raised')"
   ]
  },
  {
   "cell_type": "markdown",
   "metadata": {},
   "source": [
    "# Ends"
   ]
  },
  {
   "cell_type": "code",
   "execution_count": null,
   "metadata": {},
   "outputs": [],
   "source": []
  }
 ],
 "metadata": {
  "kernelspec": {
   "display_name": "Python 3",
   "language": "python",
   "name": "python3"
  },
  "language_info": {
   "codemirror_mode": {
    "name": "ipython",
    "version": 3
   },
   "file_extension": ".py",
   "mimetype": "text/x-python",
   "name": "python",
   "nbconvert_exporter": "python",
   "pygments_lexer": "ipython3",
   "version": "3.7.4"
  }
 },
 "nbformat": 4,
 "nbformat_minor": 4
}
