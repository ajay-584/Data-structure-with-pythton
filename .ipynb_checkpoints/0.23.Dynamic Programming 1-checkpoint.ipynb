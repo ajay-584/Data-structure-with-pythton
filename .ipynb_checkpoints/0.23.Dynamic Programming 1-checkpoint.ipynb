{
 "cells": [
  {
   "cell_type": "markdown",
   "metadata": {},
   "source": [
    "# Fibonacci Memoization"
   ]
  },
  {
   "cell_type": "code",
   "execution_count": 23,
   "metadata": {},
   "outputs": [
    {
     "name": "stdout",
     "output_type": "stream",
     "text": [
      "8\n",
      "21\n"
     ]
    }
   ],
   "source": [
    "def fibb(n,dp):\n",
    "    \n",
    "    if n==0 or n==1:\n",
    "        return n\n",
    "    if dp[n-1] == -1:\n",
    "        ans1 = fibb(n-1,dp)\n",
    "        dp[n-1] = ans1\n",
    "    else:\n",
    "        ans1 = dp[n-1]\n",
    "    if dp[n-2] == -1:\n",
    "        ans2 = fibb(n-2,dp)\n",
    "        dp[n-2] = ans2\n",
    "    else:\n",
    "        ans2 = dp[n-2]\n",
    "        \n",
    "    myans = ans1 + ans2\n",
    "    return myans\n",
    "n = int(input())\n",
    "dp = [-1 for x in range(n+1)]\n",
    "ans = fibb(n,dp)\n",
    "print(ans)"
   ]
  },
  {
   "cell_type": "markdown",
   "metadata": {},
   "source": [
    "# Iterative Dynamic Programming"
   ]
  },
  {
   "cell_type": "code",
   "execution_count": 22,
   "metadata": {},
   "outputs": [
    {
     "name": "stdout",
     "output_type": "stream",
     "text": [
      "7\n"
     ]
    },
    {
     "data": {
      "text/plain": [
       "13"
      ]
     },
     "execution_count": 22,
     "metadata": {},
     "output_type": "execute_result"
    }
   ],
   "source": [
    "def fibbI(n):\n",
    "    dp = [0 for i in range(n+1)]\n",
    "    dp[0],dp[1] = 0,1\n",
    "    i = 2\n",
    "    while i <= n:\n",
    "        dp[i] = dp[i-1] + dp[i-2]\n",
    "        i += 1\n",
    "    return dp[n]\n",
    "n = int(input())\n",
    "fibbI(n)"
   ]
  },
  {
   "cell_type": "markdown",
   "metadata": {},
   "source": [
    "# Minimum Steps To 1 (Code)"
   ]
  },
  {
   "cell_type": "code",
   "execution_count": 7,
   "metadata": {},
   "outputs": [
    {
     "name": "stdout",
     "output_type": "stream",
     "text": [
      "5\n",
      "3\n"
     ]
    }
   ],
   "source": [
    "\"\"\"\n",
    "Given a positive integer n, find the minimum number of steps s, that takes n to 1. You can perform any one of the following 3 steps.\n",
    "1.) Subtract 1 from it. (n= n - ­1) ,\n",
    "2.) If its divisible by 2, divide by 2.( if n%2==0, then n= n/2 ) ,\n",
    "3.) If its divisible by 3, divide by 3. (if n%3 == 0, then n = n / 3 ). \n",
    "The time complexity of your code should be O(n).\n",
    "Input format :\n",
    "Line 1 : A single integer i.e. n\n",
    "Output format :\n",
    "Line 1 : Single integer i.e number of steps\n",
    "Constraints :\n",
    "1 <= n <= 10^5\n",
    "Sample Input 1 :\n",
    "4\n",
    "Sample Output 1 :\n",
    "2 \n",
    "Sample Output 1 Explanation :\n",
    "For n = 4\n",
    "Step 1 : n = 4/2 = 2\n",
    "Step 2 : n = 2/2 = 1\n",
    "Sample Input 2 :\n",
    "7\n",
    "Sample Output 2 :\n",
    "3\n",
    "Sample Output 2 Explanation :\n",
    "For n = 7\n",
    "Step 1 : n = 7 ­ - 1 = 6\n",
    "Step 2 : n = 6 / 3 = 2\n",
    "Step 3 : n = 2 / 2 = 1\n",
    "\"\"\"\n",
    "import sys\n",
    "def minStepsTo1DP(n,dp):\n",
    "    ''' Return Minimum no of steps required to reach 1 using using Dynamic Prog'''\n",
    "    #############################\n",
    "    # PLEASE ADD YOUR CODE HERE #\n",
    "    #############################\n",
    "    if n==1 :\n",
    "        return 0\n",
    "    ans1 = sys.maxsize\n",
    "    if n%3 == 0 :\n",
    "        if dp[n//3] == -1:\n",
    "            ans1 =  minStepsTo1DP(n//3,dp)\n",
    "            dp[n//3] = ans1\n",
    "        else:\n",
    "            ans1 = dp[n//3]\n",
    "    ans2 = sys.maxsize\n",
    "    if n%2 == 0 :\n",
    "        if dp[n//2] == -1:\n",
    "            ans2 =  minStepsTo1DP(n//2,dp)\n",
    "            dp[n//2] == ans2\n",
    "        else:\n",
    "            ans2 = dp[n//2]\n",
    "    if dp[n-1] ==-1:\n",
    "        ans3 = minStepsTo1DP((n-1),dp)\n",
    "        dp[n-1] = ans3\n",
    "    else:\n",
    "        ans3 = dp[n-1]\n",
    "    \n",
    "    ans = 1 + min(ans1,ans2,ans3)\n",
    "    return ans\n",
    "\n",
    "# Main\n",
    "from sys import setrecursionlimit\n",
    "setrecursionlimit(1100000)\n",
    "n=int(input())\n",
    "dp = [-1 for i in range(n+1)]\n",
    "print(minStepsTo1DP(n,dp))"
   ]
  },
  {
   "cell_type": "markdown",
   "metadata": {},
   "source": [
    "# Min. Squares To Represent N(Recursively)"
   ]
  },
  {
   "cell_type": "code",
   "execution_count": 4,
   "metadata": {},
   "outputs": [
    {
     "name": "stdout",
     "output_type": "stream",
     "text": [
      "41\n",
      "2\n"
     ]
    }
   ],
   "source": [
    "\"\"\"\n",
    "A number can always be represented as a sum of squares of other numbers. \n",
    "Note that 1 is a square and we can always break a number as [(1 * 1) + (1 * 1) + (1 * 1) + …]. \n",
    "Given a number n, find the minimum number of squares that sum to n.\n",
    "Input format:\n",
    " The first and only line of input contains an integer N (1 <= N <= 10000)\n",
    "Constraints:\n",
    " Time Limit: 1 seconds\n",
    "Output format:\n",
    "The first and only line of output contains the minimum number if squares that sum to n.\n",
    "Sample Test Cases:\n",
    "Sample Input 1:\n",
    "100\n",
    "Sample Output 1:\n",
    "1\n",
    "Explanation:\n",
    "We can write 100 as 10^2 also, 100 can be written as (5^2) + (5^2) + (5^2) + (5^2), but this representation requires 4 squares.\n",
    "So, in this case, the expected answer would be 1, that is, 10^2.\n",
    "\"\"\"\n",
    "import math,sys\n",
    "\n",
    "def minSquares(n,dp):\n",
    "    if n==0:\n",
    "        return 0\n",
    "    ans = sys.maxsize\n",
    "    root = int(math.sqrt(n))\n",
    "    for i in range(1,root+1):\n",
    "        if dp[n-(i**2)] == -1:\n",
    "            currAns = 1 + minSquares((n-(i**2)),dp)\n",
    "            dp[n-(i**2)] = currAns\n",
    "        else:\n",
    "            currAns = dp[n-(i**2)]\n",
    "        ans = min(ans,currAns)\n",
    "    return ans\n",
    "n = int(input())\n",
    "dp = [-1 for i in range(n+1)]\n",
    "ans = minSquares(n,dp)\n",
    "print(ans)"
   ]
  },
  {
   "cell_type": "markdown",
   "metadata": {},
   "source": [
    "# Min. Squares To Represent N (Iteratively)"
   ]
  },
  {
   "cell_type": "code",
   "execution_count": 2,
   "metadata": {},
   "outputs": [
    {
     "name": "stdout",
     "output_type": "stream",
     "text": [
      "41\n",
      "2\n"
     ]
    }
   ],
   "source": [
    "import sys,math\n",
    "def minsquaresI(n):\n",
    "    dp = [-1 for i in range(n+1)]\n",
    "    dp[0] = 0\n",
    "    for i in range(1,n+1):\n",
    "        ans = sys.maxsize\n",
    "        root = int(math.sqrt(i))\n",
    "        for j in range(1,root+1):\n",
    "            currAns = 1 + dp[i-(j**2)]\n",
    "            ans = min(currAns,ans)\n",
    "        dp[i] = ans\n",
    "    return dp[n]\n",
    "\n",
    "n = int(input())\n",
    "ans = minsquaresI(n)\n",
    "print(ans)\n",
    "            "
   ]
  },
  {
   "cell_type": "markdown",
   "metadata": {},
   "source": [
    "# Longest Increasing Subsequence Recursive"
   ]
  },
  {
   "cell_type": "code",
   "execution_count": 15,
   "metadata": {},
   "outputs": [
    {
     "name": "stdout",
     "output_type": "stream",
     "text": [
      "6\n",
      "1 2 3 4 5 66\n",
      "6\n"
     ]
    }
   ],
   "source": [
    "\"\"\"\n",
    "Given an array with N elements, you need to find the length of the longest subsequence of a given sequence such that all elements of the subsequence are sorted in strictly increasing order.\n",
    "Input Format\n",
    "Line 1 : An integer N \n",
    "Line 2 : Elements of arrays separated by spaces\n",
    "Output Format\n",
    "Line 1 : Length of longest subsequence\n",
    "Input Constraints\n",
    "1 <= n <= 10^3\n",
    "Sample Input :\n",
    "6\n",
    "5 4 11 1 16 8\n",
    "Sample Output 1 :\n",
    "3\n",
    "Sample Output Explanation\n",
    "Length of longest subsequence is 3 i.e. (5,11,16) or (4,11,16).\n",
    "Sample Input 2:\n",
    "3\n",
    "1 2 2\n",
    "Sample Output 2 :\n",
    "2\n",
    "\"\"\"\n",
    "\n",
    "import sys\n",
    "sys.setrecursionlimit(1100000)\n",
    "def lis(li,i,n,dp):\n",
    "    if i == n:\n",
    "        return 0,0\n",
    "    including_max = 1\n",
    "    for j in range(i+1,n):\n",
    "        if li[j] > li[i]:\n",
    "            if dp[j] == -1:\n",
    "                ans = lis(li,j,n,dp)\n",
    "                dp[j] = ans\n",
    "                further_including_max = ans[0]\n",
    "            else:\n",
    "                further_including_max = dp[j][0]\n",
    "            including_max = max(including_max, 1 + further_including_max)\n",
    "    if dp[i+1] == -1:\n",
    "        ans = lis(li,i+1,n,dp)\n",
    "        dp[i+1] = ans\n",
    "        excluding_max = ans[1]\n",
    "    else:\n",
    "        excluding_max = dp[i+1][1]\n",
    "    overall_max = max(including_max, excluding_max)\n",
    "    return including_max, overall_max\n",
    "\n",
    "n = int(input())\n",
    "dp = [-1 for i in range(n+1)]\n",
    "li = [int(ele) for ele in input().split()]\n",
    "ans = lis(li,0,n,dp)[1]\n",
    "print(ans)"
   ]
  },
  {
   "cell_type": "markdown",
   "metadata": {},
   "source": [
    "# Longest Increasing Subsequence Iteratively"
   ]
  },
  {
   "cell_type": "code",
   "execution_count": 4,
   "metadata": {},
   "outputs": [
    {
     "name": "stdout",
     "output_type": "stream",
     "text": [
      "7\n",
      "5 3 1 2 0 7 9\n",
      "[[0, 0], [0, 0], [0, 0], [0, 0], [0, 0], [0, 0], [0, 0], [0, 0]]\n",
      "[[3, 4], [3, 4], [4, 4], [3, 3], [3, 3], [2, 2], [1, 1], [0, 0]]\n",
      "final ans: 4\n"
     ]
    }
   ],
   "source": [
    "def lisI(li,n):\n",
    "    dp = [[0 for j in range(2)] for i in range(n+1)]\n",
    "    print(dp)\n",
    "    \n",
    "    for i in range(n-1,-1,-1):\n",
    "        including_max = 1\n",
    "        for j in range(i+1,n):\n",
    "            if li[j] > li[i]:\n",
    "                including_max = max(including_max,1+dp[j][0])\n",
    "#                 print(\"including_max:\",including_max,en)\n",
    "        dp[i][0] = including_max \n",
    "        excluding_max = dp[i+1][1]\n",
    "#         print(\"excluding_max\",excluding_max,end=\" \")\n",
    "        overallMax = max(including_max,excluding_max)\n",
    "#         print(\"overallMax:\",overallMax,end=\" \")\n",
    "        dp[i][1] = overallMax\n",
    "    print(dp)\n",
    "    return dp[0][1]\n",
    "\n",
    "n = int(input())\n",
    "li = [int(ele) for ele in input().split()]\n",
    "ans = lisI(li,n)\n",
    "print(\"final ans:\",ans)"
   ]
  },
  {
   "cell_type": "markdown",
   "metadata": {},
   "source": [
    "# The End"
   ]
  }
 ],
 "metadata": {
  "kernelspec": {
   "display_name": "Python 3",
   "language": "python",
   "name": "python3"
  },
  "language_info": {
   "codemirror_mode": {
    "name": "ipython",
    "version": 3
   },
   "file_extension": ".py",
   "mimetype": "text/x-python",
   "name": "python",
   "nbconvert_exporter": "python",
   "pygments_lexer": "ipython3",
   "version": "3.7.4"
  }
 },
 "nbformat": 4,
 "nbformat_minor": 4
}
