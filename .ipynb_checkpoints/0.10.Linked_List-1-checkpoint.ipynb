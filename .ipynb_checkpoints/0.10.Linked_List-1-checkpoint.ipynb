{
 "cells": [
  {
   "cell_type": "markdown",
   "metadata": {},
   "source": [
    "# Linked List Node"
   ]
  },
  {
   "cell_type": "code",
   "execution_count": 3,
   "metadata": {},
   "outputs": [
    {
     "name": "stdout",
     "output_type": "stream",
     "text": [
      "13\n",
      "23\n",
      "23\n",
      "None\n",
      "<__main__.Node object at 0x000002128EB4F988>\n",
      "<__main__.Node object at 0x000002128EB4F988>\n",
      "None\n"
     ]
    }
   ],
   "source": [
    "class Node:\n",
    "    def __init__(self,data):\n",
    "        self.data=data\n",
    "        self.next=None\n",
    "a=Node(13)\n",
    "b=Node(23)\n",
    "a.next=b\n",
    "print(a.data)\n",
    "print(b.data)\n",
    "print(a.next.data)\n",
    "print(a.next.next)\n",
    "print(a.next)\n",
    "print(b)\n",
    "print(b.next)"
   ]
  },
  {
   "cell_type": "markdown",
   "metadata": {},
   "source": [
    "# Quiz"
   ]
  },
  {
   "cell_type": "code",
   "execution_count": 4,
   "metadata": {},
   "outputs": [
    {
     "name": "stdout",
     "output_type": "stream",
     "text": [
      "20 10 "
     ]
    }
   ],
   "source": [
    "#quiz-1\n",
    "class Node:\n",
    "    def __init__(self, data):\n",
    "        self.data = data\n",
    "        self.next = None\n",
    "def printLL(head):\n",
    "    while head is not None:\n",
    "        print(head.data,end=\" \")\n",
    "        head = head.next\n",
    "\n",
    "\n",
    "\n",
    "node1 = Node(10)\n",
    "node2 = Node(20)\n",
    "node2.next = node1\n",
    "printLL(node2)"
   ]
  },
  {
   "cell_type": "code",
   "execution_count": 5,
   "metadata": {},
   "outputs": [
    {
     "name": "stdout",
     "output_type": "stream",
     "text": [
      "20 30 40 "
     ]
    }
   ],
   "source": [
    "# Quiz-2\n",
    "class Node:\n",
    "    def __init__(self, data):\n",
    "        self.data = data\n",
    "        self.next = None\n",
    "def printLL(head):\n",
    "    while head is not None:\n",
    "        print(head.data,end=\" \")\n",
    "        head = head.next\n",
    "\n",
    "\n",
    "\n",
    "node1 = Node(10)\n",
    "node2 = Node(20)\n",
    "node3 = Node(30)\n",
    "node4 = Node(40)\n",
    "node1.next = node2\n",
    "node2.next = node3\n",
    "node3.next = node4\n",
    "printLL(node2)"
   ]
  },
  {
   "cell_type": "markdown",
   "metadata": {},
   "source": [
    "# Linked List Input - 1"
   ]
  },
  {
   "cell_type": "code",
   "execution_count": 14,
   "metadata": {},
   "outputs": [],
   "source": [
    "class Node:\n",
    "    def __init__(self, data):\n",
    "        self.data = data\n",
    "        self.next = None\n",
    "def takeInput():\n",
    "    \n",
    "    inputList=[int(ele) for ele in input().split()]\n",
    "    head = None\n",
    "    for currData in inputList:\n",
    "        if currData==-1:\n",
    "            break\n",
    "        newNode = Node(currData)\n",
    "        if head is None:\n",
    "            head = newNode\n",
    "        else:\n",
    "            curr = head\n",
    "            while curr.next is not None:\n",
    "                curr=curr.next\n",
    "            curr.next=newNode\n",
    "    return head"
   ]
  },
  {
   "cell_type": "markdown",
   "metadata": {},
   "source": [
    "# Print Linked List"
   ]
  },
  {
   "cell_type": "code",
   "execution_count": 15,
   "metadata": {},
   "outputs": [
    {
     "name": "stdout",
     "output_type": "stream",
     "text": [
      "1 2 3 4 5 6\n",
      "1->2->3->4->5->6->None\n"
     ]
    }
   ],
   "source": [
    "def printLL(head):\n",
    "    while head is not None:\n",
    "        print(str(head.data)+\"->\",end=\"\")\n",
    "        head = head.next\n",
    "    print(\"None\")\n",
    "    return \n",
    "head=takeInput()\n",
    "printLL(head)"
   ]
  },
  {
   "cell_type": "markdown",
   "metadata": {},
   "source": [
    "# Time Complexity Of Taking Input"
   ]
  },
  {
   "cell_type": "code",
   "execution_count": null,
   "metadata": {},
   "outputs": [],
   "source": [
    "#the time comlexity is o(n^2) now below code or linked list the time comlexity is o(n)"
   ]
  },
  {
   "cell_type": "markdown",
   "metadata": {},
   "source": [
    "# Linked List Input - 2"
   ]
  },
  {
   "cell_type": "code",
   "execution_count": 17,
   "metadata": {},
   "outputs": [
    {
     "name": "stdout",
     "output_type": "stream",
     "text": [
      "1 2 3 4 -1\n",
      "1->2->3->4->None\n"
     ]
    }
   ],
   "source": [
    "class Node:\n",
    "    def __init__(self, data):\n",
    "        self.data = data\n",
    "        self.next = None\n",
    "def takeInput():\n",
    "    \n",
    "    inputList=[int(ele) for ele in input().split()]\n",
    "    head = None\n",
    "    tail = None\n",
    "    for currData in inputList:\n",
    "        if currData==-1:\n",
    "            break\n",
    "        newNode = Node(currData)\n",
    "        if head is None:\n",
    "            head = newNode\n",
    "            tail = newNode\n",
    "        else:\n",
    "            tail.next = newNode\n",
    "            tail = newNode\n",
    "    return head\n",
    "def printLL(head):\n",
    "    while head is not None:\n",
    "        print(str(head.data)+\"->\",end=\"\")\n",
    "        head = head.next\n",
    "    print(\"None\")\n",
    "    return \n",
    "head=takeInput()\n",
    "printLL(head)"
   ]
  },
  {
   "cell_type": "markdown",
   "metadata": {},
   "source": [
    "# Quiz"
   ]
  },
  {
   "cell_type": "code",
   "execution_count": 18,
   "metadata": {},
   "outputs": [
    {
     "name": "stdout",
     "output_type": "stream",
     "text": [
      "11 21 "
     ]
    }
   ],
   "source": [
    "class Node:\n",
    "    def __init__(self, data):\n",
    "        self.data = data\n",
    "        self.next = None\n",
    "\n",
    "def printLL(head):\n",
    "    while head is not None:\n",
    "        print(head.data,end=\" \")\n",
    "        head = head.next\n",
    "\n",
    "def increment(head):\n",
    "     temp = head\n",
    "     while temp is not None:\n",
    "        temp.data +=1\n",
    "        temp = temp.next\n",
    "\n",
    "\n",
    "\n",
    "node1 = Node(10)\n",
    "node2 = Node(20)\n",
    "node1.next = node2\n",
    "increment(node1)\n",
    "printLL(node1)"
   ]
  },
  {
   "cell_type": "markdown",
   "metadata": {},
   "source": [
    "# Length of LL"
   ]
  },
  {
   "cell_type": "code",
   "execution_count": 19,
   "metadata": {},
   "outputs": [
    {
     "name": "stdout",
     "output_type": "stream",
     "text": [
      "1 2 3 4 5 6 -1\n",
      "6\n"
     ]
    }
   ],
   "source": [
    "\"\"\"\n",
    "Given a linked list, find and return the length of input LL. Do it iteratively.\n",
    "Linked list elements (separated by space and terminated by -1)\n",
    "\"\"\"\n",
    "class Node:\n",
    "    def __init__(self, data):\n",
    "        self.data = data\n",
    "        self.next = None\n",
    "\n",
    "def length(head):\n",
    "    #############################\n",
    "    # PLEASE ADD YOUR CODE HERE #\n",
    "    #############################\n",
    "    lis=[]\n",
    "    while head is not None:\n",
    "        lis.append(head.data)\n",
    "        head=head.next\n",
    "    return len(lis)\n",
    "def ll(arr):\n",
    "    if len(arr)==0:\n",
    "        return None\n",
    "    head = Node(arr[0])\n",
    "    last = head\n",
    "    for data in arr[1:]:\n",
    "        last.next = Node(data)\n",
    "        last = last.next\n",
    "    return head\n",
    "\n",
    "# Main\n",
    "# Read the link list elements including -1\n",
    "arr=list(int(i) for i in input().strip().split(' '))\n",
    "# Create a Linked list after removing -1 from list\n",
    "l = ll(arr[:-1])\n",
    "len=length(l)\n",
    "print(len)"
   ]
  },
  {
   "cell_type": "markdown",
   "metadata": {},
   "source": [
    "# Print ith node"
   ]
  },
  {
   "cell_type": "code",
   "execution_count": 21,
   "metadata": {},
   "outputs": [],
   "source": [
    "\"\"\"\n",
    "Given a linked list and a position i, print the node at ith position.\n",
    "If position i is greater than length of LL, then don't print anything.\n",
    "\n",
    "Line 1 : Linked list elements (separated by space and terminated by -1)\n",
    "Line 2 : Integer i (position)\n",
    "\"\"\"\n",
    "pass"
   ]
  },
  {
   "cell_type": "code",
   "execution_count": null,
   "metadata": {},
   "outputs": [],
   "source": [
    "class Node:\n",
    "    def __init__(self, data):\n",
    "        self.data = data\n",
    "        self.next = None\n",
    "\n",
    "def ithNode(head, i):\n",
    "    #############################\n",
    "    # PLEASE ADD YOUR CODE HERE #\n",
    "    #############################\n",
    "    c=0\n",
    "    while head is not None:\n",
    "        if c==i:\n",
    "            return head\n",
    "        head=head.next\n",
    "        c+=1\n",
    "def ll(arr):\n",
    "    if len(arr)==0:\n",
    "        return None\n",
    "    head = Node(arr[0])\n",
    "    last = head\n",
    "    for data in arr[1:]:\n",
    "        last.next = Node(data)\n",
    "        last = last.next\n",
    "    return head\n",
    "\n",
    "# Main\n",
    "# Read the link list elements including -1\n",
    "arr=list(int(i) for i in input().strip().split(' '))\n",
    "# Create a Linked list after removing -1 from list\n",
    "l = ll(arr[:-1])\n",
    "i=int(input())\n",
    "node = ithNode(l, i)\n",
    "if node:\n",
    "    print(node.data)\n"
   ]
  },
  {
   "cell_type": "markdown",
   "metadata": {},
   "source": [
    "# Insert At Ith Position - Iteratively"
   ]
  },
  {
   "cell_type": "code",
   "execution_count": 8,
   "metadata": {},
   "outputs": [
    {
     "name": "stdout",
     "output_type": "stream",
     "text": [
      "1 2 3 4 5\n",
      "1->2->3->4->5->None\n",
      "1->2->5->3->4->5->None\n",
      "1->2->5->3->4->5->None\n"
     ]
    }
   ],
   "source": [
    "class Node:\n",
    "    def __init__(self, data):\n",
    "        self.data = data\n",
    "        self.next = None\n",
    "def takeInput():\n",
    "    inputList=[int(ele) for ele in input().split()]\n",
    "    head = None\n",
    "    tail = None\n",
    "    for currData in inputList:\n",
    "        newNode = Node(currData)\n",
    "        if head is None:\n",
    "            head = newNode\n",
    "            tail = newNode\n",
    "        else:\n",
    "            tail.next = newNode\n",
    "            tail = newNode\n",
    "    return head\n",
    "def length(head):\n",
    "    c=0\n",
    "    current=head\n",
    "    while current is not None:\n",
    "        c+=1\n",
    "        current=current.next\n",
    "    return c\n",
    "def insertAtI(data,i,head):\n",
    "    if i<0 or i>length(head):\n",
    "        return head\n",
    "    count = 0\n",
    "    prev = None\n",
    "    curr = head\n",
    "    while count<i:\n",
    "        prev = curr\n",
    "        curr = curr.next\n",
    "        count = count+1\n",
    "        \n",
    "    newNode = Node(data)\n",
    "    if i==0:\n",
    "        head = newNode\n",
    "    else:\n",
    "        prev.next = newNode\n",
    "        \n",
    "    newNode.next = curr\n",
    "    \n",
    "    return head\n",
    "def printLL(head):\n",
    "    while head is not None:\n",
    "        print(str(head.data)+\"->\",end=\"\")\n",
    "        head = head.next\n",
    "    print(\"None\")\n",
    "    return \n",
    "head=takeInput()\n",
    "printLL(head)\n",
    "# length(head)\n",
    "insertAtI(5,2,head)\n",
    "printLL(head)\n",
    "insertAtI(6,0,head)\n",
    "printLL(head)"
   ]
  },
  {
   "cell_type": "markdown",
   "metadata": {},
   "source": [
    "# Delete node"
   ]
  },
  {
   "cell_type": "code",
   "execution_count": 1,
   "metadata": {},
   "outputs": [
    {
     "name": "stdout",
     "output_type": "stream",
     "text": [
      "1 2 3 4 5 6 -1\n",
      "2\n",
      "1 2 4 5 6 \n"
     ]
    }
   ],
   "source": [
    "class Node:\n",
    "    def __init__(self, data):\n",
    "        self.data = data\n",
    "        self.next = None\n",
    "def length(head):\n",
    "    count = 0\n",
    "    while head is not None:\n",
    "        count += 1\n",
    "        head = head.next\n",
    "    return count-1\n",
    "def delete(head, i):\n",
    "    # A linked list and a position i, delete the node of ith position from\n",
    "    # Linked List iteratively. If position i is greater than length of LL, then\n",
    "    # you should return the same LL without any change. Indexing starts from 0.\n",
    "    # You don't need to print the elements, just delete the node and return the\n",
    "    # head of updated LL.\n",
    "    #############################\n",
    "    # PLEASE ADD YOUR CODE HERE #\n",
    "    #############################\n",
    "    # print(length(head))\n",
    "    if i<0 or i>length(head):\n",
    "        return head\n",
    "    count = 0\n",
    "    prev=None\n",
    "    curr=head\n",
    "    while count<i:\n",
    "        prev = curr\n",
    "        curr = curr.next\n",
    "        count += 1\n",
    "    if i==0:\n",
    "        head=curr.next\n",
    "    else:\n",
    "    \tprev.next=curr.next\n",
    "    return head\n",
    "def ll(arr):\n",
    "    if len(arr)==0:\n",
    "        return None\n",
    "    head = Node(arr[0])\n",
    "    last = head\n",
    "    for data in arr[1:]:\n",
    "        last.next = Node(data)\n",
    "        last = last.next\n",
    "    return head\n",
    "\n",
    "def printll(head):\n",
    "    while head:\n",
    "        print(head.data, end=' ')\n",
    "        head = head.next\n",
    "    print()\n",
    "\n",
    "# Main\n",
    "# Read the link list elements including -1\n",
    "arr=list(int(i) for i in input().strip().split(' '))\n",
    "# Create a Linked list after removing -1 from list\n",
    "l = ll(arr[:-1])\n",
    "i=int(input())\n",
    "l = delete(l, i)\n",
    "printll(l)\n"
   ]
  },
  {
   "cell_type": "markdown",
   "metadata": {},
   "source": [
    "# Length of LL (recursive)"
   ]
  },
  {
   "cell_type": "code",
   "execution_count": 2,
   "metadata": {},
   "outputs": [
    {
     "name": "stdout",
     "output_type": "stream",
     "text": [
      "1 2 3 4 5 6 -1\n",
      "6\n"
     ]
    }
   ],
   "source": [
    "class Node:\n",
    "    def __init__(self, data):\n",
    "        self.data = data\n",
    "        self.next = None\n",
    "\n",
    "def lengthRecursive(head):\n",
    "    # A linked list, find and return the length of input LL recursively.\n",
    "    #############################\n",
    "    # PLEASE ADD YOUR CODE HERE #\n",
    "    #############################\n",
    "    if head is None:\n",
    "        return 0\n",
    "    return 1+lengthRecursive(head.next)\n",
    "\n",
    "def ll(arr):\n",
    "    if len(arr)==0:\n",
    "        return None\n",
    "    head = Node(arr[0])\n",
    "    last = head\n",
    "    for data in arr[1:]:\n",
    "        last.next = Node(data)\n",
    "        last = last.next\n",
    "    return head\n",
    "\n",
    "# Main\n",
    "from sys import setrecursionlimit\n",
    "setrecursionlimit(11000)\n",
    "# Read the link list elements including -1\n",
    "arr=list(int(i) for i in input().strip().split(' '))\n",
    "# Create a Linked list after removing -1 from list\n",
    "l = ll(arr[:-1])\n",
    "len=lengthRecursive(l)\n",
    "print(len)"
   ]
  },
  {
   "cell_type": "markdown",
   "metadata": {},
   "source": [
    "# Insert At Ith Position - Recursively"
   ]
  },
  {
   "cell_type": "code",
   "execution_count": 23,
   "metadata": {},
   "outputs": [
    {
     "name": "stdout",
     "output_type": "stream",
     "text": [
      "1 2 3 4 \n",
      "1->2->3->4->None\n",
      "1->2->3->4->None\n"
     ]
    }
   ],
   "source": [
    "class Node:\n",
    "    def __init__(self, data):\n",
    "        self.data = data\n",
    "        self.next = None\n",
    "def ll(arr):\n",
    "    head = Node(arr[0])\n",
    "    last = head\n",
    "    for data in arr[1:]:\n",
    "        last.next = Node(data)\n",
    "        last = last.next\n",
    "    return head\n",
    "def insertAtI(head,data,i):\n",
    "    if i<0:\n",
    "        return None\n",
    "    if head is None:\n",
    "        return None\n",
    "    if i==0:\n",
    "        newNode=Node(data)\n",
    "        newNode.next=head\n",
    "        return newNode\n",
    "    small_ouput=insertAtI(head.next,data,i-1)\n",
    "    head.next=small_ouput\n",
    "    return head\n",
    "\n",
    "def printll(head):\n",
    "    while head:\n",
    "        print(str(head.data)+'->',end='')\n",
    "        head = head.next\n",
    "    print(\"None\")\n",
    "\n",
    "# Main\n",
    "# Read the link list elements including -1\n",
    "arr=list(map(int,input().split()))\n",
    "# Create a Linked list after removing -1 from list\n",
    "head = ll(arr)\n",
    "printll(head)\n",
    "insertAtI(head,5,0)\n",
    "printll(head)"
   ]
  },
  {
   "cell_type": "markdown",
   "metadata": {},
   "source": [
    "# Delete node (recursive)"
   ]
  },
  {
   "cell_type": "code",
   "execution_count": null,
   "metadata": {},
   "outputs": [],
   "source": [
    "class Node:\n",
    "    def __init__(self, data):\n",
    "        self.data = data\n",
    "        self.next = None\n",
    "\n",
    "def deleteRec(head, i):\n",
    "    #  a linked list and a position i, delete the node of ith position from\n",
    "    # Linked List recursively. If position i is greater than length of LL,\n",
    "    # then:\n",
    "    # you should return the same LL without any change.\n",
    "    #############################\n",
    "    # PLEASE ADD YOUR CODE HERE #\n",
    "    #############################\n",
    "    if head is None:\n",
    "        return \n",
    "    if i<0:\n",
    "        return \n",
    "    if i==0:\n",
    "        return head.next\n",
    "    output=deleteRec(head.next,i-1)\n",
    "    head.next=output\n",
    "    return head\n",
    "\n",
    "def ll(arr):\n",
    "    if len(arr)==0:\n",
    "        return None\n",
    "    head = Node(arr[0])\n",
    "    last = head\n",
    "    for data in arr[1:]:\n",
    "        last.next = Node(data)\n",
    "        last = last.next\n",
    "    return head\n",
    "\n",
    "def printll(head):\n",
    "    while head:\n",
    "        print(head.data, end=' ')\n",
    "        head = head.next\n",
    "    print()\n",
    "\n",
    "# Main\n",
    "from sys import setrecursionlimit\n",
    "setrecursionlimit(11000)\n",
    "# Read the link list elements including -1\n",
    "arr=list(int(i) for i in input().strip().split(' '))\n",
    "# Create a Linked list after removing -1 from list\n",
    "l = ll(arr[:-1])\n",
    "i=int(input())\n",
    "l = deleteRec(l, i)\n",
    "printll(l)"
   ]
  },
  {
   "cell_type": "markdown",
   "metadata": {},
   "source": [
    "# Quiz"
   ]
  },
  {
   "cell_type": "code",
   "execution_count": null,
   "metadata": {},
   "outputs": [],
   "source": [
    "# What will be the time complexity of searching an element in the linked list ?\n",
    "# ans=o(n)\n"
   ]
  },
  {
   "cell_type": "code",
   "execution_count": null,
   "metadata": {},
   "outputs": [],
   "source": [
    "# Consider the Singly linked list having n elements. What will be the time taken to add an node at the end of linked list if is initially pointing to first node of the list.\n",
    "# That is only head is given to you.\n",
    "#ans=o(n)"
   ]
  },
  {
   "cell_type": "code",
   "execution_count": null,
   "metadata": {},
   "outputs": [],
   "source": [
    "# There is reference (or pointer) to first Node of the Linked List, then time required to insert element to second position is __________.\n",
    "# Indexing starts from 0.\n",
    "# ans=o(1)"
   ]
  },
  {
   "cell_type": "code",
   "execution_count": null,
   "metadata": {},
   "outputs": [],
   "source": [
    "# Given an unsorted singly Linked List, suppose you have reference (or pointer) to its head node only, which of the following operation can be implemented in O(1) time?\n",
    "# i)   Insertion at the front of the linked list\n",
    "# ii)  Insertion at the end of the linked list\n",
    "# iii) Deletion of the last node of the linked list\n",
    "# iv)  Deletion of the front node of the linked list\n",
    "# ans=i and iv"
   ]
  },
  {
   "cell_type": "code",
   "execution_count": null,
   "metadata": {},
   "outputs": [],
   "source": [
    "# Given an unsorted singly Linked List, suppose you have references (or pointer) to its head and tail nodes, which of the following operation can be implemented in O(1) time?\n",
    "# i)   Insertion at the front of the linked list\n",
    "# ii)  Insertion at the end of the linked list\n",
    "# iii) Deletion of the last node of the linked list\n",
    "# iv)  Deletion of the front node of the linked list\n",
    "# ans=i,ii and iv"
   ]
  },
  {
   "cell_type": "markdown",
   "metadata": {},
   "source": [
    "# Assignment"
   ]
  },
  {
   "cell_type": "markdown",
   "metadata": {},
   "source": [
    "# Find a node in LL"
   ]
  },
  {
   "cell_type": "code",
   "execution_count": null,
   "metadata": {},
   "outputs": [],
   "source": [
    "class Node:\n",
    "    def __init__(self, data):\n",
    "        self.data = data\n",
    "        self.next = None\n",
    "\n",
    "def linearSearch(head, n):\n",
    "    #  Given a linked list and an integer n you need to find and return index\n",
    "    #  where n is present in the LL. Do this iteratively. Return -1 if n is not\n",
    "    #  present in the LL. Indexing of nodes starts from 0. \n",
    "    #############################\n",
    "    # PLEASE ADD YOUR CODE HERE #\n",
    "    #############################\n",
    "    c=-1\n",
    "    while head is not None:\n",
    "        c+=1\n",
    "        if head.data==n:\n",
    "            return c\n",
    "        head=head.next\n",
    "    return -1\n",
    "\n",
    "def ll(arr):\n",
    "    if len(arr)==0:\n",
    "        return None\n",
    "    head = Node(arr[0])\n",
    "    last = head\n",
    "    for data in arr[1:]:\n",
    "        last.next = Node(data)\n",
    "        last = last.next\n",
    "    return head\n",
    "\n",
    "# Main\n",
    "# Read the link list elements including -1\n",
    "arr=list(int(i) for i in input().strip().split(' '))\n",
    "# Create a Linked list after removing -1 from list\n",
    "l = ll(arr[:-1])\n",
    "data=int(input())\n",
    "index = linearSearch(l, data)\n",
    "print(index)"
   ]
  },
  {
   "cell_type": "markdown",
   "metadata": {},
   "source": [
    "# AppendLastNToFirst"
   ]
  },
  {
   "cell_type": "code",
   "execution_count": null,
   "metadata": {},
   "outputs": [],
   "source": [
    "\"\"\"\n",
    "Given a linked list and an integer n, append the last n elements of the LL to front.\n",
    "Indexing starts from 0. You don't need to print the elements, just update the elements and return the head of updated LL.\n",
    "Assume given n will be smaller than length of LL.\n",
    "Input format :\n",
    "\n",
    "Line 1 : Linked list elements (separated by space and terminated by -1)`\n",
    "\n",
    "Sample Input 1 :\n",
    "1 2 3 4 5 -1\n",
    "3\n",
    "Sample Output 1 :\n",
    "3 4 5 1 2\n",
    "\"\"\"\n",
    "class Node:\n",
    "    def __init__(self, data):\n",
    "        self.data = data\n",
    "        self.next = None\n",
    "def length(head):\n",
    "    c=0\n",
    "    while head is not None:\n",
    "        c+=1\n",
    "        head=head.next\n",
    "    return c\n",
    "\n",
    "def append_LinkedList(head,n) :\n",
    "    #  Given a linked list and an integer n, append the last n elements of the LL\n",
    "    #  to front. \n",
    "    #############################\n",
    "    # PLEASE ADD YOUR CODE HERE #\n",
    "    #############################\n",
    "    h1=head\n",
    "    curr=head\n",
    "    l=length(head)\n",
    "    i=1\n",
    "    while i < l-n:\n",
    "        curr=curr.next\n",
    "        i+=1\n",
    "    h2=curr.next\n",
    "    tail=h2\n",
    "    curr.next=None\n",
    "    while True:\n",
    "        if tail.next is None:\n",
    "            tail.next=h1\n",
    "            break\n",
    "        tail=tail.next\n",
    "    return h2\n",
    "\n",
    "def ll(arr):\n",
    "    if len(arr)==0:\n",
    "        return None\n",
    "    head = Node(arr[0])\n",
    "    last = head\n",
    "    for data in arr[1:]:\n",
    "        last.next = Node(data)\n",
    "        last = last.next\n",
    "    return head\n",
    "\n",
    "def printll(head):\n",
    "    while head:\n",
    "        print(head.data, end=' ')\n",
    "        head = head.next\n",
    "    print()\n",
    "\n",
    "# Main\n",
    "# Read the link list elements including -1\n",
    "arr=list(int(i) for i in input().strip().split(' '))\n",
    "# Create a Linked list after removing -1 from list\n",
    "l = ll(arr[:-1])\n",
    "i=int(input())\n",
    "l = append_LinkedList(l, i)\n",
    "printll(l)"
   ]
  },
  {
   "cell_type": "markdown",
   "metadata": {},
   "source": [
    "# Eliminate duplicates from LL"
   ]
  },
  {
   "cell_type": "code",
   "execution_count": 1,
   "metadata": {},
   "outputs": [
    {
     "name": "stdout",
     "output_type": "stream",
     "text": [
      "1 2 2 2 3 3 3\n",
      "1 2 3 \n"
     ]
    }
   ],
   "source": [
    "class Node:\n",
    "    def __init__(self, data):\n",
    "        self.data = data\n",
    "        self.next = None\n",
    "\n",
    "def eliminate_duplicate(head):\n",
    "    #  Given a sorted linked list (elements are sorted in ascending order).\n",
    "    #  Eliminate duplicates from the given LL, such that output LL contains only\n",
    "    #  unique elements.\n",
    "    #############################\n",
    "    # PLEASE ADD YOUR CODE HERE #\n",
    "    #############################\n",
    "    h=head\n",
    "    t=head.next\n",
    "    while t is not None:\n",
    "        if h.data!=t.data:\n",
    "            h.next=t\n",
    "            t=t.next\n",
    "            h=h.next\n",
    "        else:\n",
    "            t=t.next\n",
    "    h.next=None\n",
    "    return head\n",
    "\n",
    "def ll(arr):\n",
    "    if len(arr)==0:\n",
    "        return None\n",
    "    head = Node(arr[0])\n",
    "    last = head\n",
    "    for data in arr[1:]:\n",
    "        last.next = Node(data)\n",
    "        last = last.next\n",
    "    return head\n",
    "\n",
    "def printll(head):\n",
    "    while head:\n",
    "        print(head.data, end=' ')\n",
    "        head = head.next\n",
    "    print()\n",
    "\n",
    "# Main\n",
    "# Read the link list elements including -1\n",
    "arr=list(int(i) for i in input().strip().split(' '))\n",
    "# Create a Linked list after removing -1 from list\n",
    "l = ll(arr[:-1])\n",
    "l = eliminate_duplicate(l)\n",
    "printll(l)"
   ]
  },
  {
   "cell_type": "markdown",
   "metadata": {},
   "source": [
    "# Print reverse LinkedList"
   ]
  },
  {
   "cell_type": "code",
   "execution_count": 2,
   "metadata": {},
   "outputs": [
    {
     "name": "stdout",
     "output_type": "stream",
     "text": [
      "1 2 3 4 5\n",
      "4 3 2 1 "
     ]
    }
   ],
   "source": [
    "class Node:\n",
    "    def __init__(self, data):\n",
    "        self.data = data\n",
    "        self.next = None\n",
    "\n",
    "def print_linkedlist_spl(head):\n",
    "    #  Print a given linked list in reverse order. You need to print the tail\n",
    "    #  first and head last. You can’t change any pointer in the linked list, just\n",
    "    #  print it in reverse order.\n",
    "    #  GOOD PROBLEM for RECURSION\n",
    "    #############################\n",
    "    # PLEASE ADD YOUR CODE HERE #\n",
    "    #############################\n",
    "    if head is None:\n",
    "        return \n",
    "    print_linkedlist_spl(head.next)\n",
    "    print(head.data,end=\" \")\n",
    "\n",
    "def ll(arr):\n",
    "    if len(arr)==0:\n",
    "        return None\n",
    "    head = Node(arr[0])\n",
    "    last = head\n",
    "    for data in arr[1:]:\n",
    "        last.next = Node(data)\n",
    "        last = last.next\n",
    "    return head\n",
    "\n",
    "# Main\n",
    "# Read the link list elements including -1\n",
    "from sys import setrecursionlimit\n",
    "setrecursionlimit(10000)\n",
    "arr=list(int(i) for i in input().strip().split(' '))\n",
    "# Create a Linked list after removing -1 from list\n",
    "l = ll(arr[:-1])\n",
    "print_linkedlist_spl(l)"
   ]
  },
  {
   "cell_type": "markdown",
   "metadata": {},
   "source": [
    "# Palindrome LinkedList"
   ]
  },
  {
   "cell_type": "code",
   "execution_count": null,
   "metadata": {},
   "outputs": [],
   "source": [
    "class Node:\n",
    "    def __init__(self, data):\n",
    "        self.data = data\n",
    "        self.next = None\n",
    "def end_node(head):\n",
    "    while head.next!=None:\n",
    "        head=head.next\n",
    "    return head\n",
    "def prev_node(head,tail):\n",
    "    while head and head.next!=tail:\n",
    "        head=head.next\n",
    "    return head\n",
    "\n",
    "\n",
    "def check_palindrome(head) :\n",
    "    #############################\n",
    "    # PLEASE ADD YOUR CODE HERE #\n",
    "    #############################\n",
    "    start=head\n",
    "    tail=end_node(head)\n",
    "    while start!=tail and tail.next!=start:\n",
    "        if start.data!=tail.data:\n",
    "            return False\n",
    "        start=start.next\n",
    "        tail = prev_node(head,tail)\n",
    "    return True\n",
    "    \n",
    "    \n",
    "    \n",
    "    # if head.next is None:\n",
    "    #     return True\n",
    "    # if head.next.next is None:\n",
    "    #     v1=head\n",
    "    #     v2=head.next\n",
    "    #     if v1.data==v2.data:\n",
    "    #         return True\n",
    "    #     else:\n",
    "    #         return False\n",
    "    # h=head\n",
    "    # t=head\n",
    "    # while t.next is not None and t.next.next is not None:\n",
    "    #     h=h.next\n",
    "    #     t=t.next.next\n",
    "    # f1=head\n",
    "    # f2=h.next\n",
    "    # h.next=None\n",
    "    # r=rev(f2)\n",
    "    # while f1 is not None and f2 is not None:\n",
    "    #     if f1.data!=f2.data:\n",
    "    #         return False\n",
    "    #     f1=f1.next\n",
    "    #     f2=f2.next\n",
    "    # return True\n",
    "\n",
    "\n",
    "    # while f1 is not None:\n",
    "    #     print(f1.data,end=\" \")\n",
    "    #     f1=f1.next\n",
    "    # print()\n",
    "    # while r is not None:\n",
    "    #     print(r.data,end=\" \")\n",
    "    #     r=r.next\n",
    "    \n",
    "    \n",
    "    \n",
    "def ll(arr):\n",
    "    if len(arr)==0:\n",
    "        return None\n",
    "    head = Node(arr[0])\n",
    "    last = head\n",
    "    for data in arr[1:]:\n",
    "        last.next = Node(data)\n",
    "        last = last.next\n",
    "    return head\n",
    "\n",
    "# Main\n",
    "# Read the link list elements including -1\n",
    "arr=list(int(i) for i in input().strip().split(' '))\n",
    "# Create a Linked list after removing -1 from list\n",
    "l = ll(arr[:-1])\n",
    "ans = check_palindrome(l)\n",
    "if ans:\n",
    "    print(\"true\")\n",
    "else:\n",
    "    print(\"false\")"
   ]
  }
 ],
 "metadata": {
  "kernelspec": {
   "display_name": "Python 3",
   "language": "python",
   "name": "python3"
  },
  "language_info": {
   "codemirror_mode": {
    "name": "ipython",
    "version": 3
   },
   "file_extension": ".py",
   "mimetype": "text/x-python",
   "name": "python",
   "nbconvert_exporter": "python",
   "pygments_lexer": "ipython3",
   "version": "3.7.4"
  }
 },
 "nbformat": 4,
 "nbformat_minor": 4
}
