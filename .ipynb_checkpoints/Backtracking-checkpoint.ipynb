{
 "cells": [
  {
   "cell_type": "markdown",
   "metadata": {},
   "source": [
    "# Rat In A Maze"
   ]
  },
  {
   "cell_type": "code",
   "execution_count": 2,
   "metadata": {},
   "outputs": [
    {
     "ename": "SyntaxError",
     "evalue": "invalid syntax (<ipython-input-2-bee4a0bbbbc0>, line 1)",
     "output_type": "error",
     "traceback": [
      "\u001b[1;36m  File \u001b[1;32m\"<ipython-input-2-bee4a0bbbbc0>\"\u001b[1;36m, line \u001b[1;32m1\u001b[0m\n\u001b[1;33m    def printPathHelper(0, 0, maze, n, solutionMatrix):\u001b[0m\n\u001b[1;37m                        ^\u001b[0m\n\u001b[1;31mSyntaxError\u001b[0m\u001b[1;31m:\u001b[0m invalid syntax\n"
     ]
    }
   ],
   "source": [
    "def printPathHelper(x, y, maze, n, solutionMatrix):\n",
    "    \n",
    "    if x == n-1 and y = n-1:\n",
    "        solutionMatrix[x][y] = 1\n",
    "        print(solutionMatrix)\n",
    "        return\n",
    "    if x < 0 or y < 0 or x >= n or y >= n or maze[x][y] == 0 or solutionMatrix[x][y] == 1:\n",
    "        return\n",
    "    \n",
    "    solutionMatrix[x][y] = 1\n",
    "\n",
    "def printPath(maze):\n",
    "    n = len(maze)\n",
    "    solutionMatrix = [[0 for j in range(n)] for i in range(n)]\n",
    "    \n",
    "    printPathHelper(0, 0, maze, n, solutionMatrix)\n",
    "    \n",
    "n = int(input())\n",
    "maze = []\n",
    "for i in range(n):\n",
    "    row = [int(ele) for ele in input().split()]\n",
    "    maze.append(row)\n",
    "print(maze)\n",
    "printPath(maze)"
   ]
  },
  {
   "cell_type": "code",
   "execution_count": null,
   "metadata": {},
   "outputs": [],
   "source": []
  }
 ],
 "metadata": {
  "kernelspec": {
   "display_name": "Python 3",
   "language": "python",
   "name": "python3"
  },
  "language_info": {
   "codemirror_mode": {
    "name": "ipython",
    "version": 3
   },
   "file_extension": ".py",
   "mimetype": "text/x-python",
   "name": "python",
   "nbconvert_exporter": "python",
   "pygments_lexer": "ipython3",
   "version": "3.7.4"
  }
 },
 "nbformat": 4,
 "nbformat_minor": 4
}
