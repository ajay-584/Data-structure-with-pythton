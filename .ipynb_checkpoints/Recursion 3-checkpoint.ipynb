{
 "cells": [
  {
   "cell_type": "markdown",
   "metadata": {},
   "source": [
    "# Return Subsequences"
   ]
  },
  {
   "cell_type": "code",
   "execution_count": null,
   "metadata": {},
   "outputs": [],
   "source": [
    "\"\"\"\n",
    "Given a string (lets say of length n), return all the subsequences of the given string.\n",
    "Subsequences contain all the strings of length varying from 0 to n. But the order of characters should remain same as in the input string.\n",
    "Note : The order of subsequences are not important.\n",
    "Sample Input:\n",
    "abc\n",
    "Sample Output:\n",
    "\"\" (the double quotes just signifies an empty string, don't worry about the quotes)\n",
    "c \n",
    "b \n",
    "bc \n",
    "a \n",
    "ac \n",
    "ab \n",
    "abc \n",
    "\"\"\""
   ]
  }
 ],
 "metadata": {
  "kernelspec": {
   "display_name": "Python 3",
   "language": "python",
   "name": "python3"
  },
  "language_info": {
   "codemirror_mode": {
    "name": "ipython",
    "version": 3
   },
   "file_extension": ".py",
   "mimetype": "text/x-python",
   "name": "python",
   "nbconvert_exporter": "python",
   "pygments_lexer": "ipython3",
   "version": "3.7.4"
  }
 },
 "nbformat": 4,
 "nbformat_minor": 4
}
