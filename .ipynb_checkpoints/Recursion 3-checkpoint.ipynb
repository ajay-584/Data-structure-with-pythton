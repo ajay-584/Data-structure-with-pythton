{
 "cells": [
  {
   "cell_type": "markdown",
   "metadata": {},
   "source": [
    "# Return Subsequences"
   ]
  },
  {
   "cell_type": "code",
   "execution_count": 3,
   "metadata": {},
   "outputs": [
    {
     "name": "stdout",
     "output_type": "stream",
     "text": [
      "abc\n",
      "\n",
      "c\n",
      "b\n",
      "bc\n",
      "a\n",
      "ac\n",
      "ab\n",
      "abc\n"
     ]
    }
   ],
   "source": [
    "\"\"\"\n",
    "Given a string (lets say of length n), return all the subsequences of the given string.\n",
    "Subsequences contain all the strings of length varying from 0 to n. But the order of characters should remain same as in the input string.\n",
    "Note : The order of subsequences are not important.\n",
    "Sample Input:\n",
    "abc\n",
    "Sample Output:\n",
    "\"\" (the double quotes just signifies an empty string, don't worry about the quotes)\n",
    "c \n",
    "b \n",
    "bc \n",
    "a \n",
    "ac \n",
    "ab \n",
    "abc \n",
    "\"\"\"\n",
    "def subsequences(s):\n",
    "    if len(s) == 0 :\n",
    "        output = []\n",
    "        output.append(\"\")\n",
    "        return output\n",
    "    smallerString = s[1:]\n",
    "    smallerOutput = subsequences(smallerString)\n",
    "    \n",
    "    output = []\n",
    "    for sub in smallerOutput:\n",
    "        output.append(sub)\n",
    "    for sub in smallerOutput:\n",
    "        subs_with_zeroth_char = s[0] + sub\n",
    "        output.append(subs_with_zeroth_char)\n",
    "    \n",
    "    return output\n",
    "\n",
    "string = input()\n",
    "ans = subsequences(string)\n",
    "for ele in ans:\n",
    "    print(ele)"
   ]
  },
  {
   "cell_type": "markdown",
   "metadata": {},
   "source": [
    "# Return Keypad Combinations"
   ]
  },
  {
   "cell_type": "code",
   "execution_count": 8,
   "metadata": {},
   "outputs": [
    {
     "name": "stdout",
     "output_type": "stream",
     "text": [
      "23\n",
      "ad\n",
      "ae\n",
      "af\n",
      "bd\n",
      "be\n",
      "bf\n",
      "cd\n",
      "ce\n",
      "cf\n"
     ]
    }
   ],
   "source": [
    "\"\"\"\n",
    "Given an integer n, using phone keypad find out all the possible strings that can be made using digits of input n.\n",
    "Note : The order of strings are not important.\n",
    "Input Format :\n",
    "Integer n\n",
    "Output Format :\n",
    "All possible strings in different lines\n",
    "Constraints :\n",
    "1 <= n <= 10^6\n",
    "Sample Input:\n",
    "23\n",
    "Sample Output:\n",
    "ad\n",
    "ae\n",
    "af\n",
    "bd\n",
    "be\n",
    "bf\n",
    "cd\n",
    "ce\n",
    "cf\n",
    "\"\"\"\n",
    "def getString(d):\n",
    "    if d == 2:\n",
    "        return 'abc'\n",
    "    if d == 3:\n",
    "        return 'def'\n",
    "    if d == 4:\n",
    "        return 'ghi'\n",
    "    if d == 5:\n",
    "        return 'jkl'\n",
    "    if d == 6:\n",
    "        return 'mno'\n",
    "    if d == 7:\n",
    "        return 'pqrs'\n",
    "    if d == 8:\n",
    "        return 'tuv'\n",
    "    if d == 9:\n",
    "        return 'wxyz'\n",
    "\n",
    "def keypad(n):\n",
    "    #Implement Your Code Here\n",
    "    if n == 0:\n",
    "        output = []\n",
    "        output.append(\"\")\n",
    "        return output\n",
    "    \n",
    "    smallerNumber = n // 10\n",
    "    lastDigit = n % 10\n",
    "    \n",
    "    smallerOutput = keypad(smallerNumber)\n",
    "    optionsForLastDigit = getString(lastDigit)\n",
    "    \n",
    "    output = []\n",
    "    for s in smallerOutput:\n",
    "        for c in optionsForLastDigit:\n",
    "            option = s + c\n",
    "            output.append(option)\n",
    "    return output\n",
    "\n",
    "n = int(input())\n",
    "ans = keypad(n)\n",
    "for s in ans:\n",
    "    print(s)"
   ]
  },
  {
   "cell_type": "markdown",
   "metadata": {},
   "source": [
    "# Print Output Instead Of Returning"
   ]
  },
  {
   "cell_type": "code",
   "execution_count": 10,
   "metadata": {},
   "outputs": [
    {
     "name": "stdout",
     "output_type": "stream",
     "text": [
      "120\n"
     ]
    }
   ],
   "source": [
    "def printFactorial(n,ans):\n",
    "    if n == 0:\n",
    "        print(ans)\n",
    "        return\n",
    "    ans = ans * n\n",
    "    printFactorial(n-1, ans)\n",
    "\n",
    "printFactorial(5,1)"
   ]
  },
  {
   "cell_type": "markdown",
   "metadata": {},
   "source": [
    "# Minimum Of Array"
   ]
  },
  {
   "cell_type": "code",
   "execution_count": 20,
   "metadata": {},
   "outputs": [
    {
     "name": "stdout",
     "output_type": "stream",
     "text": [
      "-8\n"
     ]
    }
   ],
   "source": [
    "def minList(l):\n",
    "    if len(l) == 1:\n",
    "        return l[0]\n",
    "    minSmallArray = minList(l[1:])\n",
    "    overallMin = min(minSmallArray, l[0])\n",
    "    return overallMin\n",
    "\n",
    "\n",
    "# ===========================================================================================================\n",
    "\n",
    "import sys\n",
    "def printMin(l, minSoFar = sys.maxsize):\n",
    "    if len(l) == 1:\n",
    "        print(minSoFar)\n",
    "        return \n",
    "    newMin = min(minSoFar,l[0])\n",
    "    printMin(l[1:],newMin)\n",
    "\n",
    "printMin([1,2,3,4,-8,-2,-4])"
   ]
  },
  {
   "cell_type": "markdown",
   "metadata": {},
   "source": [
    "# Print All Subsequences Solution"
   ]
  },
  {
   "cell_type": "code",
   "execution_count": 4,
   "metadata": {},
   "outputs": [
    {
     "name": "stdout",
     "output_type": "stream",
     "text": [
      "abc\n",
      "\n",
      "c\n",
      "b\n",
      "bc\n",
      "a\n",
      "ac\n",
      "ab\n",
      "abc\n"
     ]
    }
   ],
   "source": [
    "\"\"\"\n",
    "Given a string (lets say of length n), print all the subsequences of the given string.\n",
    "Subsequences contain all the strings of length varying from 0 to n. But the order of characters should remain same as in the input string.\n",
    "Note : The order of subsequences are not important. Print every subsequence in new line.\n",
    "Sample Input:\n",
    "abc\n",
    "Sample Output:\n",
    "\"\" (the double quotes just signifies an empty string, don't worry about the quotes)\n",
    "c \n",
    "b \n",
    "bc \n",
    "a \n",
    "ac \n",
    "ab \n",
    "abc \n",
    "\"\"\"\n",
    "def printSubs(string, output):\n",
    "    if len(string) == 0:\n",
    "        print(output)\n",
    "        return\n",
    "    # don't include 0th char\n",
    "    printSubs(string[1:], output)\n",
    "    newOutput = output + string[0]\n",
    "    # include 0th char\n",
    "    printSubs(string[1:], newOutput)\n",
    "    \n",
    "string = input()\n",
    "printSubs(string,\"\")"
   ]
  },
  {
   "cell_type": "markdown",
   "metadata": {},
   "source": [
    "# Print Keypad Combinations"
   ]
  },
  {
   "cell_type": "code",
   "execution_count": 5,
   "metadata": {},
   "outputs": [
    {
     "name": "stdout",
     "output_type": "stream",
     "text": [
      "23\n",
      "ad\n",
      "bd\n",
      "cd\n",
      "ae\n",
      "be\n",
      "ce\n",
      "af\n",
      "bf\n",
      "cf\n"
     ]
    }
   ],
   "source": [
    "\"\"\"\n",
    "Given an integer n, using phone keypad find out and print all the possible strings that can be made using digits of input n.\n",
    "Note : The order of strings are not important. Just print different strings in new lines.\n",
    "Input Format :\n",
    "Integer n\n",
    "Output Format :\n",
    "All possible strings in different lines\n",
    "Constraints :\n",
    "1 <= n <= 10^6\n",
    "Sample Input:\n",
    "23\n",
    "Sample Output:\n",
    "ad\n",
    "ae\n",
    "af\n",
    "bd\n",
    "be\n",
    "bf\n",
    "cd\n",
    "ce\n",
    "cf\n",
    "\"\"\"\n",
    "def getString(d):\n",
    "    if d == 2:\n",
    "        return 'abc'\n",
    "    if d == 3:\n",
    "        return 'def'\n",
    "    if d == 4:\n",
    "        return 'ghi'\n",
    "    if d == 5:\n",
    "        return 'jkl'\n",
    "    if d == 6:\n",
    "        return 'mno'\n",
    "    if d == 7:\n",
    "        return 'pqrs'\n",
    "    if d == 8:\n",
    "        return 'tuv'\n",
    "    if d == 9:\n",
    "        return 'wxyz'\n",
    "    return \" \"\n",
    "\n",
    "def printkeypad(n,output):\n",
    "    if n == 0:\n",
    "        print(output)\n",
    "        return\n",
    "    smallNumber = n // 10\n",
    "    lastDigit = n % 10\n",
    "    \n",
    "    optionsForLastDigit = getString(lastDigit)\n",
    "    for c in optionsForLastDigit:\n",
    "        newOutput = c + output\n",
    "        printkeypad(smallNumber, newOutput)\n",
    "\n",
    "n = int(input())\n",
    "printkeypad(n,\"\")"
   ]
  },
  {
   "cell_type": "code",
   "execution_count": null,
   "metadata": {},
   "outputs": [],
   "source": []
  }
 ],
 "metadata": {
  "kernelspec": {
   "display_name": "Python 3",
   "language": "python",
   "name": "python3"
  },
  "language_info": {
   "codemirror_mode": {
    "name": "ipython",
    "version": 3
   },
   "file_extension": ".py",
   "mimetype": "text/x-python",
   "name": "python",
   "nbconvert_exporter": "python",
   "pygments_lexer": "ipython3",
   "version": "3.7.4"
  }
 },
 "nbformat": 4,
 "nbformat_minor": 4
}
