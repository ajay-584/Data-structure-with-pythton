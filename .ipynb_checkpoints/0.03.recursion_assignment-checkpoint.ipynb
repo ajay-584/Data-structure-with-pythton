{
 "cells": [
  {
   "cell_type": "markdown",
   "metadata": {},
   "source": [
    "# Geometric Sum(recursive)"
   ]
  },
  {
   "cell_type": "code",
   "execution_count": 1,
   "metadata": {},
   "outputs": [
    {
     "name": "stdout",
     "output_type": "stream",
     "text": [
      "5\n",
      "1.96875\n"
     ]
    }
   ],
   "source": [
    "## Read input as specified in the question.\n",
    "## Print output as specified in the question.\n",
    "def gsum(k):\n",
    "    if k==0:\n",
    "        return 1\n",
    "    a=gsum(k-1)\n",
    "    return 1/2**k+a\n",
    "k=int(input())\n",
    "print(\"%.5f\"%gsum(k))"
   ]
  },
  {
   "cell_type": "markdown",
   "metadata": {},
   "source": [
    "# Check Polindrome(recursive)"
   ]
  },
  {
   "cell_type": "code",
   "execution_count": 4,
   "metadata": {},
   "outputs": [
    {
     "name": "stdout",
     "output_type": "stream",
     "text": [
      "hjkl\n",
      "false\n"
     ]
    }
   ],
   "source": [
    "## Read input as specified in the question.\n",
    "## Print output as specified in the question.\n",
    "def pal(s,l,r):\n",
    "    if r==1:\n",
    "        return True\n",
    "    if s[l]!=s[r]:\n",
    "        return False\n",
    "    return pal(s,l+1,r-1)\n",
    "s=input()\n",
    "n=len(s)-1\n",
    "if pal(s,0,n):\n",
    "    print(\"true\")\n",
    "else:\n",
    "    print(\"false\")"
   ]
  },
  {
   "cell_type": "markdown",
   "metadata": {},
   "source": [
    "# Sum of digits (recursive)"
   ]
  },
  {
   "cell_type": "code",
   "execution_count": 6,
   "metadata": {},
   "outputs": [
    {
     "name": "stdout",
     "output_type": "stream",
     "text": [
      "1234\n",
      "10\n",
      "456\n",
      "15\n"
     ]
    }
   ],
   "source": [
    "## Read input as specified in the question.\n",
    "## Print output as specified in the question.\n",
    "def add(a):\n",
    "    if len(a)==1:\n",
    "        return a[0]\n",
    "    output=add(a[1:])\n",
    "    return a[0]+output\n",
    "n=list(map(int,input()))\n",
    "print(add(n))\n",
    "## Read input as specified in the question.\n",
    "## Print output as specified in the question.\n",
    "def add(n):\n",
    "    if n==0:\n",
    "        return 0\n",
    "    output=add(int(n/10))\n",
    "    return n%10+output\n",
    "n=int(input())\n",
    "print(add(n))"
   ]
  },
  {
   "cell_type": "markdown",
   "metadata": {},
   "source": [
    "# Multiplication (Recursive)"
   ]
  },
  {
   "cell_type": "code",
   "execution_count": null,
   "metadata": {},
   "outputs": [],
   "source": [
    "## Read input as specified in the question.\n",
    "## Print output as specified in the question.\n",
    "def mul(a,b):\n",
    "    if a<b:\n",
    "        return mul(b,a)\n",
    "    elif b!=0:\n",
    "        output=mul(a,b-1)\n",
    "        return a+output\n",
    "    else:\n",
    "        return 0\n",
    "a=int(input())\n",
    "b=int(input())\n",
    "print(mul(a,b))"
   ]
  },
  {
   "cell_type": "markdown",
   "metadata": {},
   "source": [
    "# Count Zero"
   ]
  },
  {
   "cell_type": "code",
   "execution_count": 2,
   "metadata": {},
   "outputs": [
    {
     "name": "stdout",
     "output_type": "stream",
     "text": [
      "00800\n",
      "2\n"
     ]
    }
   ],
   "source": [
    "## Read input as specified in the question.\n",
    "## Print output as specified in the question.\n",
    "def count_zero(n):\n",
    "    if n==0:\n",
    "        return 0\n",
    "    output=count_zero(int(n/10))\n",
    "    if n%10==0:\n",
    "        return 1+output\n",
    "    else:\n",
    "        return output\n",
    "n=int(input())\n",
    "print(count_zero(n))"
   ]
  },
  {
   "cell_type": "code",
   "execution_count": 3,
   "metadata": {},
   "outputs": [
    {
     "name": "stdout",
     "output_type": "stream",
     "text": [
      "00876\n"
     ]
    },
    {
     "data": {
      "text/plain": [
       "0"
      ]
     },
     "execution_count": 3,
     "metadata": {},
     "output_type": "execute_result"
    }
   ],
   "source": [
    "## Read input as specified in the question.\n",
    "## Print output as specified in the question.\n",
    "def count_zero(a):\n",
    "    if len(a)==0:\n",
    "        return 0\n",
    "    output=count_zero(a[1:])\n",
    "    if a[0]==0:\n",
    "        return 1+output\n",
    "    else:\n",
    "        return output\n",
    "n=input()\n",
    "# print(count_zero(n))\n",
    "c=0\n",
    "k=count_zero(n)\n",
    "k"
   ]
  },
  {
   "cell_type": "markdown",
   "metadata": {},
   "source": [
    "# String to interger"
   ]
  },
  {
   "cell_type": "code",
   "execution_count": 1,
   "metadata": {},
   "outputs": [
    {
     "name": "stdout",
     "output_type": "stream",
     "text": [
      "123\n",
      "123\n"
     ]
    }
   ],
   "source": [
    "## Read input as specified in the question.\n",
    "## Print output as specified in the question.\n",
    "def ston(s):\n",
    "    l=len(s)\n",
    "    if l==0:\n",
    "        return 0\n",
    "    output=ston(s[:-1])\n",
    "    return ((ord(s[-1])-48)+(output*10))\n",
    "    # print(s[0])\n",
    "s=input()\n",
    "print(ston(s))\n",
    "# print(ord(s[2])-ord(\"0\"))"
   ]
  },
  {
   "cell_type": "markdown",
   "metadata": {},
   "source": [
    "# Pair Star"
   ]
  },
  {
   "cell_type": "code",
   "execution_count": 2,
   "metadata": {},
   "outputs": [
    {
     "name": "stdout",
     "output_type": "stream",
     "text": [
      "aaaa\n",
      "a*a*a*a\n"
     ]
    }
   ],
   "source": [
    "## Read input as specified in the question.\n",
    "## Print output as specified in the question.\n",
    "def pair_star(s):\n",
    "    if len(s)==1 or len(s)==0:\n",
    "        return s\n",
    "    output=pair_star(s[1:])\n",
    "    if s[0]==s[1]:\n",
    "        return s[0]+\"*\"+output\n",
    "    else:\n",
    "        return s[0]+output\n",
    "s=input()\n",
    "# pair_star(s)\n",
    "print(pair_star(s))"
   ]
  },
  {
   "cell_type": "markdown",
   "metadata": {},
   "source": [
    "# Check AB"
   ]
  },
  {
   "cell_type": "code",
   "execution_count": 4,
   "metadata": {},
   "outputs": [
    {
     "name": "stdout",
     "output_type": "stream",
     "text": [
      "rthjm\n",
      "false\n"
     ]
    }
   ],
   "source": [
    "## Read input as specified in the question.\n",
    "## Print output as specified in the question.\n",
    "def checkAB(s):\n",
    "    if len(s)==0 :\n",
    "        return True\n",
    "    if s[0]=='a':\n",
    "        if len(s[1:])==0:\n",
    "            return True\n",
    "        if s[1]=='a':\n",
    "            return checkAB(s[1:])\n",
    "        if len(s[1:])<2:\n",
    "            return False\n",
    "        if s[1:3]=='bb':\n",
    "            if len(s[3:])==0:\n",
    "                return True\n",
    "            if s[3]=='a':\n",
    "                return checkAB(s[4:])\n",
    "            \n",
    "        \n",
    "s=input()\n",
    "if checkAB(s):\n",
    "    print(\"true\")\n",
    "else:\n",
    "    print(\"false\")"
   ]
  },
  {
   "cell_type": "markdown",
   "metadata": {},
   "source": [
    "# starcase"
   ]
  },
  {
   "cell_type": "code",
   "execution_count": null,
   "metadata": {},
   "outputs": [],
   "source": [
    "## Read input as specified in the question.\n",
    "## Print output as specified in the question.\n",
    "def star_case(n):\n",
    "    if n==1 or n==0:\n",
    "        return 1\n",
    "    elif n==2:\n",
    "        return 2\n",
    "    elif n==3:\n",
    "        return 4\n",
    "    else:\n",
    "        return star_case(n-3)+star_case(n-2)+star_case(n-1)\n",
    "n=int(input())\n",
    "print(star_case(n))"
   ]
  }
 ],
 "metadata": {
  "kernelspec": {
   "display_name": "Python 3",
   "language": "python",
   "name": "python3"
  },
  "language_info": {
   "codemirror_mode": {
    "name": "ipython",
    "version": 3
   },
   "file_extension": ".py",
   "mimetype": "text/x-python",
   "name": "python",
   "nbconvert_exporter": "python",
   "pygments_lexer": "ipython3",
   "version": "3.7.4"
  }
 },
 "nbformat": 4,
 "nbformat_minor": 4
}
