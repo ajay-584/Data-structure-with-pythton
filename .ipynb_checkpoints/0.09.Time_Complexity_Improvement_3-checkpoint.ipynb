{
 "cells": [
  {
   "cell_type": "markdown",
   "metadata": {},
   "source": [
    "# Power Of A Number"
   ]
  },
  {
   "cell_type": "code",
   "execution_count": 1,
   "metadata": {},
   "outputs": [
    {
     "name": "stdout",
     "output_type": "stream",
     "text": [
      "4 6\n",
      "4096\n"
     ]
    }
   ],
   "source": [
    "def power(x, n):\n",
    "    # Please add your code here\n",
    "    if n==0:\n",
    "        return 1\n",
    "    output=pow(x,n//2)\n",
    "    if n%2==0:\n",
    "        return output*output\n",
    "    else:\n",
    "        return x*output*output\n",
    "\n",
    "# Main\n",
    "from sys import setrecursionlimit\n",
    "setrecursionlimit(11000)\n",
    "x, n=list(int(i) for i in input().strip().split(' '))\n",
    "print(power(x, n))\n"
   ]
  },
  {
   "cell_type": "markdown",
   "metadata": {},
   "source": [
    "# Array Intersection"
   ]
  },
  {
   "cell_type": "code",
   "execution_count": 3,
   "metadata": {},
   "outputs": [],
   "source": [
    "\"\"\"\n",
    "Given two random integer arrays, print their intersection. That is, print all the elements that are present in both the given arrays.\n",
    "Input arrays can contain duplicate elements.\n",
    "\"\"\"\n",
    "pass"
   ]
  },
  {
   "cell_type": "code",
   "execution_count": 4,
   "metadata": {},
   "outputs": [
    {
     "name": "stdout",
     "output_type": "stream",
     "text": [
      "4\n",
      "1 2 3 4\n",
      "7\n",
      "2 3 4 9 0 1 7\n",
      "1\n",
      "2\n",
      "3\n",
      "4\n"
     ]
    }
   ],
   "source": [
    "def intersection(arr1, arr2):\n",
    "    # Please add your code here\n",
    "    arr1.sort()\n",
    "    arr2.sort()\n",
    "    i=j=0\n",
    "    while i<len(arr1) and j<len(arr2):\n",
    "        if arr1[i]==arr2[j]:\n",
    "            print(arr2[j])\n",
    "            j+=1\n",
    "            i+=1\n",
    "        elif arr1[i]<arr2[j]:\n",
    "            i+=1\n",
    "        else:\n",
    "            j+=1\n",
    "\n",
    "# Main\n",
    "n1=int(input())\n",
    "arr1=list(int(i) for i in input().strip().split(' '))\n",
    "n2=int(input())\n",
    "arr2=list(int(i) for i in input().strip().split(' '))\n",
    "intersection(arr1, arr2) "
   ]
  },
  {
   "cell_type": "markdown",
   "metadata": {},
   "source": [
    "# Array Equilibrium Index"
   ]
  },
  {
   "cell_type": "code",
   "execution_count": 5,
   "metadata": {},
   "outputs": [],
   "source": [
    "\"\"\"\n",
    "Find and return the equilibrium index of an array. Equilibrium index of an array is an index i such that the sum of elements at indices less than i is equal to the sum of elements at indices greater than i.\n",
    "Element at index i is not included in either part.\n",
    "If more than one equilibrium index is present, you need to return the first one. And return -1 if no equilibrium index is present.\n",
    "\"\"\"\n",
    "pass"
   ]
  },
  {
   "cell_type": "code",
   "execution_count": 6,
   "metadata": {},
   "outputs": [
    {
     "name": "stdout",
     "output_type": "stream",
     "text": [
      "6\n",
      "1 2 3 4 5 6\n",
      "-1\n"
     ]
    }
   ],
   "source": [
    "def equilibriumIndex(arr):\n",
    "    # Please add your code here\n",
    "    lsum=0\n",
    "    rsum=sum(arr[1:])\n",
    "    for i in range(0,len(arr)-1):\n",
    "        if lsum==rsum:\n",
    "            return i\n",
    "        else:\n",
    "            lsum+=arr[i]\n",
    "            # print(lsum)\n",
    "            rsum-=arr[i+1]\n",
    "            # print(rsum)\n",
    "    else:\n",
    "        return -1\n",
    "\n",
    "# Main\n",
    "n = int(input())\n",
    "arr = [int(i) for i in input().strip().split()]\n",
    "print(equilibriumIndex(arr))"
   ]
  },
  {
   "cell_type": "markdown",
   "metadata": {},
   "source": [
    "# Assignment"
   ]
  },
  {
   "cell_type": "markdown",
   "metadata": {},
   "source": [
    "# Find the Unique Element"
   ]
  },
  {
   "cell_type": "code",
   "execution_count": 7,
   "metadata": {},
   "outputs": [],
   "source": [
    "\"\"\"\n",
    "Given an integer array of size 2N + 1. In this given array, N numbers are present twice and one number is present only once in the array.\n",
    "You need to find and return that number which is unique in the array.\n",
    "\"\"\"\n",
    "pass"
   ]
  },
  {
   "cell_type": "code",
   "execution_count": 8,
   "metadata": {},
   "outputs": [
    {
     "name": "stdout",
     "output_type": "stream",
     "text": [
      "5\n",
      "1 1 3 3 5\n",
      "5\n"
     ]
    }
   ],
   "source": [
    "def FindUnique(arr):\n",
    "    # Please add your code here\n",
    "    arr.sort()\n",
    "    c=0\n",
    "    pos=0\n",
    "    j=arr[0]\n",
    "    i=1\n",
    "    while i<len(arr):\n",
    "        if j==arr[i]:\n",
    "            c+=1\n",
    "        else:\n",
    "            j=arr[i]\n",
    "        if c>1:\n",
    "            pos=0\n",
    "            c=0\n",
    "        else:\n",
    "            pos=i\n",
    "        i+=1\n",
    "    return arr[pos]\n",
    "\n",
    "# Main\n",
    "n=int(input())\n",
    "arr=list(int(i) for i in input().strip().split(' '))\n",
    "unique=FindUnique(arr)\n",
    "print(unique)\n"
   ]
  },
  {
   "cell_type": "markdown",
   "metadata": {},
   "source": [
    "# Duplicate in array"
   ]
  },
  {
   "cell_type": "code",
   "execution_count": 5,
   "metadata": {},
   "outputs": [
    {
     "name": "stdout",
     "output_type": "stream",
     "text": [
      "9\n",
      "0 7 2 5 4 7 1 3 6\n",
      "7\n"
     ]
    }
   ],
   "source": [
    "\"\"\"\n",
    "Given an array of integers of size n which contains numbers from 0 to n - 2. Each number is present at least once. That is, if n = 5, numbers from 0 to 3 is present in the given array at least once and one number is present twice. You need to find and return that duplicate number present in the array.\n",
    "Assume, duplicate number is always present in the array.\n",
    "Input format :\n",
    "Line 1 : Size of input array\n",
    "Line 2 : Array elements (separated by space)\n",
    "Output Format :\n",
    "Duplicate element\n",
    "Constraints :\n",
    "1 <= n <= 10^6\n",
    "Sample Input:\n",
    "9\n",
    "0 7 2 5 4 7 1 3 6\n",
    "Sample Output:\n",
    "7\n",
    "\"\"\"\n",
    "def MissingNumber(arr):\n",
    "    # Please add your code here\n",
    "    l=[]\n",
    "    arr.sort()\n",
    "    for i in range(len(arr)-1):\n",
    "        if arr[i]==arr[i+1]:\n",
    "        \tl.append(arr[i+1])\n",
    "    return list(set(l))\n",
    "\"\"\"\n",
    "   def MissingNumber(arr,n):\n",
    "        arrsum=sum(arr)\n",
    "        nsum=((n-1)*(n-2))//2\n",
    "        return arrsum-nsum\n",
    "\"\"\"     \n",
    "\n",
    "# Main\n",
    "n=int(input())\n",
    "arr=list(int(i) for i in input().strip().split(' '))\n",
    "ans=MissingNumber(arr)\n",
    "print(*ans)\n"
   ]
  },
  {
   "cell_type": "markdown",
   "metadata": {},
   "source": [
    "# Pair sum in array"
   ]
  },
  {
   "cell_type": "code",
   "execution_count": 6,
   "metadata": {},
   "outputs": [
    {
     "name": "stdout",
     "output_type": "stream",
     "text": [
      "9\n",
      "1 3 6 2 5 4 3 2 4\n",
      "7\n",
      "1 6\n",
      "2 5\n",
      "2 5\n",
      "3 4\n",
      "3 4\n",
      "3 4\n",
      "3 4\n"
     ]
    }
   ],
   "source": [
    "\"\"\"\n",
    "Given a random integer array A and a number x. Find and print the pair of elements in the array which sum to x.\n",
    "Array A can contain duplicate elements.\n",
    "While printing a pair, print the smaller element first.\n",
    "That is, if a valid pair is (6, 5) print \"5 6\". There is no constraint that out of 5 pairs which have to be printed in 1st line. You can print pairs in any order, just be careful about the order of elements in a pair.\n",
    "Input format :\n",
    "Line 1 : Integer N (Array size)\n",
    "Line 2 : Array elements (separated by space)\n",
    "Line 3 : Integer x\n",
    "Output format :\n",
    "Line 1 : Pair 1 elements (separated by space)\n",
    "Line 2 : Pair 2 elements (separated by space)\n",
    "Line 3 : and so on\n",
    "Constraints :\n",
    "1 <= N <= 1000\n",
    "1 <= x <= 100\n",
    "Sample Input:\n",
    "9\n",
    "1 3 6 2 5 4 3 2 4\n",
    "7\n",
    "Sample Output :\n",
    "1 6\n",
    "3 4\n",
    "3 4\n",
    "2 5\n",
    "2 5\n",
    "3 4\n",
    "3 4\n",
    "\"\"\"\n",
    "def pairSum(arr, x):\n",
    "    # Please add your code here\n",
    "    arr.sort()\n",
    "    for i in range(len(arr)):\n",
    "        for j in range(i+1,len(arr)):\n",
    "            if arr[i]+arr[j]==x:\n",
    "                print(arr[i],arr[j])\n",
    "\n",
    "# Main\n",
    "n=int(input())\n",
    "arr=list(int(i) for i in input().strip().split(' '))\n",
    "sum=int(input())\n",
    "pairSum(arr, sum)"
   ]
  },
  {
   "cell_type": "markdown",
   "metadata": {},
   "source": [
    "# Triplet sum"
   ]
  },
  {
   "cell_type": "code",
   "execution_count": 7,
   "metadata": {},
   "outputs": [
    {
     "name": "stdout",
     "output_type": "stream",
     "text": [
      "7\n",
      "1 2 3 4 5 6 7 \n",
      "12\n",
      "1 4 7\n",
      "1 5 6\n",
      "2 3 7\n",
      "2 4 6\n",
      "3 4 5\n"
     ]
    }
   ],
   "source": [
    "\"\"\"\n",
    "Given a random integer array and a number x. Find and print the triplets of elements in the array which sum to x.\n",
    "While printing a triplet, print the smallest element first.\n",
    "That is, if a valid triplet is (6, 5, 10) print \"5 6 10\". There is no constraint that out of 5 triplets which have to be printed on 1st line. You can print triplets in any order, just be careful about the order of elements in a triplet.\n",
    "Input format :\n",
    "Line 1 : Integer N (Array Size)\n",
    "Line 2 : Array elements (separated by space)\n",
    "Line 3 : Integer x\n",
    "Output format :\n",
    "Line 1 : Triplet 1 elements (separated by space)\n",
    "Line 2 : Triplet 3 elements (separated by space)\n",
    "Line 3 : and so on\n",
    "Constraints :\n",
    "1 <= N <= 1000\n",
    "1 <= x <= 100\n",
    "Sample Input:\n",
    "7\n",
    "1 2 3 4 5 6 7 \n",
    "12\n",
    "Sample Output ;\n",
    "1 4 7\n",
    "1 5 6\n",
    "2 3 7\n",
    "2 4 6\n",
    "3 4 5\n",
    "\"\"\"\n",
    "def count(a,lst):\n",
    "    c=0\n",
    "    for ele in lst:\n",
    "        if ele==a:\n",
    "            c+=1\n",
    "    return c\n",
    "\n",
    "\n",
    "def printTriplet(lst,sum):\n",
    "    for i in range (len(lst)-2):\n",
    "        for j in range (i+1,len(lst)-1):\n",
    "            newSum=sum-lst[i]-lst[j]\n",
    "            if newSum in lst[j+1:]:\n",
    "                for k in range(count(newSum ,lst[j+1:])):\n",
    "                    mini=min(lst[i],lst[j],newSum)\n",
    "                    maxi=max(lst[i],lst[j],newSum)\n",
    "                    midd=sum-mini-maxi\n",
    "                    print(mini,midd,maxi)\n",
    "                    \n",
    "                \n",
    "\n",
    "n=int(input())\n",
    "lst=[int(x) for x in input().split()]\n",
    "sum=int(input())\n",
    "printTriplet(lst,sum)"
   ]
  },
  {
   "cell_type": "markdown",
   "metadata": {},
   "source": [
    "# Rotate array"
   ]
  },
  {
   "cell_type": "code",
   "execution_count": 8,
   "metadata": {},
   "outputs": [
    {
     "name": "stdout",
     "output_type": "stream",
     "text": [
      "7\n",
      "1 2 3 4 5 6 7\n",
      "2\n",
      "3 4 5 6 7 1 2\n"
     ]
    }
   ],
   "source": [
    "\"\"\"\n",
    "Given a random integer array of size n, write a function that rotates the given array by d elements (towards left)\n",
    "Change in the input array itself. You don't need to return or print elements.\n",
    "Input format :\n",
    "Line 1 : Integer n (Array Size)\n",
    "Line 2 : Array elements (separated by space)\n",
    "Line 3 : Integer d\n",
    "Output Format :\n",
    "Updated array elements in a single line (separated by space)\n",
    "Constraints :\n",
    "0 <= N <= 10^7\n",
    "0 <= d <= N\n",
    "Sample Input 1:\n",
    "7\n",
    "1 2 3 4 5 6 7\n",
    "2\n",
    "Sample Output 1:\n",
    "3 4 5 6 7 1 2\n",
    "Sample Input 2:\n",
    "7\n",
    "1 2 3 4 5 6 7\n",
    "0\n",
    "Sample Output 2:\n",
    "1 2 3 4 5 6 7\n",
    "\"\"\"\n",
    "def rot(arr,i,j):\n",
    "    while i<j:\n",
    "        arr[i],arr[j]=arr[j],arr[i]\n",
    "        i=i+1\n",
    "        j=j-1\n",
    "\n",
    "def Rotate(arr, d):\n",
    "    if d==0:\n",
    "        return\n",
    "    l=len(arr)\n",
    "    rot(arr,0,d-1)\n",
    "    rot(arr,d,l-1)\n",
    "    rot(arr,0,l-1)\n",
    "    # Please add your code here\n",
    "    \n",
    "\n",
    "# Main\n",
    "n=int(input())\n",
    "arr=list(int(i) for i in input().strip().split(' '))\n",
    "d=int(input())\n",
    "d=d%n\n",
    "Rotate(arr,d)\n",
    "print(*arr)"
   ]
  },
  {
   "cell_type": "markdown",
   "metadata": {},
   "source": [
    "# The End"
   ]
  }
 ],
 "metadata": {
  "kernelspec": {
   "display_name": "Python 3",
   "language": "python",
   "name": "python3"
  },
  "language_info": {
   "codemirror_mode": {
    "name": "ipython",
    "version": 3
   },
   "file_extension": ".py",
   "mimetype": "text/x-python",
   "name": "python",
   "nbconvert_exporter": "python",
   "pygments_lexer": "ipython3",
   "version": "3.7.4"
  }
 },
 "nbformat": 4,
 "nbformat_minor": 4
}
