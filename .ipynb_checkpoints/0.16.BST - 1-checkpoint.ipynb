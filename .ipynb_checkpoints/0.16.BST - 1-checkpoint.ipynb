{
 "cells": [
  {
   "cell_type": "markdown",
   "metadata": {},
   "source": [
    "# Quiz"
   ]
  },
  {
   "cell_type": "code",
   "execution_count": 1,
   "metadata": {},
   "outputs": [],
   "source": [
    "\"\"\"\n",
    "Is this a BST ?\n",
    "10\n",
    "  \\\n",
    "   20\n",
    "    \\\n",
    "     30\n",
    "      \\\n",
    "       40\n",
    "        \\\n",
    "        50\n",
    "Options:\n",
    "yes\n",
    "No\n",
    "\n",
    "ans = Yes\n",
    "\"\"\"\n",
    "pass"
   ]
  },
  {
   "cell_type": "markdown",
   "metadata": {},
   "source": [
    "# Search In BST"
   ]
  },
  {
   "cell_type": "code",
   "execution_count": 2,
   "metadata": {},
   "outputs": [
    {
     "name": "stdout",
     "output_type": "stream",
     "text": [
      "8 5 10 2 6 -1 -1 -1 -1 -1 7 -1 -1\n",
      "6\n",
      "6\n"
     ]
    }
   ],
   "source": [
    "import queue\n",
    "class BinaryTreeNode:\n",
    "    def __init__(self, data):\n",
    "        self.data = data\n",
    "        self.left = None\n",
    "        self.right = None\n",
    "\n",
    "def searchInBST(root, k):\n",
    "    # Given a BST and an integer k. Find if the integer k is present in given\n",
    "    # BST or not. Return the node with data k if it is present, return null\n",
    "    # otherwise. Assume that BST contains all unique elements.\n",
    "    #############################\n",
    "    # PLEASE ADD YOUR CODE HERE #\n",
    "    #############################\n",
    "    if root==None:\n",
    "        return\n",
    "    if root.data==k:\n",
    "        return root\n",
    "    elif root.data<k:\n",
    "        return searchInBST(root.right,k)\n",
    "    else:\n",
    "        return searchInBST(root.left,k)\n",
    "\n",
    "def buildLevelTree(levelorder):\n",
    "    index = 0\n",
    "    length = len(levelorder)\n",
    "    if length<=0 or levelorder[0]==-1:\n",
    "        return None\n",
    "    root = BinaryTreeNode(levelorder[index])\n",
    "    index += 1\n",
    "    q = queue.Queue()\n",
    "    q.put(root)\n",
    "    while not q.empty():\n",
    "        currentNode = q.get()\n",
    "        leftChild = levelorder[index]\n",
    "        index += 1\n",
    "        if leftChild != -1:\n",
    "            leftNode = BinaryTreeNode(leftChild)\n",
    "            currentNode.left =leftNode\n",
    "            q.put(leftNode)\n",
    "        rightChild = levelorder[index]\n",
    "        index += 1\n",
    "        if rightChild != -1:\n",
    "            rightNode = BinaryTreeNode(rightChild)\n",
    "            currentNode.right =rightNode\n",
    "            q.put(rightNode)\n",
    "    return root\n",
    "\n",
    "# Main\n",
    "levelOrder = [int(i) for i in input().strip().split()]\n",
    "root = buildLevelTree(levelOrder)\n",
    "k=int(input())\n",
    "node=searchInBST(root, k)\n",
    "if node:\n",
    "    print(node.data)"
   ]
  },
  {
   "cell_type": "markdown",
   "metadata": {},
   "source": [
    "# Quiz"
   ]
  },
  {
   "cell_type": "code",
   "execution_count": 3,
   "metadata": {},
   "outputs": [],
   "source": [
    "\"\"\"\n",
    "The run time for traversing all the nodes of a binary search tree with n nodes and printing them in an order is\n",
    "a)  O(nlg(n))\n",
    "b)  O(n)\n",
    "c)  O(√n)\n",
    "d)  O(log(n))\n",
    "\n",
    "Options\n",
    "a\n",
    "b\n",
    "c\n",
    "d\n",
    "Ans=b\n",
    "\"\"\"\n",
    "pass"
   ]
  },
  {
   "cell_type": "markdown",
   "metadata": {},
   "source": [
    "# Print Elements In Range K1 and K2"
   ]
  },
  {
   "cell_type": "code",
   "execution_count": 5,
   "metadata": {},
   "outputs": [
    {
     "name": "stdout",
     "output_type": "stream",
     "text": [
      "8 5 10 2 6 -1 -1 -1 -1 -1 7 -1 -1\n",
      "2 9\n",
      "2 5 6 7 8 "
     ]
    }
   ],
   "source": [
    "import queue\n",
    "class BinaryTreeNode:\n",
    "    def __init__(self, data):\n",
    "        self.data = data\n",
    "        self.left = None\n",
    "        self.right = None\n",
    "\n",
    "def elementsInRangeK1K2(root, k1, k2):\n",
    "    # Given a Binary Search Tree and two integers k1 and k2, find and print the\n",
    "    # elements which are in range k1 and k2 (both inclusive). Print the elements\n",
    "    # in increasing order.\n",
    "    # Solution: Since the elemnts have to be printed in increasing oder we will\n",
    "    # use in-order traversal and print the node only if it lies between range\n",
    "    #############################\n",
    "    # PLEASE ADD YOUR CODE HERE #\n",
    "    #############################\n",
    "    if root == None:\n",
    "        return None\n",
    "    if root.data>k2:\n",
    "        elementsInRangeK1K2(root.left,k1,k2)\n",
    "    elif root.data<k1:\n",
    "        elementsInRangeK1K2(root.right,k1,k2)\n",
    "    else:\n",
    "        elementsInRangeK1K2(root.left,k1,k2)\n",
    "        print(root.data,end=\" \")\n",
    "        elementsInRangeK1K2(root.right,k1,k2)\n",
    "\n",
    "def buildLevelTree(levelorder):\n",
    "    index = 0\n",
    "    length = len(levelorder)\n",
    "    if length<=0 or levelorder[0]==-1:\n",
    "        return None\n",
    "    root = BinaryTreeNode(levelorder[index])\n",
    "    index += 1\n",
    "    q = queue.Queue()\n",
    "    q.put(root)\n",
    "    while not q.empty():\n",
    "        currentNode = q.get()\n",
    "        leftChild = levelorder[index]\n",
    "        index += 1\n",
    "        if leftChild != -1:\n",
    "            leftNode = BinaryTreeNode(leftChild)\n",
    "            currentNode.left =leftNode\n",
    "            q.put(leftNode)\n",
    "        rightChild = levelorder[index]\n",
    "        index += 1\n",
    "        if rightChild != -1:\n",
    "            rightNode = BinaryTreeNode(rightChild)\n",
    "            currentNode.right =rightNode\n",
    "            q.put(rightNode)\n",
    "    return root\n",
    "\n",
    "# Main\n",
    "levelOrder = [int(i) for i in input().strip().split()]\n",
    "root = buildLevelTree(levelOrder)\n",
    "k1, k2 = (int(i) for i in input().strip().split())\n",
    "elementsInRangeK1K2(root, k1, k2)"
   ]
  },
  {
   "cell_type": "markdown",
   "metadata": {},
   "source": [
    "# Construct BST"
   ]
  },
  {
   "cell_type": "code",
   "execution_count": 14,
   "metadata": {},
   "outputs": [
    {
     "name": "stdout",
     "output_type": "stream",
     "text": [
      "7\n",
      "1 2 3 4 5 6 7\n",
      "4 2 1 3 6 5 7 "
     ]
    }
   ],
   "source": [
    " import queue\n",
    "class BinaryTreeNode:\n",
    "    def __init__(self, data):\n",
    "        self.data = data\n",
    "        self.left = None\n",
    "        self.right = None\n",
    "\n",
    "def constructBST(lst):\n",
    "    # Given a sorted integer array A of size n which contains all unique\n",
    "    # elements. You need to construct a balanced BST from this input array.\n",
    "    # Return the root of constructed BST. If array size is even, take first mid\n",
    "    # as root.\n",
    "    #############################\n",
    "    # PLEASE ADD YOUR CODE HERE #\n",
    "    #############################\n",
    "    if not lst:\n",
    "        return None\n",
    "    m=int((len(lst)-1)/2)\n",
    "    left = lst[:m]\n",
    "    right = lst[m+1:]\n",
    "    root = BinaryTreeNode(lst[m])\n",
    "    l=constructBST(left)\n",
    "    r=constructBST(right)\n",
    "    root.left=l\n",
    "    root.right=r\n",
    "    return root\n",
    "\n",
    "def preOrder(root):\n",
    "    # Given a binary tree, print the preorder traversal of given tree. Pre-order\n",
    "    # traversal is: Root LeftChild RightChild\n",
    "    if root==None:\n",
    "        return\n",
    "    print(root.data, end=' ')\n",
    "    preOrder(root.left)\n",
    "    preOrder(root.right)\n",
    "\n",
    "# Main\n",
    "n=int(input())\n",
    "lst=[int(i) for i in input().strip().split()]\n",
    "root=constructBST(lst)\n",
    "preOrder(root)"
   ]
  },
  {
   "cell_type": "markdown",
   "metadata": {},
   "source": [
    "# Quiz"
   ]
  },
  {
   "cell_type": "code",
   "execution_count": 1,
   "metadata": {},
   "outputs": [],
   "source": [
    "\"\"\"\n",
    "Which type of traversal of binary search tree outputs the value in sorted order ?\n",
    "a)  Pre-order\n",
    "b)  In-order\n",
    "c)  Post-order\n",
    "d)  None\n",
    "\n",
    "Options\n",
    "a\n",
    "b \n",
    "c\n",
    "d\n",
    "\n",
    "ans = b\n",
    "\"\"\"\n",
    "pass"
   ]
  },
  {
   "cell_type": "markdown",
   "metadata": {},
   "source": [
    "# Check Is BST?"
   ]
  },
  {
   "cell_type": "code",
   "execution_count": 10,
   "metadata": {},
   "outputs": [
    {
     "name": "stdout",
     "output_type": "stream",
     "text": [
      "3 1 -1 -1 -1\n",
      "3 1 "
     ]
    },
    {
     "data": {
      "text/plain": [
       "True"
      ]
     },
     "execution_count": 10,
     "metadata": {},
     "output_type": "execute_result"
    }
   ],
   "source": [
    " import queue\n",
    "class BinaryTreeNode:\n",
    "    def __init__(self, data):\n",
    "        self.data = data\n",
    "        self.left = None\n",
    "        self.right = None\n",
    "\n",
    "def buildLevelTree(levelorder):\n",
    "    index = 0\n",
    "    length = len(levelorder)\n",
    "    if length<=0 or levelorder[0]==-1:\n",
    "        return None\n",
    "    root = BinaryTreeNode(levelorder[index])\n",
    "    index += 1\n",
    "    q = queue.Queue()\n",
    "    q.put(root)\n",
    "    while not q.empty():\n",
    "        currentNode = q.get()\n",
    "        leftChild = levelorder[index]\n",
    "        index += 1\n",
    "        if leftChild != -1:\n",
    "            leftNode = BinaryTreeNode(leftChild)\n",
    "            currentNode.left =leftNode\n",
    "            q.put(leftNode)\n",
    "        rightChild = levelorder[index]\n",
    "        index += 1\n",
    "        if rightChild != -1:\n",
    "            rightNode = BinaryTreeNode(rightChild)\n",
    "            currentNode.right =rightNode\n",
    "            q.put(rightNode)\n",
    "    return root\n",
    "\n",
    "def preOrder(root):\n",
    "    # Given a binary tree, print the preorder traversal of given tree. Pre-order\n",
    "    # traversal is: Root LeftChild RightChild\n",
    "    if root==None:\n",
    "        return\n",
    "    print(root.data, end=' ')\n",
    "    preOrder(root.left)\n",
    "    preOrder(root.right)\n",
    "def minTree(root):\n",
    "    if root == None:\n",
    "        return 10000\n",
    "    leftmin = minTree(root.left)\n",
    "    rightmin = minTree(root.right)\n",
    "    return min(root.data,leftmin,rightmin)\n",
    "def maxTree(root):\n",
    "    if root==None:\n",
    "        return -10000\n",
    "    leftmax = maxTree(root.left)\n",
    "    rightmax = maxTree(root.right)\n",
    "    return max(root.data,leftmax,rightmax)\n",
    "def isBst(root):\n",
    "    if root == None:\n",
    "        return True\n",
    "    leftmax = maxTree(root.left)\n",
    "    rightmin = minTree(root.right)\n",
    "    if root.data>rightmin or root.data<leftmax:\n",
    "        return False\n",
    "    isleftbst = isBst(root.left)\n",
    "    isrightbst = isBst(root.right)\n",
    "    return isleftbst and isrightbst\n",
    "\n",
    "# Main\n",
    "lst=[int(i) for i in input().strip().split()]\n",
    "root=buildLevelTree(lst)\n",
    "preOrder(root)\n",
    "isBst(root)"
   ]
  },
  {
   "cell_type": "markdown",
   "metadata": {},
   "source": [
    "# Improved Solution For Check BST?"
   ]
  },
  {
   "cell_type": "code",
   "execution_count": 8,
   "metadata": {},
   "outputs": [
    {
     "name": "stdout",
     "output_type": "stream",
     "text": [
      "4 2 6 1 3 5 7 -1 -1 -1 -1 -1 -1 -1 -1\n",
      "4 2 1 3 6 5 7 "
     ]
    },
    {
     "data": {
      "text/plain": [
       "(1, 7, True)"
      ]
     },
     "execution_count": 8,
     "metadata": {},
     "output_type": "execute_result"
    }
   ],
   "source": [
    " import queue\n",
    "class BinaryTreeNode:\n",
    "    def __init__(self, data):\n",
    "        self.data = data\n",
    "        self.left = None\n",
    "        self.right = None\n",
    "\n",
    "def buildLevelTree(levelorder):\n",
    "    index = 0\n",
    "    length = len(levelorder)\n",
    "    if length<=0 or levelorder[0]==-1:\n",
    "        return None\n",
    "    root = BinaryTreeNode(levelorder[index])\n",
    "    index += 1\n",
    "    q = queue.Queue()\n",
    "    q.put(root)\n",
    "    while not q.empty():\n",
    "        currentNode = q.get()\n",
    "        leftChild = levelorder[index]\n",
    "        index += 1\n",
    "        if leftChild != -1:\n",
    "            leftNode = BinaryTreeNode(leftChild)\n",
    "            currentNode.left =leftNode\n",
    "            q.put(leftNode)\n",
    "        rightChild = levelorder[index]\n",
    "        index += 1\n",
    "        if rightChild != -1:\n",
    "            rightNode = BinaryTreeNode(rightChild)\n",
    "            currentNode.right =rightNode\n",
    "            q.put(rightNode)\n",
    "    return root\n",
    "\n",
    "def preOrder(root):\n",
    "    # Given a binary tree, print the preorder traversal of given tree. Pre-order\n",
    "    # traversal is: Root LeftChild RightChild\n",
    "    if root==None:\n",
    "        return\n",
    "    print(root.data, end=' ')\n",
    "    preOrder(root.left)\n",
    "    preOrder(root.right)\n",
    "    \n",
    "    \n",
    "def isBst2(root):\n",
    "    if root == None:\n",
    "        return 10000 , -100000 , True\n",
    "    leftmin,leftmax,isleftbst = isBst2(root.left)\n",
    "    rightmin,rightmax,isrightbst = isBst2(root.right)\n",
    "    \n",
    "    minimum = min(leftmin,rightmin,root.data)\n",
    "    maximum = max(leftmax,rightmax,root.data)\n",
    "    isbst = True\n",
    "    if root.data < leftmax or root.data>rightmin:\n",
    "        isbst = False\n",
    "    if not isleftbst or not isrightbst:\n",
    "        isbst = False\n",
    "    return minimum, maximum, isbst\n",
    "\n",
    "# Main\n",
    "lst=[int(i) for i in input().strip().split()]\n",
    "root=buildLevelTree(lst)\n",
    "preOrder(root)\n",
    "isBst2(root)"
   ]
  },
  {
   "cell_type": "markdown",
   "metadata": {},
   "source": [
    "# Another Solution For Check BST?"
   ]
  },
  {
   "cell_type": "code",
   "execution_count": 16,
   "metadata": {},
   "outputs": [
    {
     "name": "stdout",
     "output_type": "stream",
     "text": [
      "4 2 6 1 3 5 7 -1 -1 -1 -1 -1 -1 -1 -1\n",
      "4 2 1 3 6 5 7 "
     ]
    },
    {
     "data": {
      "text/plain": [
       "True"
      ]
     },
     "execution_count": 16,
     "metadata": {},
     "output_type": "execute_result"
    }
   ],
   "source": [
    " import queue\n",
    "class BinaryTreeNode:\n",
    "    def __init__(self, data):\n",
    "        self.data = data\n",
    "        self.left = None\n",
    "        self.right = None\n",
    "\n",
    "def buildLevelTree(levelorder):\n",
    "    index = 0\n",
    "    length = len(levelorder)\n",
    "    if length<=0 or levelorder[0]==-1:\n",
    "        return None\n",
    "    root = BinaryTreeNode(levelorder[index])\n",
    "    index += 1\n",
    "    q = queue.Queue()\n",
    "    q.put(root)\n",
    "    while not q.empty():\n",
    "        currentNode = q.get()\n",
    "        leftChild = levelorder[index]\n",
    "        index += 1\n",
    "        if leftChild != -1:\n",
    "            leftNode = BinaryTreeNode(leftChild)\n",
    "            currentNode.left =leftNode\n",
    "            q.put(leftNode)\n",
    "        rightChild = levelorder[index]\n",
    "        index += 1\n",
    "        if rightChild != -1:\n",
    "            rightNode = BinaryTreeNode(rightChild)\n",
    "            currentNode.right =rightNode\n",
    "            q.put(rightNode)\n",
    "    return root\n",
    "\n",
    "def preOrder(root):\n",
    "    # Given a binary tree, print the preorder traversal of given tree. Pre-order\n",
    "    # traversal is: Root LeftChild RightChild\n",
    "    if root==None:\n",
    "        return\n",
    "    print(root.data, end=' ')\n",
    "    preOrder(root.left)\n",
    "    preOrder(root.right)\n",
    "    \n",
    "    \n",
    "def isBst3(root,min_range,max_range):\n",
    "    if root == None:\n",
    "        return True\n",
    "    if root.data < min_range or root.data > max_range:\n",
    "        return False\n",
    "    isLeftWithinConstraints = isBst3(root.left,min_range,root.data-1)\n",
    "    isRightWithinConstraints = isBst3(root.right,root.data,max_range)\n",
    "    return isLeftWithinConstraints and isRightWithinConstraints\n",
    "\n",
    "# Main\n",
    "lst=[int(i) for i in input().strip().split()]\n",
    "root=buildLevelTree(lst)\n",
    "preOrder(root)\n",
    "isBst3(root,-10000,10000) "
   ]
  },
  {
   "cell_type": "markdown",
   "metadata": {},
   "source": [
    "# The End"
   ]
  }
 ],
 "metadata": {
  "kernelspec": {
   "display_name": "Python 3",
   "language": "python",
   "name": "python3"
  },
  "language_info": {
   "codemirror_mode": {
    "name": "ipython",
    "version": 3
   },
   "file_extension": ".py",
   "mimetype": "text/x-python",
   "name": "python",
   "nbconvert_exporter": "python",
   "pygments_lexer": "ipython3",
   "version": "3.7.4"
  }
 },
 "nbformat": 4,
 "nbformat_minor": 4
}
