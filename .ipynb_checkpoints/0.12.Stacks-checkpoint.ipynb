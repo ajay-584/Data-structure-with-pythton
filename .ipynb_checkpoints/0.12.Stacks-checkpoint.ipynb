{
 "cells": [
  {
   "cell_type": "markdown",
   "metadata": {},
   "source": [
    "# Quiz"
   ]
  },
  {
   "cell_type": "code",
   "execution_count": 2,
   "metadata": {},
   "outputs": [],
   "source": [
    "\"\"\"\n",
    "A stack is a ?\n",
    "Options\n",
    "FIFO (First In First Out) list\n",
    "LIFO (Last In First Out) list.\n",
    "Ordered array\n",
    "Linear tree\n",
    "ans=FIFO\n",
    "\"\"\"\n",
    "pass"
   ]
  },
  {
   "cell_type": "code",
   "execution_count": 3,
   "metadata": {},
   "outputs": [],
   "source": [
    "\"\"\"\n",
    "Which data structure is used for implementing recursion?\n",
    "Options\n",
    "Queue\n",
    "Stack\n",
    "Array\n",
    "List\n",
    "ans=stack\n",
    "\"\"\"\n",
    "pass"
   ]
  },
  {
   "cell_type": "markdown",
   "metadata": {},
   "source": [
    "# Stack Using Array - Code"
   ]
  },
  {
   "cell_type": "code",
   "execution_count": 27,
   "metadata": {},
   "outputs": [],
   "source": [
    "class Stack:\n",
    "    def __init__(self):\n",
    "        self.__data = []\n",
    "        \n",
    "    def push(self,item):\n",
    "        self.__data.append(item)\n",
    "        \n",
    "    def pop(self):\n",
    "        if self.isEmpty():\n",
    "            print(\"Hey! stack is empty\")\n",
    "            return \n",
    "        return self.__data.pop()\n",
    "    \n",
    "    def top(self):\n",
    "        if self.isEmpty():\n",
    "            print(\"Hey! stack is empty\")\n",
    "            return \n",
    "        return self.__data[-1]\n",
    "    \n",
    "    def size(self):\n",
    "        return len(self.__data)\n",
    "    \n",
    "    def isEmpty(self):\n",
    "        return self.size() == 0"
   ]
  },
  {
   "cell_type": "code",
   "execution_count": 33,
   "metadata": {},
   "outputs": [
    {
     "name": "stdout",
     "output_type": "stream",
     "text": [
      "14\n",
      "13\n",
      "12\n",
      "Hey! stack is empty\n"
     ]
    }
   ],
   "source": [
    "s = Stack()\n",
    "s.push(12)\n",
    "s.push(13)\n",
    "s.push(14)\n",
    "\n",
    "while s.isEmpty() is False:\n",
    "    print(s.pop())\n",
    "s.pop()\n"
   ]
  },
  {
   "cell_type": "markdown",
   "metadata": {},
   "source": [
    "# Code : Stack Using LL"
   ]
  },
  {
   "cell_type": "code",
   "execution_count": 1,
   "metadata": {},
   "outputs": [
    {
     "name": "stdout",
     "output_type": "stream",
     "text": [
      "1 3 1 5 1 6 2\n",
      "6\n"
     ]
    }
   ],
   "source": [
    "\n",
    " ###Following Node class us already created internally. You can directly use that.\n",
    "class Node:\n",
    "    def __init__(self,data):\n",
    "        self.data = data\n",
    "        self.next = None\n",
    "        \n",
    "class StackUsingLL:\n",
    "    ### Implement all these functions here\n",
    "    \n",
    "    def __init__(self):\n",
    "        self.__head = None\n",
    "        self.__size = 0\n",
    "\n",
    "    def push(self,data):\n",
    "        new=Node(data)\n",
    "        if self.__head is None:\n",
    "            self.__head=new\n",
    "        else:\n",
    "            new.next=self.__head\n",
    "            self.__head=new\n",
    "        self.__size+=1\n",
    "        \n",
    "    def pop(self):\n",
    "        if self.isEmpty():\n",
    "            return 0\n",
    "        else:\n",
    "            self.__size-=1\n",
    "            ans=self.__head.data\n",
    "            self.__head=self.__head.next\n",
    "            return ans\n",
    "    \n",
    "    # Return 0 if stack is empty. Don't display any other message\n",
    "    def top(self):\n",
    "        if self.isEmpty():\n",
    "            return 0\n",
    "        else:\n",
    "            return self.__head.data\n",
    "    # Return 0 if stack is empty. Don't display any other message\n",
    "    def isEmpty(self):\n",
    "        if self.__head==None:\n",
    "            return True\n",
    "        else:\n",
    "            return False\n",
    "    def getSize(self):\n",
    "        return self.__size\n",
    "    \n",
    "s = StackUsingLL()\n",
    "li = [int(ele) for ele in input().split()]\n",
    "i=0\n",
    "while i<len(li):\n",
    "    choice = li[i]\n",
    "    if choice == -1:\n",
    "        break\n",
    "    elif choice == 1:\n",
    "        s.push(li[i+1])\n",
    "        i+=1\n",
    "    elif choice == 2:\n",
    "        ans = s.pop()\n",
    "        if ans!=0:\n",
    "            print(ans)\n",
    "        else:\n",
    "            print(-1)\n",
    "    elif choice == 3:\n",
    "        ans = s.top()\n",
    "        if ans!=0:\n",
    "            print(ans)\n",
    "        else:\n",
    "            print(-1)\n",
    "    elif choice == 4:\n",
    "        print(s.getSize())\n",
    "    elif choice == 5:\n",
    "        if(s.isEmpty()):\n",
    "            print('true')\n",
    "        else:\n",
    "            print('false')\n",
    "    i+=1"
   ]
  },
  {
   "cell_type": "markdown",
   "metadata": {},
   "source": [
    "# Quiz"
   ]
  },
  {
   "cell_type": "code",
   "execution_count": 2,
   "metadata": {},
   "outputs": [],
   "source": [
    "\"\"\"\n",
    "Which of the following operation take worst case i.e. linear time (O(n)) in the array implementation of stack?\n",
    "Options\n",
    "Push\n",
    "Pop\n",
    "IsEmpty\n",
    "None \n",
    "ans=None\n",
    "\"\"\"\n",
    "pass"
   ]
  },
  {
   "cell_type": "markdown",
   "metadata": {},
   "source": [
    "# Inbuillt Stacks & Queues"
   ]
  },
  {
   "cell_type": "markdown",
   "metadata": {},
   "source": [
    "# Balanced Paranthesis"
   ]
  },
  {
   "cell_type": "code",
   "execution_count": 3,
   "metadata": {},
   "outputs": [
    {
     "name": "stdout",
     "output_type": "stream",
     "text": [
      "alkd\n",
      "true\n"
     ]
    }
   ],
   "source": [
    "\n",
    "def checkBalanced(expr):\n",
    "    s=[]\n",
    "    for chr in expr:\n",
    "        if chr in '[{(':\n",
    "            s.append(chr)\n",
    "        elif chr is ')':\n",
    "            if not s or s[-1]!='(':\n",
    "                return False\n",
    "            s.pop()\n",
    "        elif chr is '}':\n",
    "            if not s or s[-1]!='{':\n",
    "                return False\n",
    "            s.pop()\n",
    "        elif chr is ']':\n",
    "            if not s or s[-1]!='[':\n",
    "                return False\n",
    "            s.pop()\n",
    "    if not s:\n",
    "        return True\n",
    "    else:\n",
    "        return False\n",
    "        \n",
    "\n",
    "exp=input()\n",
    "if checkBalanced(exp):\n",
    "    print('true')\n",
    "else:\n",
    "    print('false')"
   ]
  },
  {
   "cell_type": "markdown",
   "metadata": {},
   "source": [
    "# Reverse Stack - Code"
   ]
  },
  {
   "cell_type": "code",
   "execution_count": 5,
   "metadata": {},
   "outputs": [
    {
     "name": "stdout",
     "output_type": "stream",
     "text": [
      "5\n",
      "1 2 3 4 5\n",
      "1 2 3 4 5 "
     ]
    }
   ],
   "source": [
    "\n",
    "\n",
    "\n",
    "def reverseStack(s1,s2):\n",
    "    if len(s1)<=1:\n",
    "        return \n",
    "    while len(s1)!=1:\n",
    "        ele1=s1.pop()\n",
    "        s2.append(ele1)\n",
    "    last_element = s1.pop()\n",
    "    while len(s2)!=0:\n",
    "        ele2 = s2.pop()\n",
    "        s1.append(ele2)\n",
    "    reverseStack(s1,s2)\n",
    "    s1.append(last_element)\n",
    "    \n",
    "    \n",
    "#### Implement the code here\n",
    "\n",
    "from sys import setrecursionlimit\n",
    "setrecursionlimit(11000)\n",
    "n = int(input())\n",
    "s1 = [int(ele) for ele in input().split()]\n",
    "s2 = []\n",
    "reverseStack(s1,s2)\n",
    "while(len(s1) !=0):\n",
    "    print(s1.pop(),end= ' ')"
   ]
  },
  {
   "cell_type": "markdown",
   "metadata": {},
   "source": [
    "# Assignment"
   ]
  },
  {
   "cell_type": "markdown",
   "metadata": {},
   "source": [
    "# Check redundant brackets"
   ]
  },
  {
   "cell_type": "code",
   "execution_count": 1,
   "metadata": {},
   "outputs": [
    {
     "name": "stdout",
     "output_type": "stream",
     "text": [
      "((a+b))\n",
      "true\n"
     ]
    }
   ],
   "source": [
    "\n",
    "\n",
    "def checkRedundant(string):\n",
    "    s=[]\n",
    "    for x in string:\n",
    "        if x!=\" \":\n",
    "            s.append(x)\n",
    "    count=0\n",
    "    # print(s)\n",
    "    for x in range(len(s)):\n",
    "        p=s.pop()\n",
    "        # print(s,count)\n",
    "        if p==\"(\":\n",
    "            if count==0:\n",
    "                return True\n",
    "            else:\n",
    "                count=0\n",
    "        elif p==\")\":\n",
    "            pass\n",
    "        else:\n",
    "            count+=1\n",
    "    return False\n",
    "\n",
    "        \n",
    "        \n",
    "    \n",
    "#### Implement Your Code Here\n",
    "    \n",
    "\n",
    "string = input().strip(\" \")\n",
    "ans = checkRedundant(string)\n",
    "if ans is True:\n",
    "    print('true')\n",
    "else:\n",
    "    print('false')\n",
    "# print(ans)"
   ]
  },
  {
   "cell_type": "markdown",
   "metadata": {},
   "source": [
    "# Stock Span"
   ]
  },
  {
   "cell_type": "code",
   "execution_count": 4,
   "metadata": {},
   "outputs": [
    {
     "name": "stdout",
     "output_type": "stream",
     "text": [
      "8\n",
      "12 34 56 78 99 888 999 99999\n",
      "1 2 3 4 5 6 7 8 "
     ]
    }
   ],
   "source": [
    "\"\"\"\n",
    "The span si of a stock’s price on a certain day i is the minimum number of consecutive days (up to the current day) the price of the stock has been less than its price on that ith day. If for a particular day, if no stock price is greater then just count the number of days till 0th day including current day.\n",
    "For eg. if given price array is {3, 6, 8, 1, 2}, span for 4th day (which has price 2) is 2 because minimum count of consecutive days (including 4th day itself) from current day which has price less than 4th day is 2 (i.e. day 3 & 4). Similarly, span for 2nd day is 3 because no stock price in left is greater than 2nd day's price. So count is 3 till 0th day.\n",
    "Given an input array with all stock prices, you need to return the array with corresponding spans of each day.\n",
    "Note : Try doing it in O(n).\n",
    "Input format :\n",
    "Line 1 : Integer n, Arrays Size\n",
    "Line 2 : Price for n days (separated by space). It can contain duplicate values`\n",
    "\"\"\"\n",
    "def stockSpan(price,n):\n",
    "    s=[]\n",
    "    spans=[]\n",
    "    s.append(0)\n",
    "    spans.append(1)\n",
    "    for i in range(1,n):\n",
    "        if price[i] <= price[s[-1]]:\n",
    "            spans.append(1)\n",
    "            s.append(i)\n",
    "        else:\n",
    "            while len(s)>0 and price[i] > price[s[-1]]:\n",
    "                s.pop() \n",
    "            if len(s) == 0:\n",
    "                spans.append(i+1)\n",
    "            else:\n",
    "                spans.append(i-s[-1])\n",
    "            s.append(i)    \n",
    "                     \n",
    "    return spans        \n",
    "                \n",
    "            \n",
    "\n",
    "n = int(input())\n",
    "price = [int(ele) for ele in input().split()]\n",
    "spans = stockSpan(price,n)\n",
    "for ele in spans:\n",
    "    print(ele,end= ' ')"
   ]
  },
  {
   "cell_type": "markdown",
   "metadata": {},
   "source": [
    "# Minimum bracket Reversal"
   ]
  },
  {
   "cell_type": "code",
   "execution_count": 5,
   "metadata": {},
   "outputs": [
    {
     "name": "stdout",
     "output_type": "stream",
     "text": [
      "{{{\n",
      "-1\n"
     ]
    }
   ],
   "source": [
    "\"\"\"\n",
    "Minimum bracket Reversal\n",
    "Send Feedback\n",
    "Given a string expression which consists only ‘}’ and ‘{‘. The expression may not be balanced. You need to find the minimum number of bracket reversals which are required to make the expression balanced.\n",
    "Return -1 if the given expression can't be balanced.\n",
    "\"\"\"\n",
    "def countBracketReversals(string):\n",
    "    count = 0\n",
    "    length = len(string)\n",
    "    s = []\n",
    "    \n",
    "    if (length%2):\n",
    "        return -1\n",
    "    \n",
    "    for char in string:\n",
    "        if char != '}':\n",
    "            s.append(char)\n",
    "        else:\n",
    "            if (not s):\n",
    "                s.append(char)\n",
    "            else:\n",
    "                s.pop()\n",
    "    while s:\n",
    "        c1 = s.pop()\n",
    "        c2 = s.pop()\n",
    "        if c1!=c2:\n",
    "            count+=2\n",
    "        else:\n",
    "            count+=1\n",
    "           \n",
    "    return(count)\n",
    "\n",
    "string = input()\n",
    "ans = countBracketReversals(string)\n",
    "print(ans)"
   ]
  },
  {
   "cell_type": "markdown",
   "metadata": {},
   "source": [
    "# The End"
   ]
  }
 ],
 "metadata": {
  "kernelspec": {
   "display_name": "Python 3",
   "language": "python",
   "name": "python3"
  },
  "language_info": {
   "codemirror_mode": {
    "name": "ipython",
    "version": 3
   },
   "file_extension": ".py",
   "mimetype": "text/x-python",
   "name": "python",
   "nbconvert_exporter": "python",
   "pygments_lexer": "ipython3",
   "version": "3.7.4"
  }
 },
 "nbformat": 4,
 "nbformat_minor": 4
}
