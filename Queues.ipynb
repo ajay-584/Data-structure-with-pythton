{
 "cells": [
  {
   "cell_type": "markdown",
   "metadata": {},
   "source": [
    "# Quiz"
   ]
  },
  {
   "cell_type": "code",
   "execution_count": 2,
   "metadata": {},
   "outputs": [],
   "source": [
    "\"\"\"\n",
    "A queue is a ?\n",
    "Options\n",
    "FIFO (First In First Out) list\n",
    "LIFO (Last In First Out) list\n",
    "Ordered array\n",
    "Linear tree\n",
    "ans=FIFO\n",
    "\"\"\"\n",
    "pass"
   ]
  },
  {
   "cell_type": "code",
   "execution_count": 3,
   "metadata": {},
   "outputs": [],
   "source": [
    "\"\"\"\n",
    "If the elements “p”, “q”, “r” and “s” are placed in a queue and are deleted one at a time, \n",
    "in what order will they be removed?\n",
    "\n",
    "Options\n",
    "srqp\n",
    "pqrs\n",
    "srpq\n",
    "qrsp\n",
    "\n",
    "ans=pqrs\n",
    "\"\"\"\n",
    "pass"
   ]
  },
  {
   "cell_type": "markdown",
   "metadata": {},
   "source": [
    "# Queue Using Array - Code"
   ]
  },
  {
   "cell_type": "code",
   "execution_count": 7,
   "metadata": {},
   "outputs": [
    {
     "name": "stdout",
     "output_type": "stream",
     "text": [
      "1\n",
      "2\n",
      "4\n",
      "8\n"
     ]
    },
    {
     "data": {
      "text/plain": [
       "-1"
      ]
     },
     "execution_count": 7,
     "metadata": {},
     "output_type": "execute_result"
    }
   ],
   "source": [
    "class QueueUsingArray:\n",
    "    def __init__(self):\n",
    "        self.__arr = []\n",
    "        self.__count = 0\n",
    "        self.__front = 0\n",
    "    def enqueue(self,data):\n",
    "        self.__arr.append(data)\n",
    "        self.__count += 1\n",
    "    def dequeue(self):\n",
    "        if self.__count == 0:\n",
    "            return -1\n",
    "        element = self.__arr[self.__front]\n",
    "        self.__front +=1\n",
    "        self.__count -=1\n",
    "        return element\n",
    "    def front(self):\n",
    "        if self.__count == 0:\n",
    "            return -1\n",
    "        return self.__arr[self.__front]\n",
    "    def size(self):\n",
    "        return self.__count\n",
    "    def isEmpty(self):\n",
    "        return self.size()==0\n",
    "q=QueueUsingArray()\n",
    "q.enqueue(1)\n",
    "q.enqueue(2)\n",
    "q.enqueue(4)\n",
    "q.enqueue(8)\n",
    "while q.isEmpty() is False:\n",
    "    print(q.front())\n",
    "    q.dequeue()\n",
    "q.dequeue()"
   ]
  },
  {
   "cell_type": "markdown",
   "metadata": {},
   "source": [
    "# Queue Using LL"
   ]
  },
  {
   "cell_type": "code",
   "execution_count": 8,
   "metadata": {},
   "outputs": [
    {
     "name": "stdout",
     "output_type": "stream",
     "text": [
      "1 3 1 4 1 63 1 21 1 9 2 3 1 7 2 2 2 3 -1\n",
      "3\n",
      "4\n",
      "4\n",
      "63\n",
      "21\n",
      "9\n"
     ]
    }
   ],
   "source": [
    "\n",
    "class Node:\n",
    "    def __init__(self,data):\n",
    "        self.data = data\n",
    "        self.next = None\n",
    "        \n",
    "class QueueUsingLL:\n",
    "  \n",
    "### Implement These Functions Here    \n",
    "    def __init__(self):\n",
    "        self.__head = None\n",
    "        self.__tail = None\n",
    "        self.__count = 0\n",
    "        \n",
    "    def enqueue(self,data):\n",
    "        new = Node(data)\n",
    "        if self.__head is None:\n",
    "            self.__head = new\n",
    "            self.__tail = new\n",
    "        else:\n",
    "            self.__tail.next = new\n",
    "            self.__tail = self.__tail.next\n",
    "        self.__count += 1\n",
    "        \n",
    "    def dequeue(self):\n",
    "        ele = self.__head.data\n",
    "        self.__head = self.__head.next\n",
    "        self.__count -= 1\n",
    "        return ele\n",
    "    \n",
    "    def front(self):\n",
    "        return self.__head.data\n",
    "    def isEmpty(self):\n",
    "       return self.getSize==None\n",
    "    def getSize(self):\n",
    "        return self.__count\n",
    "\n",
    "    \n",
    "q = QueueUsingLL()\n",
    "li = [int(ele) for ele in input().split()]\n",
    "i=0\n",
    "while i<len(li):\n",
    "    choice = li[i]\n",
    "    if choice == -1:\n",
    "        break\n",
    "    elif choice == 1:\n",
    "        q.enqueue(li[i+1])\n",
    "        i+=1\n",
    "    elif choice == 2:\n",
    "        ans = q.dequeue()\n",
    "        if ans!=0:\n",
    "            print(ans)\n",
    "        else:\n",
    "            print(-1)\n",
    "    elif choice == 3:\n",
    "        ans = q.front()\n",
    "        if ans!=0:\n",
    "            print(ans)\n",
    "        else:\n",
    "            print(-1)\n",
    "    elif choice == 4:\n",
    "        print(q.getSize())\n",
    "    elif choice == 5:\n",
    "        if(q.isEmpty()):\n",
    "            print('true')\n",
    "        else:\n",
    "            print('false')\n",
    "    i+=1"
   ]
  },
  {
   "cell_type": "markdown",
   "metadata": {},
   "source": [
    "# Quiz"
   ]
  },
  {
   "cell_type": "code",
   "execution_count": 9,
   "metadata": {},
   "outputs": [],
   "source": [
    "\"\"\"\n",
    "In optimized linked list implementation of a queue, where does a new element be inserted?\n",
    "Options\n",
    "At the head of linked list\n",
    "At the tail of the linked list\n",
    "At the centre position in the linked list\n",
    "None\n",
    "\n",
    "ans = At the tail of the linked list\n",
    "\"\"\"\n",
    "pass"
   ]
  },
  {
   "cell_type": "code",
   "execution_count": 11,
   "metadata": {},
   "outputs": [],
   "source": [
    "\"\"\"\n",
    "In linked list implementation of queue, if only front pointer is maintained, \n",
    "which of the following operation take worst case time (i.e. O(n) )?\n",
    "\n",
    "Options\n",
    "Insertion from rear\n",
    "Deletion from front\n",
    "Both\n",
    "None\n",
    "\n",
    "ans = Insertion form rear\n",
    "\"\"\"\n",
    "pass"
   ]
  },
  {
   "cell_type": "markdown",
   "metadata": {},
   "source": [
    "# Inbuilt Stacks & Queues"
   ]
  },
  {
   "cell_type": "code",
   "execution_count": 18,
   "metadata": {},
   "outputs": [
    {
     "name": "stdout",
     "output_type": "stream",
     "text": [
      "2\n",
      "4\n",
      "7\n",
      "0\n",
      "7\n",
      "2\n",
      "0\n",
      "8\n",
      "1\n"
     ]
    }
   ],
   "source": [
    "import queue\n",
    "q = queue.Queue()\n",
    "\n",
    "q.put(2)  # it is enqueue the element \n",
    "q.put(4)\n",
    "q.put(7)\n",
    "q.put(0)\n",
    "\n",
    "while not q.empty():\n",
    "    print(q.get())  # it dequeue the element\n",
    "q1 = queue.LifoQueue()\n",
    "q1.put(1)\n",
    "q1.put(8)\n",
    "q1.put(0)\n",
    "q1.put(2)\n",
    "q1.put(7)\n",
    "while not q1.empty():\n",
    "    print(q1.get())\n"
   ]
  },
  {
   "cell_type": "markdown",
   "metadata": {},
   "source": [
    "# Queue Using Two Stacks"
   ]
  },
  {
   "cell_type": "code",
   "execution_count": 32,
   "metadata": {},
   "outputs": [
    {
     "name": "stdout",
     "output_type": "stream",
     "text": [
      "1\n",
      "2\n",
      "3\n",
      "4\n",
      "5\n"
     ]
    }
   ],
   "source": [
    "class QueueUsingTwoStacks:\n",
    "    def __init__(self):\n",
    "        self.__s1 = []\n",
    "        self.__s2 = []\n",
    "    def enqueue(self,data):\n",
    "        # o(n)\n",
    "        while len(self.__s1)!=0:\n",
    "            self.__s2.append(self.__s1.pop())\n",
    "            \n",
    "        self.__s1.append(data)\n",
    "        \n",
    "        while len(self.__s2)!=0:\n",
    "            self.__s1.append(self.__s2.pop())\n",
    "        return\n",
    "    \n",
    "    def dequeue(self):\n",
    "        # o(1)\n",
    "        if len(self.__s1)==0:\n",
    "            return -1\n",
    "        return self.__s1.pop()\n",
    "    \n",
    "    def front(self):\n",
    "        if len(self.__s1)==0:\n",
    "            return -1\n",
    "        return self.__s1[-1]\n",
    "    \n",
    "    def size(self):\n",
    "        return len(self.__s1)\n",
    "    \n",
    "    def isEmpty(self):\n",
    "        return self.size() == 0\n",
    "\n",
    "\n",
    "\n",
    "q = QueueUsingTwoStacks()\n",
    "q.enqueue(1)\n",
    "q.enqueue(2)\n",
    "q.enqueue(3)\n",
    "q.enqueue(4)\n",
    "q.enqueue(5)\n",
    "while q.isEmpty() is False:\n",
    "    print(q.front())\n",
    "    q.dequeue()"
   ]
  },
  {
   "cell_type": "markdown",
   "metadata": {},
   "source": [
    "# Stack Using 2 Queues"
   ]
  },
  {
   "cell_type": "code",
   "execution_count": 1,
   "metadata": {},
   "outputs": [
    {
     "name": "stdout",
     "output_type": "stream",
     "text": [
      "1 3 1 4 1 63 1 21 1 9 2 3 4 1 7 2 3 5\n",
      "9\n",
      "21\n",
      "4\n",
      "7\n",
      "21\n",
      "3 4 63 21 "
     ]
    }
   ],
   "source": [
    "\n",
    "import queue\n",
    "class StackUsingQueues:\n",
    "    \n",
    "    def __init__(self):\n",
    "        self.q1 = queue.Queue()\n",
    "        self.q2 = queue.Queue()\n",
    "        \n",
    "        \n",
    "    def push(self,data):\n",
    "        self.q1.put(data)\n",
    "        \n",
    "       \n",
    "\n",
    "    def pop(self):\n",
    "        while self.q1.qsize()>1:\n",
    "            self.q2.put(self.q1.get())\n",
    "        ans = self.q1.get()\n",
    "        self.q1, self.q2 = self.q2,self.q1\n",
    "        return ans\n",
    "    \n",
    "    \n",
    "    \n",
    "    def top(self):\n",
    "        while self.q1.qsize()>1:\n",
    "            self.q2.put(self.q1.get())\n",
    "        ans = self.q1.get()\n",
    "        self.q2.put(ans)\n",
    "        self.q1, self.q2 = self.q2, self.q1\n",
    "        return ans\n",
    "            \n",
    "       \n",
    "       \n",
    "    def getSize(self):\n",
    "        return self.q1.qsize()\n",
    "        \n",
    "    \n",
    "s = StackUsingQueues()\n",
    "li = [int(ele) for ele in input().split()]\n",
    "i=0\n",
    "while i<len(li):\n",
    "    choice = li[i]\n",
    "    if choice == -1:\n",
    "        break\n",
    "    elif choice == 1:\n",
    "        s.push(li[i+1])\n",
    "        i+=1\n",
    "    elif choice == 2:\n",
    "        ans = s.pop()\n",
    "        if ans!=0:\n",
    "            print(ans)\n",
    "        else:\n",
    "            print(-1)\n",
    "    elif choice == 3:\n",
    "        ans = s.top()\n",
    "        if ans!=0:\n",
    "            print(ans)\n",
    "        else:\n",
    "            print(-1)\n",
    "    elif choice == 4:\n",
    "        print(s.getSize())\n",
    "    elif choice == 5:\n",
    "        while s.q1.qsize() !=0:\n",
    "            print(s.q1.get(),end=' ')\n",
    "            \n",
    "    i+=1"
   ]
  },
  {
   "cell_type": "markdown",
   "metadata": {},
   "source": [
    "# Assignment"
   ]
  },
  {
   "cell_type": "markdown",
   "metadata": {},
   "source": [
    "# Reverse Queue"
   ]
  },
  {
   "cell_type": "code",
   "execution_count": 2,
   "metadata": {},
   "outputs": [
    {
     "name": "stdout",
     "output_type": "stream",
     "text": [
      "1 2 3 4 5\n",
      "5 4 3 2 "
     ]
    }
   ],
   "source": [
    "\n",
    "import queue\n",
    "def reverseQueue(q1):\n",
    "    if not q1.empty():\n",
    "        temp = q1.get()\n",
    "        reverseQueue(q1)\n",
    "        q1.put(temp)\n",
    "    return q1\n",
    "#### Implement Your Code Her\n",
    "\n",
    "from sys import setrecursionlimit\n",
    "setrecursionlimit(11000)\n",
    "li = [int(ele) for ele in (input().split()[1:])]\n",
    "q1 = queue.Queue()\n",
    "for ele in li:\n",
    "    q1.put(ele)\n",
    "reverseQueue(q1)\n",
    "while(q1.empty() is False):\n",
    "    print(q1.get(),end= ' ')"
   ]
  },
  {
   "cell_type": "markdown",
   "metadata": {},
   "source": [
    "# Reverse first K elements"
   ]
  },
  {
   "cell_type": "code",
   "execution_count": 3,
   "metadata": {},
   "outputs": [
    {
     "name": "stdout",
     "output_type": "stream",
     "text": [
      "6\n",
      "12 2 3 4 5 6\n",
      "4\n",
      "4\n",
      "3\n",
      "2\n",
      "12\n",
      "5\n",
      "6\n"
     ]
    }
   ],
   "source": [
    "import queue\n",
    "def reverseFirstK(q,k):\n",
    "    if (q.empty==True or k>q.qsize()):\n",
    "        return \n",
    "    Stack = []\n",
    "    for _ in range(k):\n",
    "        Stack.append(q.queue[0])\n",
    "        q.get()\n",
    "    while len(Stack)!=0:\n",
    "        q.put(Stack[-1])\n",
    "        Stack.pop()\n",
    "    for _ in range(n-k):\n",
    "        q.put(q.queue[0])\n",
    "        q.get()\n",
    "#Implement Your Code Here     \n",
    "\n",
    "        \n",
    "from sys import setrecursionlimit\n",
    "setrecursionlimit(11000)\n",
    "n = int(input())\n",
    "li = [int(ele) for ele in input().split()]\n",
    "q = queue.Queue()\n",
    "for ele in li:\n",
    "\tq.put(ele)\n",
    "k = int(input())\n",
    "reverseFirstK(q,k) \n",
    "while(q.qsize()>0):\n",
    "\tprint(q.get())\n",
    "\tn-=1"
   ]
  },
  {
   "cell_type": "code",
   "execution_count": null,
   "metadata": {},
   "outputs": [],
   "source": [
    "ends"
   ]
  }
 ],
 "metadata": {
  "kernelspec": {
   "display_name": "Python 3",
   "language": "python",
   "name": "python3"
  },
  "language_info": {
   "codemirror_mode": {
    "name": "ipython",
    "version": 3
   },
   "file_extension": ".py",
   "mimetype": "text/x-python",
   "name": "python",
   "nbconvert_exporter": "python",
   "pygments_lexer": "ipython3",
   "version": "3.7.4"
  }
 },
 "nbformat": 4,
 "nbformat_minor": 4
}
