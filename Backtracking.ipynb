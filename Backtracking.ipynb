{
 "cells": [
  {
   "cell_type": "markdown",
   "metadata": {},
   "source": [
    "# Rat In A Maze"
   ]
  },
  {
   "cell_type": "code",
   "execution_count": 6,
   "metadata": {},
   "outputs": [
    {
     "name": "stdout",
     "output_type": "stream",
     "text": [
      "4\n",
      "1 1 1 1\n",
      "1 0 1 1\n",
      "1 1 0 1\n",
      "1 1 1 1\n",
      "[[1, 0, 0, 0], [1, 0, 0, 0], [1, 0, 0, 0], [1, 1, 1, 1]]\n",
      "[[1, 0, 0, 0], [1, 0, 0, 0], [1, 1, 0, 0], [0, 1, 1, 1]]\n",
      "[[1, 1, 1, 0], [0, 0, 1, 1], [0, 0, 0, 1], [0, 0, 0, 1]]\n",
      "[[1, 1, 1, 1], [0, 0, 0, 1], [0, 0, 0, 1], [0, 0, 0, 1]]\n"
     ]
    }
   ],
   "source": [
    "def printPathHelper(x, y, maze, n, solutionMatrix):\n",
    "    \n",
    "    if x == n-1 and y == n-1:\n",
    "        solutionMatrix[x][y] = 1\n",
    "        print(solutionMatrix)\n",
    "        return\n",
    "    if x < 0 or y < 0 or x >= n or y >= n or maze[x][y] == 0 or solutionMatrix[x][y] == 1:\n",
    "        return\n",
    "    \n",
    "    solutionMatrix[x][y] = 1\n",
    "    printPathHelper(x+1, y, maze, n, solutionMatrix)\n",
    "    printPathHelper(x, y+1, maze, n, solutionMatrix)\n",
    "    printPathHelper(x-1, y, maze, n, solutionMatrix)\n",
    "    printPathHelper(x, y-1, maze, n, solutionMatrix)\n",
    "    solutionMatrix[x][y] = 0\n",
    "\n",
    "def printPath(maze):\n",
    "    n = len(maze)\n",
    "    solutionMatrix = [[0 for j in range(n)] for i in range(n)]\n",
    "    \n",
    "    printPathHelper(0, 0, maze, n, solutionMatrix)\n",
    "    \n",
    "n = int(input())\n",
    "maze = []\n",
    "for i in range(n):\n",
    "    row = [int(ele) for ele in input().split()]\n",
    "    maze.append(row)\n",
    "# print(maze)\n",
    "printPath(maze)"
   ]
  },
  {
   "cell_type": "markdown",
   "metadata": {},
   "source": [
    "# N-Queens problem"
   ]
  },
  {
   "cell_type": "code",
   "execution_count": 7,
   "metadata": {},
   "outputs": [],
   "source": [
    "\"\"\"\n",
    "You are given N, and for a given N x N chessboard,\n",
    "find a way to place N queens such that no queen can attack any other queen on the chess board. \n",
    "A queen can be killed when it lies in the same row, or same column, \n",
    "or the same diagonal of any of the other queens. You have to print all such configurations.\n",
    "\n",
    "Input Format :\n",
    "Line 1 : Integer N\n",
    "\n",
    "Output Format :\n",
    "One Line for every board configuration. \n",
    "Every line will have N*N board elements printed row wise and are separated by space\n",
    "\n",
    "Note : Don't print anything if there isn't any valid configuration.\n",
    "\n",
    "Constraints :\n",
    "1<=N<=10\n",
    "\n",
    "Sample Input 1:\n",
    "4\n",
    "Sample Output 1 :\n",
    "0 1 0 0 0 0 0 1 1 0 0 0 0 0 1 0 \n",
    "0 0 1 0 1 0 0 0 0 0 0 1 0 1 0 0 \n",
    "\"\"\"\n",
    "pass"
   ]
  },
  {
   "cell_type": "code",
   "execution_count": null,
   "metadata": {},
   "outputs": [],
   "source": []
  }
 ],
 "metadata": {
  "kernelspec": {
   "display_name": "Python 3",
   "language": "python",
   "name": "python3"
  },
  "language_info": {
   "codemirror_mode": {
    "name": "ipython",
    "version": 3
   },
   "file_extension": ".py",
   "mimetype": "text/x-python",
   "name": "python",
   "nbconvert_exporter": "python",
   "pygments_lexer": "ipython3",
   "version": "3.7.4"
  }
 },
 "nbformat": 4,
 "nbformat_minor": 4
}
