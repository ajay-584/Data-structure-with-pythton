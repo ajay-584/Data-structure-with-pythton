{
 "cells": [
  {
   "cell_type": "markdown",
   "metadata": {},
   "source": [
    "# Rat In A Maze"
   ]
  },
  {
   "cell_type": "code",
   "execution_count": 6,
   "metadata": {},
   "outputs": [
    {
     "name": "stdout",
     "output_type": "stream",
     "text": [
      "4\n",
      "1 1 1 1\n",
      "1 0 1 1\n",
      "1 1 0 1\n",
      "1 1 1 1\n",
      "[[1, 0, 0, 0], [1, 0, 0, 0], [1, 0, 0, 0], [1, 1, 1, 1]]\n",
      "[[1, 0, 0, 0], [1, 0, 0, 0], [1, 1, 0, 0], [0, 1, 1, 1]]\n",
      "[[1, 1, 1, 0], [0, 0, 1, 1], [0, 0, 0, 1], [0, 0, 0, 1]]\n",
      "[[1, 1, 1, 1], [0, 0, 0, 1], [0, 0, 0, 1], [0, 0, 0, 1]]\n"
     ]
    }
   ],
   "source": [
    "def printPathHelper(x, y, maze, n, solutionMatrix):\n",
    "    \n",
    "    if x == n-1 and y == n-1:\n",
    "        solutionMatrix[x][y] = 1\n",
    "        print(solutionMatrix)\n",
    "        return\n",
    "    if x < 0 or y < 0 or x >= n or y >= n or maze[x][y] == 0 or solutionMatrix[x][y] == 1:\n",
    "        return\n",
    "    \n",
    "    solutionMatrix[x][y] = 1\n",
    "    printPathHelper(x+1, y, maze, n, solutionMatrix)\n",
    "    printPathHelper(x, y+1, maze, n, solutionMatrix)\n",
    "    printPathHelper(x-1, y, maze, n, solutionMatrix)\n",
    "    printPathHelper(x, y-1, maze, n, solutionMatrix)\n",
    "    solutionMatrix[x][y] = 0\n",
    "\n",
    "def printPath(maze):\n",
    "    n = len(maze)\n",
    "    solutionMatrix = [[0 for j in range(n)] for i in range(n)]\n",
    "    \n",
    "    printPathHelper(0, 0, maze, n, solutionMatrix)\n",
    "    \n",
    "n = int(input())\n",
    "maze = []\n",
    "for i in range(n):\n",
    "    row = [int(ele) for ele in input().split()]\n",
    "    maze.append(row)\n",
    "# print(maze)\n",
    "printPath(maze)"
   ]
  },
  {
   "cell_type": "markdown",
   "metadata": {},
   "source": [
    "# N-Queens problem"
   ]
  },
  {
   "cell_type": "code",
   "execution_count": 2,
   "metadata": {},
   "outputs": [
    {
     "name": "stdout",
     "output_type": "stream",
     "text": [
      "4\n",
      "[[0, 1, 0, 0], [0, 0, 0, 1], [1, 0, 0, 0], [0, 0, 1, 0]]\n",
      "[[0, 0, 1, 0], [1, 0, 0, 0], [0, 0, 0, 1], [0, 1, 0, 0]]\n"
     ]
    }
   ],
   "source": [
    "\"\"\"\n",
    "You are given N, and for a given N x N chessboard,\n",
    "find a way to place N queens such that no queen can attack any other queen on the chess board. \n",
    "A queen can be killed when it lies in the same row, or same column, \n",
    "or the same diagonal of any of the other queens. You have to print all such configurations.\n",
    "\n",
    "Input Format :\n",
    "Line 1 : Integer N\n",
    "\n",
    "Output Format :\n",
    "One Line for every board configuration. \n",
    "Every line will have N*N board elements printed row wise and are separated by space\n",
    "\n",
    "Note : Don't print anything if there isn't any valid configuration.\n",
    "\n",
    "Constraints :\n",
    "1<=N<=10\n",
    "\n",
    "Sample Input 1:\n",
    "4\n",
    "Sample Output 1 :\n",
    "0 1 0 0 0 0 0 1 1 0 0 0 0 0 1 0 \n",
    "0 0 1 0 1 0 0 0 0 0 0 1 0 1 0 0 \n",
    "\"\"\"\n",
    "def isSafe(row,col,board,n):\n",
    "    # checking virtical direction\n",
    "    i = row - 1\n",
    "    while i >= 0:\n",
    "        if board[i][col] == 1:\n",
    "            return False\n",
    "        i -= 1\n",
    "    # checking backword digonally\n",
    "    i = row - 1\n",
    "    j = col -1\n",
    "    while i >= 0 and j >= 0:\n",
    "        if board[i][j] == 1:\n",
    "            return False\n",
    "        i -= 1\n",
    "        j -= 1\n",
    "    # checking upword digonally\n",
    "    i = row - 1 \n",
    "    j = col + 1\n",
    "    while i >= 0 and j < n:\n",
    "        if board[i][j] == 1:\n",
    "            return False\n",
    "        i -= 1\n",
    "        j += 1\n",
    "        \n",
    "    return True\n",
    "\n",
    "\n",
    "\n",
    "def printPathHelper(row, n, board):\n",
    "    if row == n:\n",
    "#         for i in range(n):\n",
    "#             for j in range(n):\n",
    "#                 print(board[i][j], end=\" \")\n",
    "        print(board)\n",
    "        return\n",
    "    for col in range(n):\n",
    "        # checking position is safe or not\n",
    "        if isSafe(row,col,board,n):\n",
    "            board[row][col] = 1\n",
    "            printPathHelper(row+1,n,board)\n",
    "            board[row][col] = 0\n",
    "\n",
    "    \n",
    "def printPath(n):\n",
    "    board = [[0 for j in range(n)] for i in range(n)]\n",
    "    printPathHelper(0, n, board)\n",
    "\n",
    "n = int(input())\n",
    "printPath(n)"
   ]
  },
  {
   "cell_type": "markdown",
   "metadata": {},
   "source": [
    "# Sudoku Solver"
   ]
  },
  {
   "cell_type": "code",
   "execution_count": 1,
   "metadata": {},
   "outputs": [
    {
     "name": "stdout",
     "output_type": "stream",
     "text": [
      "9 0 0 0 2 0 7 5 0 \n",
      "6 0 0 0 5 0 0 4 0 \n",
      "0 2 0 4 0 0 0 1 0 \n",
      "2 0 8 0 0 0 0 0 0 \n",
      "0 7 0 5 0 9 0 6 0 \n",
      "0 0 0 0 0 0 4 0 1 \n",
      "0 1 0 0 0 5 0 8 0 \n",
      "0 9 0 0 7 0 0 0 4 \n",
      "0 8 2 0 4 0 0 0 6\n",
      "true\n"
     ]
    }
   ],
   "source": [
    "\"\"\"\n",
    "Given a 9*9 sudoku board, in which some entries are filled and others are 0 (0 indicates that the cell is empty), you need to find out whether the Sudoku puzzle can be solved or not i.e. return true or false.\n",
    "Input Format :\n",
    "9 Lines where ith line contains ith row elements separated by space\n",
    "Output Format :\n",
    " true or false\n",
    "Sample Input :\n",
    "9 0 0 0 2 0 7 5 0 \n",
    "6 0 0 0 5 0 0 4 0 \n",
    "0 2 0 4 0 0 0 1 0 \n",
    "2 0 8 0 0 0 0 0 0 \n",
    "0 7 0 5 0 9 0 6 0 \n",
    "0 0 0 0 0 0 4 0 1 \n",
    "0 1 0 0 0 5 0 8 0 \n",
    "0 9 0 0 7 0 0 0 4 \n",
    "0 8 2 0 4 0 0 0 6\n",
    "Sample Output :\n",
    "true\n",
    "\"\"\"\n",
    "from sys import setrecursionlimit\n",
    "setrecursionlimit=11000\n",
    "def balance(x,i,j,sudoku,n):\n",
    "    for col in range(n):\n",
    "        if sudoku[i][col]==x:\n",
    "            return False\n",
    "    for row in range(n):\n",
    "        if sudoku[row][j]==x:\n",
    "            return False\n",
    "    box=Box(i,j,sudoku)\n",
    "    for b in box:\n",
    "        if b==x:\n",
    "            return False\n",
    "    #row=sudoku[i]\n",
    "    \n",
    "    return True\n",
    "def Box(i,j,sudoku):\n",
    "    rowS=3*(i//3)\n",
    "    colS=3*(j//3)\n",
    "    box=[]\n",
    "    for row in range(rowS,rowS+3):\n",
    "        for col in range(colS,colS+3):\n",
    "                box.append(sudoku[row][col])\n",
    "    return box\n",
    "\n",
    "\n",
    "\n",
    "\n",
    "def sudokuSolver(i,j,n,options,sudoku):\n",
    "    if i>=n:\n",
    "        return True\n",
    "    if i<n and j>=n:\n",
    "        return sudokuSolver(i+1,0,n,options,sudoku)\n",
    "    if sudoku[i][j]==0:\n",
    "        for x in options:\n",
    "            if balance(x,i,j,sudoku,n):\n",
    "                sudoku[i][j]=x\n",
    "                isSolved=sudokuSolver(i,j+1,n,options,sudoku)\n",
    "                #print(sudoku[i][j],i,j)\n",
    "                if isSolved:\n",
    "                    return True\n",
    "                sudoku[i][j]=0\n",
    "\n",
    "                #print(sudoku[i][j],i,j)\n",
    "\n",
    "                #return sudokuSolver(i, j + 1, n, options, sudoku)\n",
    "        #return False\n",
    "    if sudoku[i][j]==0:\n",
    "        return False\n",
    "    return sudokuSolver(i,j+1,n,options,sudoku)\n",
    "\n",
    "sudoku=[[int(i) for i in input().split()] for j in range(9)]\n",
    "sudokuSolved=sudokuSolver(0,0,9,[1,2,3,4,5,6,7,8,9],sudoku)\n",
    "if sudokuSolved:\n",
    "    print(\"true\")\n",
    "else:\n",
    "    print(\"false\")"
   ]
  },
  {
   "cell_type": "markdown",
   "metadata": {},
   "source": [
    "# The End"
   ]
  }
 ],
 "metadata": {
  "kernelspec": {
   "display_name": "Python 3",
   "language": "python",
   "name": "python3"
  },
  "language_info": {
   "codemirror_mode": {
    "name": "ipython",
    "version": 3
   },
   "file_extension": ".py",
   "mimetype": "text/x-python",
   "name": "python",
   "nbconvert_exporter": "python",
   "pygments_lexer": "ipython3",
   "version": "3.7.4"
  }
 },
 "nbformat": 4,
 "nbformat_minor": 4
}
