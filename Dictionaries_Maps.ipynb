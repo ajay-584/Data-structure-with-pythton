{
 "cells": [
  {
   "cell_type": "markdown",
   "metadata": {},
   "source": [
    "# Quiz"
   ]
  },
  {
   "cell_type": "code",
   "execution_count": 1,
   "metadata": {},
   "outputs": [],
   "source": [
    "\"\"\"\n",
    "What will be the output of following code?\n",
    "d = {1:2, “abc”:5, “def”:7}\n",
    "print(d[0])\n",
    "\n",
    "Options\n",
    "1:2\n",
    "1\n",
    "2\n",
    "Error\n",
    "\n",
    "ans = Erro\n",
    "\"\"\"\n",
    "pass"
   ]
  },
  {
   "cell_type": "code",
   "execution_count": 2,
   "metadata": {},
   "outputs": [],
   "source": [
    "\"\"\"\n",
    "What will be the output of following code?\n",
    "d = {1:2, “abc”:5, “def”:7}\n",
    "print(d.get(0,5))\n",
    "\n",
    "Options\n",
    "Error\n",
    "1\n",
    "2\n",
    "5\n",
    "ans = 5\n",
    "\"\"\"\n",
    "pass"
   ]
  },
  {
   "cell_type": "code",
   "execution_count": 3,
   "metadata": {},
   "outputs": [],
   "source": [
    "\"\"\"\n",
    "What will be the output of following code?\n",
    "d = {1:2, “abc”:5, “def”:7}\n",
    "if 2 in d:\n",
    "    print(‘Present’)\n",
    "else:\n",
    "    print(‘Not Present’)\n",
    "    \n",
    "Options\n",
    "Present\n",
    "Not Present\n",
    "Error\n",
    "\n",
    "ans = Not present\n",
    "\"\"\"\n",
    "pass"
   ]
  },
  {
   "cell_type": "code",
   "execution_count": 4,
   "metadata": {},
   "outputs": [],
   "source": [
    "\"\"\"\n",
    "What will be the output of following code?\n",
    "a = {1:2,’list’:[1,2],3:5}\n",
    "b = {4:5,3:7}\n",
    "a.update(b)\n",
    "print(a[3])\n",
    "\n",
    "Options\n",
    "5\n",
    "7\n",
    "Error\n",
    "None Of The Above\n",
    "\n",
    "ans = 7\n",
    "\"\"\"\n",
    "pass"
   ]
  },
  {
   "cell_type": "code",
   "execution_count": 5,
   "metadata": {},
   "outputs": [],
   "source": [
    "\"\"\"\n",
    "What will be the output of following code?\n",
    "a = {1:2,’list’:[1,2],3:5}\n",
    "a.pop(‘list’)\n",
    "a[‘list’] = [3,5]\n",
    "print(a[‘list’])\n",
    "\n",
    "Options\n",
    "None\n",
    "[3,5]\n",
    "[1,2]\n",
    "Error\n",
    "\n",
    "ans = [3,5]\n",
    "\"\"\"\n",
    "pass"
   ]
  },
  {
   "cell_type": "markdown",
   "metadata": {},
   "source": [
    "# Print All Words With Frequency K"
   ]
  },
  {
   "cell_type": "code",
   "execution_count": 5,
   "metadata": {},
   "outputs": [
    {
     "name": "stdout",
     "output_type": "stream",
     "text": [
      "This\n",
      "is\n",
      "a\n",
      "word\n",
      "string\n",
      "having\n",
      "words\n"
     ]
    }
   ],
   "source": [
    "def printKFreqWords(s,k):\n",
    "    words = s.split()\n",
    "    d = {}\n",
    "    for w in words:\n",
    "        d[w] = d.get(w,0)+1\n",
    "    for w in d:\n",
    "        if d[w]==k:\n",
    "            print(w)\n",
    "s = \"This is a word string having many many words\"\n",
    "k = 1\n",
    "printKFreqWords(s,k)"
   ]
  },
  {
   "cell_type": "markdown",
   "metadata": {},
   "source": [
    "# Pair Sum To 0"
   ]
  },
  {
   "cell_type": "code",
   "execution_count": 1,
   "metadata": {},
   "outputs": [
    {
     "name": "stdout",
     "output_type": "stream",
     "text": [
      "5\n",
      "2 1 -2 2 3\n",
      "-2 2\n",
      "-2 2\n"
     ]
    }
   ],
   "source": [
    "\"\"\"\n",
    "Given a random integer array A of size N. Find and print the pair of elements in the array which sum to 0.\n",
    "Array A can contain duplicate elements.\n",
    "While printing a pair, print the smaller element first.\n",
    "That is, if a valid pair is (6, -6) print \"-6 6\". There is no constraint that out of 5 pairs which have to be printed in 1st line. You can print pairs in any order, just be careful about the order of elements in a pair.\n",
    "Input format :\n",
    "Line 1 : Integer N (Array size)\n",
    "Line 2 : Array elements (separated by space)\n",
    "Output format :\n",
    "Line 1 : Pair 1 elements (separated by space)\n",
    "Line 2 : Pair 2 elements (separated by space)\n",
    "Line 3 : and so on\n",
    "Constraints :\n",
    "0 <= N <= 10^4\n",
    "Sample Input:\n",
    "5\n",
    "2 1 -2 2 3\n",
    "Sample Output :\n",
    "-2 2\n",
    "-2 2\n",
    "\"\"\"\n",
    "\n",
    "\n",
    "def pairSum0(l):\n",
    "    d = {}\n",
    "    for i in l:\n",
    "        d[i] = d.get(i,0)+1\n",
    "    for i in d:\n",
    "        if i<0:\n",
    "            if -i in d:\n",
    "                for j in range(d[i]*d[-i]):\n",
    "                    print(i,-i)\n",
    "        \n",
    "#Implement Your Code Here\n",
    "\n",
    "\n",
    "n=int(input())\n",
    "l=list(int(i) for i in input().strip().split(' '))\n",
    "pairSum0(l)"
   ]
  },
  {
   "cell_type": "markdown",
   "metadata": {},
   "source": [
    "# How To Insert In Map?"
   ]
  },
  {
   "cell_type": "code",
   "execution_count": 21,
   "metadata": {},
   "outputs": [
    {
     "name": "stdout",
     "output_type": "stream",
     "text": [
      "1\n",
      "2\n",
      "2\n",
      "50\n",
      "8\n",
      "None\n",
      "1\n"
     ]
    }
   ],
   "source": [
    "class MapNode:\n",
    "    def __init__(self,key,value):\n",
    "        self.key = key\n",
    "        self.value = value\n",
    "        self.next = None\n",
    "class Map:\n",
    "    def __init__(self):\n",
    "        self.bucketSize = 10\n",
    "        self.buckets = [None for i in range(self.bucketSize)]\n",
    "        self.count = 0\n",
    "        \n",
    "    def size(self):\n",
    "        return self.count\n",
    "    \n",
    "    def getBucketIndex(self,hc):\n",
    "        return (abs(hc)%(self.bucketSize))\n",
    "    \n",
    "    def getValue(self,key):\n",
    "        hc = hash(key)\n",
    "        index = self.getBucketIndex(hc)\n",
    "        head = self.buckets[index]\n",
    "        while head is not None:\n",
    "            if head.key == key:\n",
    "                return head.value\n",
    "            head = head.next\n",
    "        return None\n",
    "    def remove(self,key):\n",
    "        hc = hash(key)\n",
    "        index = self.getBucketIndex(hc)\n",
    "        head = self.buckets[index]\n",
    "        prev = None\n",
    "        while head is not None:\n",
    "            if head.key == key:\n",
    "                if prev is None:\n",
    "                    self.buckets[index] = head.next\n",
    "                else:\n",
    "                    prev.next = head.next\n",
    "                    return head.value\n",
    "                self.count -= 1\n",
    "            prev = head\n",
    "            head = head.next\n",
    "        return None\n",
    "        \n",
    "    def insert(self,key,value):\n",
    "        hc = hash(key)\n",
    "        index = self.getBucketIndex(hc)\n",
    "        head = self.buckets[index]\n",
    "        while head is not None:\n",
    "            if head.key == key:\n",
    "                head.value = value\n",
    "                return\n",
    "            head = head.next\n",
    "        head = self.buckets[index]\n",
    "        newNode = MapNode(key,value)\n",
    "        newNode.next = head\n",
    "        self.buckets[index] = newNode\n",
    "        self.count += 1\n",
    "        \n",
    "m = Map()\n",
    "m.insert('ajay',2)\n",
    "print(m.size())\n",
    "m.insert('raj',8)\n",
    "print(m.size())\n",
    "m.insert('ajay',50)\n",
    "print(m.size())\n",
    "print(m.getValue('ajay'))\n",
    "print(m.getValue('raj'))\n",
    "m.remove('raj')\n",
    "print(m.getValue('raj'))\n",
    "print(m.size())"
   ]
  },
  {
   "cell_type": "markdown",
   "metadata": {},
   "source": [
    "# Quiz"
   ]
  },
  {
   "cell_type": "code",
   "execution_count": 22,
   "metadata": {},
   "outputs": [],
   "source": [
    "\"\"\"\n",
    "Average Case Time Complexity of Hashmap in insertion, deletion & searching\n",
    "\n",
    "Options\n",
    "O(1) \n",
    "O(n)\n",
    "O(logn)\n",
    "O(nlogn)\n",
    "ans = o(1)\n",
    "\"\"\"\n",
    "pass"
   ]
  },
  {
   "cell_type": "markdown",
   "metadata": {},
   "source": [
    "# Rehashing"
   ]
  },
  {
   "cell_type": "code",
   "execution_count": 14,
   "metadata": {},
   "outputs": [
    {
     "name": "stdout",
     "output_type": "stream",
     "text": [
      "0.2\n",
      "0.4\n",
      "0.6\n",
      "0.4\n",
      "0.5\n",
      "0.6\n",
      "0.35\n",
      "0.4\n",
      "0.45\n",
      "0.5\n",
      "abc0: 1\n",
      "abc1: 2\n",
      "abc2: 3\n",
      "abc3: 4\n",
      "abc4: 5\n",
      "abc5: 6\n",
      "abc6: 7\n",
      "abc7: 8\n",
      "abc8: 9\n",
      "abc9: 10\n"
     ]
    }
   ],
   "source": [
    "class MapNode:\n",
    "    def __init__(self,key,value):\n",
    "        self.key = key\n",
    "        self.value = value\n",
    "        self.next = None\n",
    "class Map:\n",
    "    def __init__(self):\n",
    "        self.bucketSize = 5\n",
    "        self.buckets = [None for i in range(self.bucketSize)]\n",
    "        self.count = 0\n",
    "        \n",
    "    def size(self):\n",
    "        return self.count\n",
    "    \n",
    "    def getBucketIndex(self,hc):\n",
    "        return (abs(hc)%(self.bucketSize))\n",
    "    \n",
    "    def getValue(self,key):\n",
    "        hc = hash(key)\n",
    "        index = self.getBucketIndex(hc)\n",
    "        head = self.buckets[index]\n",
    "        while head is not None:\n",
    "            if head.key == key:\n",
    "                return head.value\n",
    "            head = head.next\n",
    "        return None\n",
    "    def remove(self,key):\n",
    "        hc = hash(key)\n",
    "        index = self.getBucketIndex(hc)\n",
    "        head = self.buckets[index]\n",
    "        prev = None\n",
    "        while head is not None:\n",
    "            if head.key == key:\n",
    "                if prev is None:\n",
    "                    self.buckets[index] = head.next\n",
    "                else:\n",
    "                    prev.next = head.next\n",
    "                    return head.value\n",
    "                self.count -= 1\n",
    "            prev = head\n",
    "            head = head.next\n",
    "        return None\n",
    "    \n",
    "    def rehash(self):\n",
    "        temp = self.buckets\n",
    "        self.buckets = [None for x in range(2*self.bucketSize)]\n",
    "        self.bucketSize = 2 * self.bucketSize\n",
    "        self.count = 0\n",
    "        for head in temp:\n",
    "            while head is not None:\n",
    "                self.insert(head.key,head.value)\n",
    "                head = head.next\n",
    "                \n",
    "    def loadFector(self):\n",
    "        return self.count/self.bucketSize\n",
    "    \n",
    "    def insert(self,key,value):\n",
    "        hc = hash(key)\n",
    "        index = self.getBucketIndex(hc)\n",
    "        head = self.buckets[index]\n",
    "        while head is not None:\n",
    "            if head.key == key:\n",
    "                head.value = value\n",
    "                return\n",
    "            head = head.next\n",
    "        head = self.buckets[index]\n",
    "        newNode = MapNode(key,value)\n",
    "        newNode.next = head\n",
    "        self.buckets[index] = newNode\n",
    "        self.count += 1\n",
    "        loadFector = self.count/self.bucketSize\n",
    "        if loadFector >= 0.7:\n",
    "            self.rehash()\n",
    "        \n",
    "m = Map()\n",
    "for i in range(10):\n",
    "    m.insert(\"abc\"+str(i),i+1)\n",
    "    print(m.loadFector())\n",
    "\n",
    "for i in range(10):\n",
    "    print(\"abc\"+str(i)+\":\",m.getValue((\"abc\")+str(i)))\n",
    "# m.insert('ajay',2)\n",
    "# print(m.size())\n",
    "# m.insert('raj',8)\n",
    "# print(m.size())\n",
    "# m.insert('ajay',50)\n",
    "# print(m.size())\n",
    "# print(m.getValue('ajay'))\n",
    "# print(m.getValue('raj'))\n",
    "# m.remove('raj')\n",
    "# print(m.getValue('raj'))\n",
    "# print(m.size()) "
   ]
  },
  {
   "cell_type": "markdown",
   "metadata": {},
   "source": [
    "# Quiz"
   ]
  },
  {
   "cell_type": "code",
   "execution_count": 15,
   "metadata": {},
   "outputs": [],
   "source": [
    "\"\"\"\n",
    "Given: n = no of entries in Hashmap b= size of bucket array What is load factor mathematically ?\n",
    "B2\n",
    "Options\n",
    "b/n\n",
    "n/b \n",
    "ans = n/b\n",
    "\"\"\"\n",
    "pass"
   ]
  },
  {
   "cell_type": "code",
   "execution_count": 16,
   "metadata": {},
   "outputs": [],
   "source": [
    "\"\"\"\n",
    "Time Complexity for retrieving all keyset from Hashmap\n",
    "Options\n",
    "O(log n)\n",
    "O(n) \n",
    "O(1)\n",
    "ans = o(n)\n",
    "\"\"\"\n",
    "pass"
   ]
  },
  {
   "cell_type": "markdown",
   "metadata": {},
   "source": [
    "# Assignment"
   ]
  },
  {
   "cell_type": "markdown",
   "metadata": {},
   "source": [
    "# Extract Unique characters"
   ]
  },
  {
   "cell_type": "code",
   "execution_count": 1,
   "metadata": {},
   "outputs": [
    {
     "name": "stdout",
     "output_type": "stream",
     "text": [
      "ababacd\n",
      "abcd\n"
     ]
    }
   ],
   "source": [
    "\"\"\"\n",
    "Given a string, you need to remove all the duplicates. That means, the output string should contain each character only once. The respective order of characters should remain same.\n",
    "Input format :\n",
    "String S\n",
    "Output format :\n",
    "Output String\n",
    "Constraints :\n",
    "0 <= Length of S <= 10^8\n",
    "Sample Input 1 :\n",
    "ababacd\n",
    "Sample Output 1 :\n",
    "abcd\n",
    "Sample Input 2 :\n",
    "abcde\n",
    "Sample Output 2 :\n",
    "abcde\n",
    "\"\"\"\n",
    "def uniqueChars(string):\n",
    "    # Please add your code here\n",
    "    s = \"\"\n",
    "    for x in string:\n",
    "        if x not in s:\n",
    "            s+=x\n",
    "    return s\n",
    "\n",
    "# Main\n",
    "string = input()\n",
    "print(uniqueChars(string))"
   ]
  },
  {
   "cell_type": "markdown",
   "metadata": {},
   "source": [
    "# Longest consecutive Sequence"
   ]
  },
  {
   "cell_type": "code",
   "execution_count": 2,
   "metadata": {},
   "outputs": [
    {
     "name": "stdout",
     "output_type": "stream",
     "text": [
      "7\n",
      "3 7 2 1 9 8 1\n",
      "7\n",
      "8\n",
      "9\n"
     ]
    }
   ],
   "source": [
    "\"\"\"\n",
    "You are given with an array of integers that contain numbers in random order. Write a program to find the longest possible sequence of consecutive numbers using the numbers from given array.\n",
    "You need to return the output array which contains consecutive elements. Order of elements in the output is not important.\n",
    "Best solution takes O(n) time.\n",
    "If two sequences are of equal length then return the sequence starting with the number whose occurrence is earlier in the array.\n",
    "Input Format :\n",
    "Line 1 : Integer n, Size of array\n",
    "Line 2 : Array elements (separated by space)\n",
    "Constraints :\n",
    "0 <= n <= 10^8\n",
    "Sample Input 1 :\n",
    "13\n",
    "2 12 9 16 10 5 3 20 25 11 1 8 6 \n",
    "Sample Output 1 :\n",
    "8 \n",
    "9 \n",
    "10 \n",
    "11 \n",
    "12\n",
    "Sample Input 2 :\n",
    "7\n",
    "3 7 2 1 9 8 1\n",
    "Sample Output 2 :\n",
    "7\n",
    "8\n",
    "9\n",
    "Explanation: Sequence should be of consecutive numbers. Here we have 2 sequences with same length i.e. [1, 2, 3] and [7, 8, 9], but output should be [7, 8, 9] because the starting point of [7, 8, 9] comes first in input array.\n",
    "Sample Input 3 :\n",
    "7\n",
    "15 24 23 12 19 11 16\n",
    "Sample Output 3 :\n",
    "15 \n",
    "16\n",
    "\"\"\"\n",
    "def longestConsecutiveSubsequence(l): \n",
    "    m = {l[i]:i for i in range(len(l)-1, -1, -1)} \n",
    "    visited = {} \n",
    "    start, end = l[0], l[0] \n",
    "    startM, endM = start, end \n",
    "    for num in l: \n",
    "        if num not in visited: \n",
    "            visited[num] = True \n",
    "            start, end = num, num \n",
    "            while start-1 in m: \n",
    "                start -= 1 \n",
    "                visited[start] = True \n",
    "            while end+1 in m: \n",
    "                end += 1 \n",
    "                visited[end] = True \n",
    "                if (endM-startM+1 < end-start+1) or ((endM-startM+1 == end-start+1) and (m[start] < m[startM])): \n",
    "                    startM, endM = start, end \n",
    "    return startM, endM \n",
    "\n",
    "n=int(input()) \n",
    "l=list(int(i) for i in input().strip().split(' ')) \n",
    "start, end = longestConsecutiveSubsequence(l) \n",
    "for num in range(start, end+1): \n",
    "    print(num)"
   ]
  },
  {
   "cell_type": "markdown",
   "metadata": {},
   "source": [
    "# Pairs with difference K"
   ]
  },
  {
   "cell_type": "code",
   "execution_count": 3,
   "metadata": {},
   "outputs": [
    {
     "name": "stdout",
     "output_type": "stream",
     "text": [
      "4\n",
      "5 1 2 4\n",
      "3\n",
      "1 4\n",
      "2 5\n"
     ]
    }
   ],
   "source": [
    "\"\"\"\n",
    "You are given with an array of integers and an integer K. Write a program to find and print all pairs which have difference K.\n",
    "Take difference as absolute.\n",
    "Input Format :\n",
    "Line 1 : Integer n, Size of array\n",
    "Line 2 : Array elements (separated by space)\n",
    "Line 3 : K\n",
    "Output format :\n",
    "Print pairs in different lines (pair elements separated by space). In a pair, smaller element should be printed first.\n",
    "(Order of different pairs is not important)\n",
    "Constraints :\n",
    "0 <= n <= 10^4\n",
    "Sample Input 1 :\n",
    "4 \n",
    "5 1 2 4\n",
    "3\n",
    "Sample Output 1 :\n",
    "2 5\n",
    "1 4\n",
    "Sample Input 2 :\n",
    "4\n",
    "4 4 4 4 \n",
    "0\n",
    "Sample Output 2 :\n",
    "4 4\n",
    "4 4\n",
    "4 4\n",
    "4 4\n",
    "4 4\n",
    "4 4\n",
    "\"\"\"\n",
    "def printPairDiffK(li, k):\n",
    "    d={}\n",
    "    for i in li:\n",
    "        d[i]=d.get(i,0)+1      \n",
    "    for j in d:\n",
    "        if j+k in d:\n",
    "\n",
    "            if k==0:\n",
    "                n=d[j]-1\n",
    "                for i in range(n*(n+1)//2):\n",
    "                    print(j,j)\n",
    "                continue\n",
    "            else:\n",
    "                \n",
    "                for i in range(d[j]*d[j+k]):\n",
    "                    print(j,j+k)\n",
    "\n",
    "\n",
    "\n",
    "    \n",
    "\n",
    "n=int(input())\n",
    "l=list(int(i) for i in input().strip().split(' '))\n",
    "k=int(input())\n",
    "printPairDiffK(l, k)"
   ]
  },
  {
   "cell_type": "markdown",
   "metadata": {},
   "source": [
    "# Longest subset zero sum"
   ]
  },
  {
   "cell_type": "code",
   "execution_count": null,
   "metadata": {},
   "outputs": [],
   "source": [
    "\"\"\"\n",
    "Given an array consisting of positive and negative integers, find the length of the longest subarray whose sum is zero.\n",
    "NOTE: You have to return the length of longest subarray .\n",
    "Input Format :\n",
    "Line 1 : Contains an integer N i.e. size of array\n",
    "\n",
    "Line 2 : Contains N elements of the array, separated by spaces\n",
    "Output Format\n",
    " Line 1 : Length of longest subarray \n",
    "Constraints:\n",
    "0 <= N <= 10^8\n",
    "Sample Input :\n",
    "10 \n",
    " 95 -97 -387 -435 -5 -70 897 127 23 284\n",
    "Sample Output :\n",
    "5\n",
    "\"\"\""
   ]
  }
 ],
 "metadata": {
  "kernelspec": {
   "display_name": "Python 3",
   "language": "python",
   "name": "python3"
  },
  "language_info": {
   "codemirror_mode": {
    "name": "ipython",
    "version": 3
   },
   "file_extension": ".py",
   "mimetype": "text/x-python",
   "name": "python",
   "nbconvert_exporter": "python",
   "pygments_lexer": "ipython3",
   "version": "3.7.4"
  }
 },
 "nbformat": 4,
 "nbformat_minor": 4
}
