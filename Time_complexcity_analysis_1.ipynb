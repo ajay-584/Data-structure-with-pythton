{
 "cells": [
  {
   "cell_type": "markdown",
   "metadata": {},
   "source": [
    "selection sort"
   ]
  },
  {
   "cell_type": "code",
   "execution_count": 59,
   "metadata": {},
   "outputs": [],
   "source": [
    "def sel_sort(a):\n",
    "    for i in range(len(a)):\n",
    "        mindx=i\n",
    "        for j in range(i+1,len(a)):\n",
    "            if a[j]<a[i]:\n",
    "                mindx=j\n",
    "        a[i],a[mindx]=a[mindx],a[i]"
   ]
  },
  {
   "cell_type": "code",
   "execution_count": 103,
   "metadata": {},
   "outputs": [],
   "source": [
    "def mer_sort(a):\n",
    "    if len(a)>1:\n",
    "        mid=len(a)//2\n",
    "        l=a[:mid]\n",
    "        r=a[mid:]\n",
    "        mer_sort(l)\n",
    "        mer_sort(r)\n",
    "        i=j=k=0\n",
    "        while i<len(l) and j<len(r):\n",
    "            if l[i]<=r[j]:\n",
    "                a[k]=l[i]\n",
    "                i+=1\n",
    "            else:\n",
    "                a[k]=r[j]\n",
    "                j+=1\n",
    "            k+=1\n",
    "        while i<len(l):\n",
    "            a[k]=l[i]\n",
    "            k+=1\n",
    "            i+=1\n",
    "        while j<len(r):\n",
    "            a[k]=r[j]\n",
    "            k+=1\n",
    "            j+=1"
   ]
  },
  {
   "cell_type": "code",
   "execution_count": 109,
   "metadata": {},
   "outputs": [],
   "source": [
    "def rev(n):\n",
    "    a=[]\n",
    "    for i in range(n,0,-1):\n",
    "        a.append(i)\n",
    "    return a"
   ]
  },
  {
   "cell_type": "code",
   "execution_count": 110,
   "metadata": {},
   "outputs": [],
   "source": [
    "import time"
   ]
  },
  {
   "cell_type": "code",
   "execution_count": 152,
   "metadata": {},
   "outputs": [],
   "source": [
    "n=100000"
   ]
  },
  {
   "cell_type": "code",
   "execution_count": 153,
   "metadata": {},
   "outputs": [
    {
     "name": "stdout",
     "output_type": "stream",
     "text": [
      "100000 1.2042150497436523\n"
     ]
    }
   ],
   "source": [
    "a=rev(n)\n",
    "# print(a)\n",
    "start = time.time()\n",
    "mer_sort(a)\n",
    "end = time.time()\n",
    "print(n,end - start)\n",
    "# print(a)"
   ]
  },
  {
   "cell_type": "code",
   "execution_count": 154,
   "metadata": {},
   "outputs": [
    {
     "name": "stdout",
     "output_type": "stream",
     "text": [
      "100000 918.2654113769531\n"
     ]
    }
   ],
   "source": [
    "a=rev(n)\n",
    "# print(a)\n",
    "start = time.time()\n",
    "sel_sort(a)\n",
    "end = time.time()\n",
    "print(n,end - start)\n",
    "# print(a)"
   ]
  },
  {
   "cell_type": "code",
   "execution_count": null,
   "metadata": {},
   "outputs": [],
   "source": []
  }
 ],
 "metadata": {
  "kernelspec": {
   "display_name": "Python 3",
   "language": "python",
   "name": "python3"
  },
  "language_info": {
   "codemirror_mode": {
    "name": "ipython",
    "version": 3
   },
   "file_extension": ".py",
   "mimetype": "text/x-python",
   "name": "python",
   "nbconvert_exporter": "python",
   "pygments_lexer": "ipython3",
   "version": "3.7.4"
  }
 },
 "nbformat": 4,
 "nbformat_minor": 4
}
