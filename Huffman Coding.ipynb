{
 "cells": [
  {
   "cell_type": "markdown",
   "metadata": {},
   "source": [
    "\n",
    "*** Huffmancoding is text compressing algorithm ***"
   ]
  },
  {
   "cell_type": "markdown",
   "metadata": {},
   "source": [
    "# Implementation Of Huffman Coding"
   ]
  },
  {
   "cell_type": "code",
   "execution_count": 6,
   "metadata": {},
   "outputs": [],
   "source": [
    "class HuffmanCoding:\n",
    "    \n",
    "    def __init__(self,path):\n",
    "        self.path = path\n",
    "    \n",
    "    def __make_frequency_dict(self,text):\n",
    "        pass\n",
    "    \n",
    "    def compress(self):\n",
    "        # Get file form path\n",
    "        # reak text form file\n",
    "        \n",
    "        # Make frequency dictionary suing the text\n",
    "        \n",
    "        # Construct the heap from the frequency dict\n",
    "        \n",
    "        # Construct the binary tree from the heap\n",
    "            \n",
    "        # Construct the code from binary tree\n",
    "        \n",
    "        # Creating encoded text using the codes\n",
    "        \n",
    "        # Put the encoded text into the binary file\n",
    "        \n",
    "        # Return the binary file as output\n",
    "        pass\n",
    "    \n",
    "    "
   ]
  },
  {
   "cell_type": "code",
   "execution_count": null,
   "metadata": {},
   "outputs": [],
   "source": []
  }
 ],
 "metadata": {
  "kernelspec": {
   "display_name": "Python 3",
   "language": "python",
   "name": "python3"
  },
  "language_info": {
   "codemirror_mode": {
    "name": "ipython",
    "version": 3
   },
   "file_extension": ".py",
   "mimetype": "text/x-python",
   "name": "python",
   "nbconvert_exporter": "python",
   "pygments_lexer": "ipython3",
   "version": "3.7.4"
  }
 },
 "nbformat": 4,
 "nbformat_minor": 4
}
