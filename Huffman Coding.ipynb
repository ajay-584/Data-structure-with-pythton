{
 "cells": [
  {
   "cell_type": "markdown",
   "metadata": {},
   "source": [
    "\n",
    "*** Huffmancoding is text compressing algorithm ***"
   ]
  },
  {
   "cell_type": "markdown",
   "metadata": {},
   "source": [
    "# Implementation Of Huffman Coding"
   ]
  },
  {
   "cell_type": "code",
   "execution_count": 7,
   "metadata": {},
   "outputs": [],
   "source": [
    "import heapq\n",
    "\n",
    "class BinaryTreeNode:\n",
    "    def __init__(self,value,freq):\n",
    "        self.value = value\n",
    "        self.freq = freq\n",
    "        self.left = None\n",
    "        self.right = None\n",
    "        \n",
    "    def __lt__(self,other):   # Less then\n",
    "        return self.frequency < other.frequency\n",
    "    \n",
    "    def __eq__(self,other): # equal to\n",
    "        return self.frequency == other.frequency\n",
    "        \n",
    "class HuffmanCoding:\n",
    "    \n",
    "    def __init__(self,path):\n",
    "        self.path = path\n",
    "        self.__heap = []\n",
    "    \n",
    "    def __make_frequency_dict(self,text):\n",
    "        freq_dict = {}\n",
    "        for char in text:\n",
    "            if char not in freq_dict:\n",
    "                freq_dict[char] = 0\n",
    "            freq_dict[char] += 1\n",
    "        return freq_dict\n",
    "    \n",
    "    def __buildHeap(self,freq_dict):\n",
    "        for key in freq_dict:\n",
    "            frequency = freq_dict[key]\n",
    "            binary_tree_node = BinaryTreeNode(key,frequency)\n",
    "            heapq.push(self.__heap,binary_tree_node)\n",
    "            \n",
    "    \n",
    "    def compress(self):\n",
    "        # Get file form path\n",
    "        \n",
    "        # reak text form file\n",
    "        text = \"salkdjfaskd faskldfjas dfksaldkjf\"\n",
    "        \n",
    "        # Make frequency dictionary suing the text\n",
    "        freq_dict = self.__make_frequency_dict(text)\n",
    "        self.__buildHeap(freq_dict)\n",
    "        # Construct the heap from the frequency dict\n",
    "        \n",
    "        # Construct the binary tree from the heap\n",
    "            \n",
    "        # Construct the code from binary tree\n",
    "        \n",
    "        # Creating encoded text using the codes\n",
    "        \n",
    "        # Put the encoded text into the binary file\n",
    "        \n",
    "        # Return the binary file as output\n",
    "        pass\n",
    "    \n",
    "    "
   ]
  },
  {
   "cell_type": "code",
   "execution_count": null,
   "metadata": {},
   "outputs": [],
   "source": []
  }
 ],
 "metadata": {
  "kernelspec": {
   "display_name": "Python 3",
   "language": "python",
   "name": "python3"
  },
  "language_info": {
   "codemirror_mode": {
    "name": "ipython",
    "version": 3
   },
   "file_extension": ".py",
   "mimetype": "text/x-python",
   "name": "python",
   "nbconvert_exporter": "python",
   "pygments_lexer": "ipython3",
   "version": "3.7.4"
  }
 },
 "nbformat": 4,
 "nbformat_minor": 4
}
