{
 "cells": [
  {
   "cell_type": "markdown",
   "metadata": {},
   "source": [
    "\"\"\"\n",
    "There is math behind the recursion that is PMI(principal of mathematical induction) it says that if want to prove a statemetn f\n",
    "is true for all natural number means f is true for f(0) or f(1) then PMI say assume that f(k) is ture then prove f(k+1)\n",
    "is also true\n",
    "\"\"\""
   ]
  },
  {
   "cell_type": "code",
   "execution_count": 9,
   "metadata": {},
   "outputs": [],
   "source": [
    "def fact(n):\n",
    "    if n==1:\n",
    "        return n\n",
    "    return n*fact(n-1)"
   ]
  },
  {
   "cell_type": "code",
   "execution_count": 10,
   "metadata": {},
   "outputs": [],
   "source": [
    "def add(n):\n",
    "    if n==1:\n",
    "        return n\n",
    "    small_output=add(n-1)\n",
    "    output=small_output+n\n",
    "    return output"
   ]
  },
  {
   "cell_type": "markdown",
   "metadata": {},
   "source": [
    "# print n natural no"
   ]
  },
  {
   "cell_type": "code",
   "execution_count": 8,
   "metadata": {},
   "outputs": [
    {
     "name": "stdout",
     "output_type": "stream",
     "text": [
      "54321\n"
     ]
    }
   ],
   "source": [
    "def print_n_no(n,output = \"\"):\n",
    "    if n == 0:\n",
    "        print(output)\n",
    "        return\n",
    "    output += str(n)\n",
    "    return print_n_no(n-1,output)\n",
    "print_n_no(5)"
   ]
  },
  {
   "cell_type": "markdown",
   "metadata": {},
   "source": [
    "# Power Of A Number"
   ]
  },
  {
   "cell_type": "code",
   "execution_count": 3,
   "metadata": {},
   "outputs": [
    {
     "name": "stdout",
     "output_type": "stream",
     "text": [
      "81\n"
     ]
    }
   ],
   "source": [
    "\"\"\"\n",
    "Write a program to find x to the power n (i.e. x^n). Take x and n from the user. You need to print the answer.\n",
    "Note : For this question, you can assume that 0 raised to the power of 0 is 1\n",
    "\n",
    "\n",
    "Input format :\n",
    "Two integers x and n (separated by space)\n",
    "Output Format :\n",
    "x^n (i.e. x raise to the power n)\n",
    "Constraints:\n",
    "0 <= x <= 8 \n",
    "0 <= n <= 9\n",
    "Sample Input 1 :\n",
    " 3 4\n",
    "Sample Output 1 :\n",
    "81\n",
    "Sample Input 2 :\n",
    " 2 5\n",
    "Sample Output 2 :\n",
    "32\n",
    "\"\"\"\n",
    "def power(k,n):\n",
    "    if n==0:\n",
    "        return 1\n",
    "    re=power(k,n-1)\n",
    "    return k*re\n",
    "print(power(3,4))"
   ]
  },
  {
   "cell_type": "code",
   "execution_count": 10,
   "metadata": {},
   "outputs": [
    {
     "name": "stdout",
     "output_type": "stream",
     "text": [
      "999\n",
      "402387260077093773543702433923003985719374864210714632543799910429938512398629020592044208486969404800479988610197196058631666872994808558901323829669944590997424504087073759918823627727188732519779505950995276120874975462497043601418278094646496291056393887437886487337119181045825783647849977012476632889835955735432513185323958463075557409114262417474349347553428646576611667797396668820291207379143853719588249808126867838374559731746136085379534524221586593201928090878297308431392844403281231558611036976801357304216168747609675871348312025478589320767169132448426236131412508780208000261683151027341827977704784635868170164365024153691398281264810213092761244896359928705114964975419909342221566832572080821333186116811553615836546984046708975602900950537616475847728421889679646244945160765353408198901385442487984959953319101723355556602139450399736280750137837615307127761926849034352625200015888535147331611702103968175921510907788019393178114194545257223865541461062892187960223838971476088506276862967146674697562911234082439208160153780889893964518263243671616762179168909779911903754031274622289988005195444414282012187361745992642956581746628302955570299024324153181617210465832036786906117260158783520751516284225540265170483304226143974286933061690897968482590125458327168226458066526769958652682272807075781391858178889652208164348344825993266043367660176999612831860788386150279465955131156552036093988180612138558600301435694527224206344631797460594682573103790084024432438465657245014402821885252470935190620929023136493273497565513958720559654228749774011413346962715422845862377387538230483865688976461927383814900140767310446640259899490222221765904339901886018566526485061799702356193897017860040811889729918311021171229845901641921068884387121855646124960798722908519296819372388642614839657382291123125024186649353143970137428531926649875337218940694281434118520158014123344828015051399694290153483077644569099073152433278288269864602789864321139083506217095002597389863554277196742822248757586765752344220207573630569498825087968928162753848863396909959826280956121450994871701244516461260379029309120889086942028510640182154399457156805941872748998094254742173582401063677404595741785160829230135358081840096996372524230560855903700624271243416909004153690105933983835777939410970027753472000000000000000000000000000000000000000000000000000000000000000000000000000000000000000000000000000000000000000000000000000000000000000000000000000000000000000000000000000000000000000000000000000000000000000000000000000000000000000000000000000000\n",
      "499500\n"
     ]
    }
   ],
   "source": [
    "n=int(input())\n",
    "print(fact(n))\n",
    "print(add(n))"
   ]
  },
  {
   "cell_type": "markdown",
   "metadata": {},
   "source": [
    "# Check Number in Array"
   ]
  },
  {
   "cell_type": "code",
   "execution_count": 7,
   "metadata": {},
   "outputs": [
    {
     "name": "stdout",
     "output_type": "stream",
     "text": [
      "3\n",
      "9 8 10\n",
      "2\n",
      "false\n"
     ]
    }
   ],
   "source": [
    "\"\"\"\n",
    "Given an array of length N and an integer x, you need to find if x is present in the array or not. Return true or false.\n",
    "Do this recursively.\n",
    "Input Format :\n",
    "Line 1 : An Integer N i.e. size of array\n",
    "Line 2 : N integers which are elements of the array, separated by spaces\n",
    "Line 3 : Integer x\n",
    "Output Format :\n",
    "'true' or 'false'\n",
    "Constraints :\n",
    "1 <= N <= 10^3\n",
    "Sample Input 1 :\n",
    "3\n",
    "9 8 10\n",
    "8\n",
    "Sample Output 1 :\n",
    "true\n",
    "Sample Input 2 :\n",
    "3\n",
    "9 8 10\n",
    "2\n",
    "Sample Output 2 :\n",
    "false\n",
    "\"\"\"\n",
    "def check(a,k):\n",
    "    l=len(a)\n",
    "    if l==0:\n",
    "        return True\n",
    "    if a[0]==k:\n",
    "        return False\n",
    "    return check(a[1:],k)\n",
    "n=int(input())\n",
    "l=list(map(int,input().split()))\n",
    "k=int(input())\n",
    "if check(l,k):\n",
    "    print(\"false\")\n",
    "else:\n",
    "    print(\"true\")"
   ]
  },
  {
   "cell_type": "markdown",
   "metadata": {},
   "source": [
    "# Sum Of Array"
   ]
  },
  {
   "cell_type": "code",
   "execution_count": 6,
   "metadata": {},
   "outputs": [
    {
     "name": "stdout",
     "output_type": "stream",
     "text": [
      "3\n",
      "3 2 1\n",
      "6\n"
     ]
    }
   ],
   "source": [
    "\"\"\"\n",
    "Given an array of length N, you need to find and return the sum of all elements of the array.\n",
    "Do this recursively.\n",
    "Input Format :\n",
    "Line 1 : An Integer N i.e. size of array\n",
    "Line 2 : N integers which are elements of the array, separated by spaces\n",
    "Output Format :\n",
    "Sum\n",
    "Constraints :\n",
    "1 <= N <= 10^3\n",
    "Sample Input 1 :\n",
    "3\n",
    "9 8 9\n",
    "Sample Output 1 :\n",
    "26\n",
    "Sample Input 2 :\n",
    "3\n",
    "4 2 1\n",
    "Sample Output 2 :\n",
    "7    \n",
    "\"\"\"\n",
    "def Arraysum(arr,n):\n",
    "    if n==0:\n",
    "        return 0\n",
    "    else:\n",
    "        return arr[n-1]+Arraysum(arr,n-1)\n",
    "n=int(input())\n",
    "arr=list(map(int,input().split()))\n",
    "print(Arraysum(arr,n))"
   ]
  },
  {
   "cell_type": "markdown",
   "metadata": {},
   "source": [
    "# First Index of Number"
   ]
  },
  {
   "cell_type": "code",
   "execution_count": 2,
   "metadata": {},
   "outputs": [
    {
     "name": "stdout",
     "output_type": "stream",
     "text": [
      "enter the element of array1 2 3 4\n",
      "enter the element8\n",
      "index of given element: -1\n"
     ]
    }
   ],
   "source": [
    "\"\"\"\n",
    "Given an array of length N and an integer x, you need to find and return the first index of integer x present in the array. Return -1 if it is not present in the array.\n",
    "First index means, the index of first occurrence of x in the input array.\n",
    "Do this recursively. Indexing in the array starts from 0.\n",
    "Input Format :\n",
    "Line 1 : An Integer N i.e. size of array\n",
    "Line 2 : N integers which are elements of the array, separated by spaces\n",
    "Line 3 : Integer x\n",
    "Output Format :\n",
    "first index or -1\n",
    "Constraints :\n",
    "1 <= N <= 10^3\n",
    "Sample Input :\n",
    "4\n",
    "9 8 10 8\n",
    "8\n",
    "Sample Output :\n",
    "1\n",
    "\"\"\"\n",
    "def first_index_check_of_no(a,x,k):\n",
    "    if len(a)==0:\n",
    "        return -1\n",
    "    if a[0]==x:\n",
    "        return k\n",
    "    return first_index_check_of_no(a[1:],x,k+1)\n",
    "arr=list(map(int,input(\"enter the element of array\").split()))\n",
    "x=int(input(\"enter the element\"))\n",
    "print(\"index of given element:\",first_index_check_of_no(arr,x,0))"
   ]
  },
  {
   "cell_type": "code",
   "execution_count": 4,
   "metadata": {},
   "outputs": [
    {
     "name": "stdout",
     "output_type": "stream",
     "text": [
      "enter the element of array1 2 3 \n",
      "enter the element4\n",
      "First index of given element: -1\n"
     ]
    }
   ],
   "source": [
    "def first_index_check_of_no(a,x,si):\n",
    "    if len(a)==si or si==len(a)-1:\n",
    "        return -1\n",
    "    if a[si]==x:\n",
    "        return si\n",
    "    return first_index_check_of_no(a,x,si+1)\n",
    "arr=list(map(int,input(\"enter the element of array\").split()))\n",
    "x=int(input(\"enter the element\"))\n",
    "print(\"First index of given element:\",first_index_check_of_no(arr,x,0))"
   ]
  },
  {
   "cell_type": "markdown",
   "metadata": {},
   "source": [
    "# Last Index Of Number"
   ]
  },
  {
   "cell_type": "code",
   "execution_count": null,
   "metadata": {},
   "outputs": [],
   "source": [
    "\"\"\"\n",
    "Given an array of length N and an integer x, you need to find and return the last index of integer x present in the array. Return -1 if it is not present in the array.\n",
    "Last index means - if x is present multiple times in the array, return the index at which x comes last in the array.\n",
    "You should start traversing your array from 0, not from (N - 1).\n",
    "Do this recursively. Indexing in the array starts from 0.\n",
    "Input Format :\n",
    "Line 1 : An Integer N i.e. size of array\n",
    "Line 2 : N integers which are elements of the array, separated by spaces\n",
    "Line 3 : Integer x\n",
    "Output Format :\n",
    "last index or -1\n",
    "Constraints :\n",
    "1 <= N <= 10^3\n",
    "Sample Input :\n",
    "4\n",
    "9 8 10 8\n",
    "8\n",
    "Sample Output :\n",
    "3\n",
    "\"\"\""
   ]
  },
  {
   "cell_type": "code",
   "execution_count": 2,
   "metadata": {},
   "outputs": [
    {
     "name": "stdout",
     "output_type": "stream",
     "text": [
      "enter the element of array1 2 3 4 4 4 5 4\n",
      "enter the element4\n",
      "Last index of given element: 7\n"
     ]
    }
   ],
   "source": [
    "def lastindex(a,x):\n",
    "    if len(a)==0:\n",
    "        return -1\n",
    "    if a[len(a)-1]==x:\n",
    "        return len(a)-1\n",
    "    return lastindex(a[:len(a)-1],x)\n",
    "arr=list(map(int,input(\"enter the element of array\").split()))\n",
    "x=int(input(\"enter the element\"))\n",
    "print(\"Last index of given element:\",lastindex(arr,x))"
   ]
  },
  {
   "cell_type": "code",
   "execution_count": 3,
   "metadata": {},
   "outputs": [
    {
     "name": "stdout",
     "output_type": "stream",
     "text": [
      "4\n",
      "1 1 1 1\n",
      "1\n",
      "3\n"
     ]
    }
   ],
   "source": [
    "def lastindex(a,x,k):\n",
    "    if k==-1:\n",
    "        return -1\n",
    "    if a[k]==x:\n",
    "        return k\n",
    "    return lastindex(a,x,k-1)\n",
    "\n",
    "\n",
    "n=int(input())\n",
    "arr=list(map(int,input().split()))\n",
    "x=int(input())\n",
    "print(lastindex(arr,x,len(arr)-1))"
   ]
  },
  {
   "cell_type": "code",
   "execution_count": 11,
   "metadata": {},
   "outputs": [
    {
     "name": "stdout",
     "output_type": "stream",
     "text": [
      "5\n"
     ]
    }
   ],
   "source": [
    "def LastIndexArr(a,k):\n",
    "    if len(a)==0:\n",
    "        return -1\n",
    "    output=LastIndexArr(a[1:],k)\n",
    "    if output!=-1:\n",
    "        return output+1\n",
    "    else:\n",
    "        if a[0]==k:\n",
    "            return 0\n",
    "        else:\n",
    "            return -1\n",
    "print(LastIndexArr([1,2,3,5,5,5],5))"
   ]
  },
  {
   "cell_type": "code",
   "execution_count": 13,
   "metadata": {},
   "outputs": [
    {
     "name": "stdout",
     "output_type": "stream",
     "text": [
      "6\n"
     ]
    }
   ],
   "source": [
    "def LastIndexArr(a,k,si):\n",
    "    if len(a)==si:\n",
    "        return -1\n",
    "    output=LastIndexArr(a,k,si+1)\n",
    "    if output!=-1:\n",
    "        return output\n",
    "    else:\n",
    "        if a[si]==k:\n",
    "            return si\n",
    "        else:\n",
    "            return -1\n",
    "print(LastIndexArr([1,2,3,5,7,5,7],7,0))"
   ]
  },
  {
   "cell_type": "code",
   "execution_count": null,
   "metadata": {},
   "outputs": [],
   "source": []
  }
 ],
 "metadata": {
  "kernelspec": {
   "display_name": "Python 3",
   "language": "python",
   "name": "python3"
  },
  "language_info": {
   "codemirror_mode": {
    "name": "ipython",
    "version": 3
   },
   "file_extension": ".py",
   "mimetype": "text/x-python",
   "name": "python",
   "nbconvert_exporter": "python",
   "pygments_lexer": "ipython3",
   "version": "3.7.4"
  }
 },
 "nbformat": 4,
 "nbformat_minor": 4
}
