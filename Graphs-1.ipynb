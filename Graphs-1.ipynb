{
 "cells": [
  {
   "cell_type": "markdown",
   "metadata": {},
   "source": [
    "# Implementation Of Graphs"
   ]
  },
  {
   "cell_type": "code",
   "execution_count": 6,
   "metadata": {},
   "outputs": [
    {
     "name": "stdout",
     "output_type": "stream",
     "text": [
      "[[0, 1, 0, 0, 0], [1, 0, 0, 1, 0], [0, 0, 0, 0, 1], [0, 1, 0, 0, 0], [0, 0, 1, 0, 0]]\n"
     ]
    }
   ],
   "source": [
    "class Graph:\n",
    "    def __init__(self,nVertices):\n",
    "        self.nVertices = nVertices\n",
    "        self.adjMatrix = [[0 for j in range(self.nVertices)] for i in range(self.nVertices)]\n",
    "        \n",
    "    def addEdge(self,v1,v2):\n",
    "            \n",
    "        self.adjMatrix[v1][v2] = 1\n",
    "        self.adjMatrix[v2][v1] = 1\n",
    "        \n",
    "    def removeEdge(self, v1, v2):\n",
    "        if self.containEdge(v1,v2) is False:\n",
    "            return \n",
    "        self.adjMatrix[v1][v2] = 0\n",
    "        self.adjMatrix[v2][v1] = 0\n",
    "        \n",
    "    def containEdge(self,v1,v2):\n",
    "        return True if self.adjMatrix[v1][v2] > 0 else False\n",
    "        \n",
    "    def __str__(self):\n",
    "        return str(self.adjMatrix)\n",
    "        \n",
    "\n",
    "g = Graph(5)\n",
    "\n",
    "g.addEdge(0,1)\n",
    "g.addEdge(1,3)\n",
    "g.addEdge(2,4)\n",
    "\n",
    "print(g)"
   ]
  },
  {
   "cell_type": "markdown",
   "metadata": {},
   "source": [
    "# DFS-Code"
   ]
  },
  {
   "cell_type": "code",
   "execution_count": 3,
   "metadata": {},
   "outputs": [
    {
     "name": "stdout",
     "output_type": "stream",
     "text": [
      "0\n",
      "1\n",
      "3\n",
      "2\n",
      "4\n"
     ]
    }
   ],
   "source": [
    "class Graph:\n",
    "    def __init__(self,nVertices):\n",
    "        self.nVertices = nVertices\n",
    "        self.adjMatrix = [[0 for j in range(self.nVertices)] for i in range(self.nVertices)]\n",
    "        \n",
    "    def addEdge(self,v1,v2):\n",
    "            \n",
    "        self.adjMatrix[v1][v2] = 1\n",
    "        self.adjMatrix[v2][v1] = 1\n",
    "        \n",
    "    def removeEdge(self, v1, v2):\n",
    "        if self.containEdge(v1,v2) is False:\n",
    "            return \n",
    "        self.adjMatrix[v1][v2] = 0\n",
    "        self.adjMatrix[v2][v1] = 0\n",
    "        \n",
    "    def containEdge(self,v1,v2):\n",
    "        return True if self.adjMatrix[v1][v2] > 0 else False\n",
    "        \n",
    "    def __str__(self):\n",
    "        return str(self.adjMatrix)\n",
    "    \n",
    "    # implementin defth first search here\n",
    "    def __dfsHelper(self,sv,visited): # sv is starting vertices\n",
    "        print(sv)\n",
    "        visited[sv] = True\n",
    "        for i in range(self.nVertices):\n",
    "            if self.adjMatrix[sv][i] > 0 and visited[i] is False:\n",
    "                self.__dfsHelper(i,visited)\n",
    "        \n",
    "    def dfs(self):\n",
    "        visited = [False for i in range(self.nVertices)]\n",
    "        self.__dfsHelper(0,visited)\n",
    "        \n",
    "\n",
    "g = Graph(5)\n",
    "\n",
    "g.addEdge(0,1)\n",
    "g.addEdge(1,3)\n",
    "g.addEdge(2,4)\n",
    "g.addEdge(2,3)\n",
    "g.addEdge(0,2)\n",
    "\n",
    "g.dfs()"
   ]
  },
  {
   "cell_type": "markdown",
   "metadata": {},
   "source": [
    "# Code : BFS Traversal"
   ]
  },
  {
   "cell_type": "code",
   "execution_count": 10,
   "metadata": {},
   "outputs": [
    {
     "name": "stdout",
     "output_type": "stream",
     "text": [
      "4 4\n",
      "0 1\n",
      "0 3\n",
      "1 2\n",
      "2 3\n",
      "output\n",
      "0 1 3 2 "
     ]
    }
   ],
   "source": [
    "\"\"\"\n",
    "Given an undirected and disconnected graph G(V, E), print its BFS traversal.\n",
    "Here you need to consider that you need to print BFS path starting from vertex 0 only.\n",
    "V is the number of vertices present in graph G and vertices are numbered from 0 to V-1.\n",
    "E is the number of edges present in graph G.\n",
    "Note : 1. Take graph input in the adjacency matrix.\n",
    "2. Handle for Disconnected Graphs as well\n",
    "\n",
    "Input Format :\n",
    "Line 1: Two Integers V and E (separated by space)\n",
    "Next 'E' lines, each have two space-separated integers, 'a' and 'b', \n",
    "denoting that there exists an edge between Vertex 'a' and Vertex 'b'.\n",
    "Output Format :\n",
    "BFS Traversal (separated by space)\n",
    "\n",
    "Constraints :\n",
    "2 <= V <= 1000\n",
    "1 <= E <= 1000\n",
    "\n",
    "Sample Input 1:\n",
    "4 4\n",
    "0 1\n",
    "0 3\n",
    "1 2\n",
    "2 3\n",
    "\n",
    "Sample Output 1:\n",
    "0 1 3 2\n",
    "\"\"\"\n",
    "import queue \n",
    "class Graph: \n",
    "    def __init__(self, nVertices): \n",
    "        self.nVertices = nVertices \n",
    "        self.adjMatrix = [[0 for i in range(nVertices)] for j in range(nVertices)] \n",
    "    def addEdge(self, v1, v2): \n",
    "        self.adjMatrix[v1][v2] = 1 \n",
    "        self.adjMatrix[v2][v1] = 1 \n",
    "    def removeEdge(self): \n",
    "        if self.containsEdge(v1, v2) is False : \n",
    "            return \n",
    "        self.adjMatrix[v1][v2] = 0 \n",
    "        self.adjMatrix[v2][v1] = 0 \n",
    "    def containsEdge(self, v1, v2): \n",
    "        if self.adjMatrix[v1][v2] > 0:\n",
    "            return True \n",
    "        else: \n",
    "            return False \n",
    "    def _str_(self): \n",
    "        return str(self.adjMatrix) \n",
    "    \n",
    "    # best first implementing here\n",
    "    def __bfs(self, sv, visited) : \n",
    "        q = queue.Queue() \n",
    "        q.put(sv) \n",
    "        visited[sv] = True \n",
    "        while q.empty() is False : \n",
    "            u = q.get() \n",
    "            print(u, end = ' ') \n",
    "            for i in range(self.nVertices) : \n",
    "                if self.adjMatrix[u][i] > 0 and visited[i] is False : \n",
    "                    q.put(i) \n",
    "                    visited[i] = True \n",
    "    def bfs(self) : \n",
    "        visited = [False for i in range(self.nVertices)] \n",
    "        for i in range(self.nVertices) : \n",
    "            if visited[i] is False : \n",
    "                self.__bfs(i, visited) \n",
    "                \n",
    "#main \n",
    "li = input().strip().split() \n",
    "V = int(li[0]) \n",
    "E = int(li[1]) \n",
    "g = Graph(V) \n",
    "for i in range(E) : \n",
    "    arr = input().strip().split() \n",
    "    fv = int(arr[0]) \n",
    "    sv = int(arr[1]) \n",
    "    g.addEdge(fv, sv) \n",
    "print(\"output\")\n",
    "g.bfs()"
   ]
  },
  {
   "cell_type": "markdown",
   "metadata": {},
   "source": [
    "# Code : Has Path"
   ]
  },
  {
   "cell_type": "code",
   "execution_count": null,
   "metadata": {},
   "outputs": [],
   "source": [
    "\"\"\"\n",
    "Given an undirected graph G(V, E) and two vertices v1 and v2(as integers), check if there exists any path between them or not. \n",
    "Print true or false.\n",
    "V is the number of vertices present in graph G and vertices are numbered from 0 to V-1.\n",
    "E is the number of edges present in graph G.\n",
    "Input Format :\n",
    "Line 1: Two Integers V and E (separated by space)\n",
    "Next E lines : Two integers a and b, denoting that there exists an edge between vertex a and vertex b (separated by space)\n",
    "Line (E+2) : Two integers v1 and v2 (separated by space)\n",
    "Output Format :\n",
    "true or false\n",
    "Constraints :\n",
    "2 <= V <= 1000\n",
    "1 <= E <= 1000\n",
    "0 <= v1, v2 <= V-1\n",
    "Sample Input 1 :\n",
    "4 4\n",
    "0 1\n",
    "0 3\n",
    "1 2\n",
    "2 3\n",
    "1 3\n",
    "Sample Output 1 :\n",
    "true\n",
    "Sample Input 2 :\n",
    "6 3\n",
    "5 3\n",
    "0 1\n",
    "3 4\n",
    "0 3\n",
    "Sample Output 2 :\n",
    "false\n",
    "\"\"\""
   ]
  }
 ],
 "metadata": {
  "kernelspec": {
   "display_name": "Python 3",
   "language": "python",
   "name": "python3"
  },
  "language_info": {
   "codemirror_mode": {
    "name": "ipython",
    "version": 3
   },
   "file_extension": ".py",
   "mimetype": "text/x-python",
   "name": "python",
   "nbconvert_exporter": "python",
   "pygments_lexer": "ipython3",
   "version": "3.7.4"
  }
 },
 "nbformat": 4,
 "nbformat_minor": 4
}
