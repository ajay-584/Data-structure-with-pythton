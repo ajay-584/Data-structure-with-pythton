{
 "cells": [
  {
   "cell_type": "markdown",
   "metadata": {},
   "source": [
    "# Inplace Heap Sort"
   ]
  },
  {
   "cell_type": "code",
   "execution_count": 16,
   "metadata": {},
   "outputs": [
    {
     "name": "stdout",
     "output_type": "stream",
     "text": [
      "6\n",
      "2 6 8 5 4 3\n",
      "8 6 5 4 3 2 "
     ]
    }
   ],
   "source": [
    "\"\"\"\n",
    "Given an integer array of size n. Sort this array (in decreasing order) using heap sort.\n",
    "Space complexity should be O(1).\n",
    "Input Format :\n",
    "Line 1 : Integer n, Array size\n",
    "Line 2 : Array elements, separated by space\n",
    "Output Format :\n",
    "Array elements after sorting\n",
    "Constraints :\n",
    "1 <= n <= 10^6\n",
    "Sample Input:\n",
    "6 \n",
    "2 6 8 5 4 3\n",
    "Sample Output:\n",
    "8 6 5 4 3 2\n",
    "\"\"\"\n",
    "def down_heapify(arr,i,n):\n",
    "    \n",
    "    parentIndex = i\n",
    "    leftChildIndex = 2*parentIndex + 1\n",
    "    rightChildIndex = 2*parentIndex + 2\n",
    "    \n",
    "    while leftChildIndex < n:\n",
    "        minIndex = parentIndex\n",
    "        if arr[minIndex] > arr[leftChildIndex]:\n",
    "            minIndex = leftChildIndex\n",
    "        if rightChildIndex < n and arr[minIndex] > arr[rightChildIndex]:\n",
    "            minIndex = rightChildIndex\n",
    "        if minIndex == parentIndex:\n",
    "            return\n",
    "        arr[minIndex], arr[parentIndex] = arr[parentIndex], arr[minIndex]\n",
    "        parentIndex = minIndex\n",
    "        leftChildIndex = 2*parentIndex + 1\n",
    "        rightChildIndex = 2*parentIndex + 2\n",
    "    return\n",
    "    \n",
    "def heapSort(arr):\n",
    "    #Build heap\n",
    "    n = len(arr)\n",
    "    for i in range (n//2-1,-1,-1):\n",
    "        down_heapify(arr,i,n)\n",
    "    for i in range(n-1,0,-1):\n",
    "        arr[0] ,arr[i] = arr[i], arr[0]\n",
    "        down_heapify(arr,0,i)\n",
    "    return\n",
    "    # Removing n elements from heap and put them at correct position\n",
    "n = int(input())\n",
    "arr = [int(ele) for ele in input().split()]\n",
    "heapSort(arr)\n",
    "for ele in arr:\n",
    "    print(ele,end=' ')"
   ]
  },
  {
   "cell_type": "markdown",
   "metadata": {},
   "source": [
    "# Inbuilt Min Heap"
   ]
  },
  {
   "cell_type": "code",
   "execution_count": 17,
   "metadata": {},
   "outputs": [],
   "source": [
    "import heapq"
   ]
  },
  {
   "cell_type": "code",
   "execution_count": 18,
   "metadata": {},
   "outputs": [
    {
     "data": {
      "text/plain": [
       "[2, 3, 5, 4, 6, 8]"
      ]
     },
     "execution_count": 18,
     "metadata": {},
     "output_type": "execute_result"
    }
   ],
   "source": [
    "li = [1,2,3,4,5,6,7,8]\n",
    "li2 = [8,6,5,4,3,2]\n",
    "heapq.heapify(li2)\n",
    "li2"
   ]
  },
  {
   "cell_type": "code",
   "execution_count": 19,
   "metadata": {},
   "outputs": [
    {
     "data": {
      "text/plain": [
       "[1, 2, 3, 4, 5, 6, 7, 8]"
      ]
     },
     "execution_count": 19,
     "metadata": {},
     "output_type": "execute_result"
    }
   ],
   "source": [
    "li"
   ]
  },
  {
   "cell_type": "code",
   "execution_count": 20,
   "metadata": {},
   "outputs": [],
   "source": [
    "heapq.heappush(li,5)"
   ]
  },
  {
   "cell_type": "code",
   "execution_count": 21,
   "metadata": {},
   "outputs": [
    {
     "data": {
      "text/plain": [
       "[1, 2, 3, 4, 5, 6, 7, 8, 5]"
      ]
     },
     "execution_count": 21,
     "metadata": {},
     "output_type": "execute_result"
    }
   ],
   "source": [
    "li"
   ]
  },
  {
   "cell_type": "code",
   "execution_count": 22,
   "metadata": {},
   "outputs": [
    {
     "data": {
      "text/plain": [
       "[0, 1, 3, 4, 2, 6, 7, 8, 5, 5]"
      ]
     },
     "execution_count": 22,
     "metadata": {},
     "output_type": "execute_result"
    }
   ],
   "source": [
    "heapq.heappush(li,0)\n",
    "li"
   ]
  },
  {
   "cell_type": "code",
   "execution_count": 23,
   "metadata": {},
   "outputs": [
    {
     "name": "stdout",
     "output_type": "stream",
     "text": [
      "0\n"
     ]
    }
   ],
   "source": [
    "print(heapq.heappop(li))"
   ]
  },
  {
   "cell_type": "code",
   "execution_count": 24,
   "metadata": {},
   "outputs": [
    {
     "data": {
      "text/plain": [
       "[1, 2, 3, 4, 5, 6, 7, 8, 5]"
      ]
     },
     "execution_count": 24,
     "metadata": {},
     "output_type": "execute_result"
    }
   ],
   "source": [
    "li"
   ]
  },
  {
   "cell_type": "code",
   "execution_count": 25,
   "metadata": {},
   "outputs": [
    {
     "data": {
      "text/plain": [
       "1"
      ]
     },
     "execution_count": 25,
     "metadata": {},
     "output_type": "execute_result"
    }
   ],
   "source": [
    "heapq.heapreplace(li,9)"
   ]
  },
  {
   "cell_type": "code",
   "execution_count": 26,
   "metadata": {},
   "outputs": [
    {
     "data": {
      "text/plain": [
       "[2, 4, 3, 5, 5, 6, 7, 8, 9]"
      ]
     },
     "execution_count": 26,
     "metadata": {},
     "output_type": "execute_result"
    }
   ],
   "source": [
    "li"
   ]
  },
  {
   "cell_type": "markdown",
   "metadata": {},
   "source": [
    "# Inbuilt Max Heap"
   ]
  },
  {
   "cell_type": "code",
   "execution_count": 27,
   "metadata": {},
   "outputs": [],
   "source": [
    "import heapq\n",
    "li = [1,2,3,4,5,6,7,8]\n",
    "heapq._heapify_max(li)"
   ]
  },
  {
   "cell_type": "code",
   "execution_count": 28,
   "metadata": {},
   "outputs": [
    {
     "data": {
      "text/plain": [
       "[8, 5, 7, 4, 1, 6, 3, 2]"
      ]
     },
     "execution_count": 28,
     "metadata": {},
     "output_type": "execute_result"
    }
   ],
   "source": [
    "li"
   ]
  },
  {
   "cell_type": "code",
   "execution_count": 29,
   "metadata": {},
   "outputs": [
    {
     "name": "stdout",
     "output_type": "stream",
     "text": [
      "8\n"
     ]
    }
   ],
   "source": [
    "print(heapq._heappop_max(li))"
   ]
  },
  {
   "cell_type": "code",
   "execution_count": 30,
   "metadata": {},
   "outputs": [
    {
     "data": {
      "text/plain": [
       "[7, 5, 6, 4, 1, 2, 3]"
      ]
     },
     "execution_count": 30,
     "metadata": {},
     "output_type": "execute_result"
    }
   ],
   "source": [
    "li"
   ]
  },
  {
   "cell_type": "code",
   "execution_count": 31,
   "metadata": {},
   "outputs": [
    {
     "data": {
      "text/plain": [
       "[6, 5, 3, 4, 1, 2, 0]"
      ]
     },
     "execution_count": 31,
     "metadata": {},
     "output_type": "execute_result"
    }
   ],
   "source": [
    "heapq._heapreplace_max(li,0)\n",
    "li"
   ]
  },
  {
   "cell_type": "code",
   "execution_count": 32,
   "metadata": {},
   "outputs": [
    {
     "name": "stdout",
     "output_type": "stream",
     "text": [
      "[6, 6, 3, 5, 1, 2, 0, 4]\n"
     ]
    }
   ],
   "source": [
    "li.append(6)\n",
    "heapq._siftdown_max(li,0,len(li)-1)\n",
    "print(li)"
   ]
  },
  {
   "cell_type": "markdown",
   "metadata": {},
   "source": [
    "# K Smallest Elements In List(Code)"
   ]
  },
  {
   "cell_type": "code",
   "execution_count": 12,
   "metadata": {},
   "outputs": [
    {
     "name": "stdout",
     "output_type": "stream",
     "text": [
      "2 12 9 16 10 5 3 20 25 11 1 8 6 \n",
      "4\n",
      "5\n",
      "2\n",
      "3\n",
      "1\n"
     ]
    }
   ],
   "source": [
    "\"\"\"\n",
    "You are given with an integer k and an array of integers that contain numbers in random order. Write a program to find k smallest numbers from given array. You need to save them in an array and return it.\n",
    "Time complexity should be O(nlogk) and space complexity should be not more than O(k).\n",
    "Order of elements in the output is not important.\n",
    "Input Format :\n",
    "Line 1 : Size of array (n)\n",
    "Line 2 : Array elements (separated by space)\n",
    "Line 3 : Integer k\n",
    "Output Format :\n",
    "k smallest elements\n",
    "Sample Input 1 :\n",
    "13\n",
    "2 12 9 16 10 5 3 20 25 11 1 8 6 \n",
    "4\n",
    "Sample Output 1 :\n",
    "5\n",
    "3\n",
    "2\n",
    "1\n",
    "\"\"\"\n",
    "import heapq\n",
    "\n",
    "def kSmallest(arr,k):\n",
    "    heap = arr[:k]\n",
    "    heapq._heapify_max(heap)\n",
    "    n = len(arr)\n",
    "    for i in range(k,n):\n",
    "        if heap[0] > arr[i]:\n",
    "            heapq._heapreplace_max(heap,arr[i])\n",
    "    return heap\n",
    "arr = [int(i) for i in input().split()]\n",
    "k = int(input())\n",
    "element = kSmallest(arr,k)\n",
    "for ele in element:\n",
    "    print(ele)"
   ]
  },
  {
   "cell_type": "markdown",
   "metadata": {},
   "source": [
    "# K Largest Elements"
   ]
  },
  {
   "cell_type": "code",
   "execution_count": 1,
   "metadata": {},
   "outputs": [
    {
     "name": "stdout",
     "output_type": "stream",
     "text": [
      "13\n",
      "2 12 9 16 10 5 3 20 25 11 1 8 6 \n",
      "4\n",
      "12\n",
      "16\n",
      "20\n",
      "25\n"
     ]
    }
   ],
   "source": [
    "\"\"\"\n",
    "You are given with an integer k and an array of integers that contain numbers in random order. Write a program to find k largest numbers from given array. You need to save them in an array and return it.\n",
    "Time complexity should be O(nlogk) and space complexity should be not more than O(k).\n",
    "Order of elements in the output is not important.\n",
    "Input Format :\n",
    "Line 1 : Size of array (n)\n",
    "Line 2 : Array elements (separated by space)\n",
    "Line 3 : Integer k\n",
    "Output Format :\n",
    "k largest elements\n",
    "Sample Input :\n",
    "13\n",
    "2 12 9 16 10 5 3 20 25 11 1 8 6 \n",
    "4\n",
    "Sample Output :\n",
    "12\n",
    "16\n",
    "20\n",
    "25\n",
    "\"\"\"\n",
    "import heapq\n",
    "def kLargest(lst, k):\n",
    "    #############################\n",
    "    # PLEASE ADD YOUR CODE HERE #\n",
    "    #############################\n",
    "    heap=lst[:k]\n",
    "    heapq.heapify(heap)\n",
    "    for i in range(k,n):\n",
    "        if heap[0]<lst[i]:\n",
    "            heapq.heapreplace(heap,lst[i])\n",
    "    return heap\n",
    "\n",
    "# Main Code\n",
    "n=int(input())\n",
    "lst=list(int(i) for i in input().strip().split(' '))\n",
    "k=int(input())\n",
    "ans=kLargest(lst, k)\n",
    "print(*ans, sep='\\n')"
   ]
  },
  {
   "cell_type": "markdown",
   "metadata": {},
   "source": [
    "# Check Max-Heap"
   ]
  },
  {
   "cell_type": "code",
   "execution_count": 2,
   "metadata": {},
   "outputs": [
    {
     "name": "stdout",
     "output_type": "stream",
     "text": [
      "3\n",
      "1 2 3\n",
      "false\n"
     ]
    }
   ],
   "source": [
    "\"\"\"\n",
    "Given an array of integers, check whether it represents max-heap or not.\n",
    "Return true or false.\n",
    "Input Format :\n",
    "Line 1 : An integer N i.e. size of the array\n",
    "Line 2 : N integers which are elements of the array, separated by spaces\n",
    "Output Format :\n",
    "true if it represents max-heap and false if it is not a max-heap\n",
    "Constraints :\n",
    "1 <= N <= 10^5\n",
    "1 <= Ai <= 10^5\n",
    "\"\"\"\n",
    "import heapq\n",
    "def checkMaxHeap(lst):\n",
    "    #############################\n",
    "    # PLEASE ADD YOUR CODE HERE #\n",
    "    #############################\n",
    "    arr = lst.copy()\n",
    "    heapq._heapify_max(arr)\n",
    "    # print(arr)\n",
    "    # print(lst)\n",
    "    for x in range(len(arr)):\n",
    "        if arr[x] != lst[x]:\n",
    "            return False\n",
    "    else:\n",
    "    \treturn True\n",
    "\n",
    "# Main Code\n",
    "n=int(input())\n",
    "lst=list(int(i) for i in input().strip().split(' '))\n",
    "print('true') if checkMaxHeap(lst) else print('false')"
   ]
  },
  {
   "cell_type": "markdown",
   "metadata": {},
   "source": [
    "# Kth largest element"
   ]
  },
  {
   "cell_type": "code",
   "execution_count": 3,
   "metadata": {},
   "outputs": [
    {
     "name": "stdout",
     "output_type": "stream",
     "text": [
      "8\n",
      "2 6 10 11 13 4 1 20\n",
      "4\n",
      "10\n"
     ]
    }
   ],
   "source": [
    "\"\"\"\n",
    "Given an array A of random integers and an integer k, find and return the kth largest element in the array.\n",
    "Try to do this question in less than O(nlogn) time.\n",
    "Input Format :\n",
    "Line 1 : An integer N i.e. size of the array\n",
    "Line 2 : N integers which are elements of the array, separated by spaces\n",
    "Line 3 : An integer k\n",
    "Output Format :\n",
    "kth largest element\n",
    "Input Constraints :\n",
    "1 <= N, Ai, k <= 10^5\n",
    "Sample Input 1 :\n",
    "6\n",
    "9 4 8 7 11 3\n",
    "2\n",
    "Sample Output 1 :\n",
    "9\n",
    "Sample Input 2 :\n",
    "8\n",
    "2 6 10 11 13 4 1 20\n",
    "4\n",
    "Sample Output 2 :\n",
    "10\n",
    "\"\"\"\n",
    "import heapq\n",
    "def kthLargest(lst, k):\n",
    "    #############################\n",
    "    # PLEASE ADD YOUR CODE HERE #\n",
    "    #############################\n",
    "    heapq._heapify_max(lst)\n",
    "    for i in range(k):\n",
    "        ele=heapq._heappop_max(lst)\n",
    "    return ele\n",
    "\n",
    "# Main Code\n",
    "n=int(input())\n",
    "lst=list(int(i) for i in input().strip().split(' '))\n",
    "k=int(input())\n",
    "ans=kthLargest(lst, k)\n",
    "print(ans)"
   ]
  },
  {
   "cell_type": "markdown",
   "metadata": {},
   "source": [
    "# Buy the ticket"
   ]
  },
  {
   "cell_type": "code",
   "execution_count": 4,
   "metadata": {},
   "outputs": [
    {
     "name": "stdout",
     "output_type": "stream",
     "text": [
      "3\n",
      "3 9 4\n",
      "2\n",
      "2\n"
     ]
    }
   ],
   "source": [
    "\"\"\"\n",
    "You want to buy a ticket for a well-known concert which is happening in your city. But the number of tickets available is limited. Hence the sponsors of the concert decided to sell tickets to customers based on some priority.\n",
    "A queue is maintained for buying the tickets and every person has attached with a priority (an integer, 1 being the lowest priority). The tickets are sold in the following manner -\n",
    "1. The first person (pi) in the queue asked to comes out.\n",
    "2. If there is another person present in the queue who has higher priority than pi, then ask pi to move at end of the queue without giving him the ticket.\n",
    "3. Otherwise, give him the ticket (and don't make him stand in queue again).\n",
    "Giving a ticket to a person takes exactly 1 minutes and it takes no time for removing and adding a person to the queue. And you can assume that no new person joins the queue.\n",
    "Given a list of priorities of N persons standing in the queue and the index of your priority (indexing starts from 0). Find and return the time it will take until you get the ticket.\n",
    "Input Format :\n",
    "Line 1 : Integer N (Total number of people standing in queue)\n",
    "Line 2 : Priorities of every person (n space separated integers)\n",
    "Line 3 : Integer k (index of your priority)\n",
    "Output Format :\n",
    "Time required\n",
    "Sample Input 1 :\n",
    "3\n",
    "3 9 4\n",
    "2\n",
    "Sample Output 1 :\n",
    "2\n",
    "Sample Output 1 Explanation :\n",
    "Person with priority 3 comes out. But there is a person with higher priority than him. So he goes and then stands in the queue at the end. Queue's status : {9, 4, 3}. Time : 0 secs.\n",
    "Next, the person with priority 9 comes out. And there is no person with higher priority than him. So he'll get the ticket. Queue's status : {4, 3}. Time : 1 secs.\n",
    "Next, the person with priority 4 comes out (which is you). And there is no person with higher priority than you. So you'll get the ticket. Time : 2 secs.\n",
    "Sample Input 2 :\n",
    "5\n",
    "2 3 2 2 4\n",
    "3\n",
    "Sample Output 2 :\n",
    "4\n",
    "\"\"\"\n",
    "## Read input as specified in the question.\n",
    "## Print output as specified in the question.\n",
    "def buyTicket(lst,index):\n",
    "    n = len(lst)\n",
    "    time = 1\n",
    "    for i in range(0,n):\n",
    "        if lst[i] > lst[index]:\n",
    "            time += 1\n",
    "    return time\n",
    "        \n",
    "    \n",
    "    \n",
    "n = int(input())\n",
    "lst = list(int(x) for x in input().split())\n",
    "index = int(input())\n",
    "print(buyTicket(lst,index))"
   ]
  },
  {
   "cell_type": "markdown",
   "metadata": {},
   "source": [
    "# end"
   ]
  },
  {
   "cell_type": "code",
   "execution_count": null,
   "metadata": {},
   "outputs": [],
   "source": []
  }
 ],
 "metadata": {
  "kernelspec": {
   "display_name": "Python 3",
   "language": "python",
   "name": "python3"
  },
  "language_info": {
   "codemirror_mode": {
    "name": "ipython",
    "version": 3
   },
   "file_extension": ".py",
   "mimetype": "text/x-python",
   "name": "python",
   "nbconvert_exporter": "python",
   "pygments_lexer": "ipython3",
   "version": "3.7.4"
  }
 },
 "nbformat": 4,
 "nbformat_minor": 4
}
