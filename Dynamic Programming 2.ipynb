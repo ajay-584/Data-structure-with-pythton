{
 "cells": [
  {
   "cell_type": "markdown",
   "metadata": {},
   "source": [
    "# Min Cost Path Problem"
   ]
  },
  {
   "cell_type": "code",
   "execution_count": 3,
   "metadata": {},
   "outputs": [
    {
     "name": "stdout",
     "output_type": "stream",
     "text": [
      "30\n"
     ]
    }
   ],
   "source": [
    "\"\"\"\n",
    "Given an integer matrix of size m*n, you need to find out the value of minimum cost to reach from the cell (0, 0) to (m-1, n-1).\n",
    "From a cell (i, j), you can move in three directions : (i+1, j), (i, j+1) and (i+1, j+1).\n",
    "Cost of a path is defined as the sum of values of each cell through which path passes.\n",
    "Input Format :\n",
    "Line 1 : Two integers, m and n\n",
    "Next m lines : n integers of each row (separated by space)\n",
    "Output Format :\n",
    "Minimum cost\n",
    "Constraints :\n",
    "1 <= m, n <= 20\n",
    "Sample Input 1 :\n",
    "3 4\n",
    "3 4 1 2\n",
    "2 1 8 9\n",
    "4 7 8 1\n",
    "Sample Output 1 :\n",
    "13\n",
    "\"\"\"\n",
    "import sys\n",
    "def minCost(cost,i,j,n,m):\n",
    "    \n",
    "    # Special case\n",
    "    if i==n-1 and j==m-1:\n",
    "        return cost[i][j]\n",
    "    \n",
    "    # Base case\n",
    "    if i >= n or j >=m :\n",
    "        return sys.maxsize\n",
    "    \n",
    "    ans1 = minCost(cost,i+1,j,n,m)\n",
    "    ans2 = minCost(cost,i,j+1,n,m)\n",
    "    ans3 = minCost(cost,i+1,j+1,n,m)\n",
    "    \n",
    "    ans = cost[i][j] + min(ans1,ans2,ans3)\n",
    "    return ans\n",
    "\n",
    "cost = [[1,5,11],[8,13,12],[2,3,7],[15,16,18]]\n",
    "ans = minCost(cost,0,0,4,3)\n",
    "print(ans)"
   ]
  },
  {
   "cell_type": "markdown",
   "metadata": {},
   "source": [
    "# MinCost Memoization"
   ]
  },
  {
   "cell_type": "code",
   "execution_count": 3,
   "metadata": {},
   "outputs": [
    {
     "name": "stdout",
     "output_type": "stream",
     "text": [
      "[[9223372036854775807, 39, 48, 9223372036854775807], [29, 34, 37, 9223372036854775807], [23, 21, 25, 9223372036854775807], [49, 34, 18, 9223372036854775807], [9223372036854775807, 9223372036854775807, 9223372036854775807, 9223372036854775807]]\n",
      "30\n"
     ]
    }
   ],
   "source": [
    "import sys\n",
    "def minCost(cost,i,j,n,m,dp):\n",
    "    \n",
    "    # Special case\n",
    "    if i==n-1 and j==m-1:\n",
    "        return cost[i][j]\n",
    "    \n",
    "    # Base case\n",
    "    if i >= n or j >=m :\n",
    "        return sys.maxsize\n",
    "    if dp[i+1][j] == sys.maxsize:     \n",
    "        ans1 = minCost(cost,i+1,j,n,m,dp)\n",
    "        dp[i+1][j] = ans1\n",
    "    else:\n",
    "        ans1 = dp[i+1][j]\n",
    "    if dp[i][j+1] == sys.maxsize:\n",
    "        ans2 = minCost(cost,i,j+1,n,m,dp)\n",
    "        dp[i][j+1] = ans2\n",
    "    else:\n",
    "        ans2 = dp[i][j+1]\n",
    "    if dp[i+1][j+1] == sys.maxsize:\n",
    "        ans3 = minCost(cost,i+1,j+1,n,m,dp)\n",
    "        dp[i+1][j+1] = ans3\n",
    "    else:\n",
    "        ans3 = dp[i+1][j+1]\n",
    "#     print(dp)\n",
    "    ans = cost[i][j] + min(ans1,ans2,ans3)\n",
    "    return ans\n",
    "\n",
    "cost = [[1,5,11],[8,13,12],[2,3,7],[15,16,18]]\n",
    "n = 4\n",
    "m = 3\n",
    "dp = [[sys.maxsize for j in range(m+1)] for i in range(n+1)]\n",
    "ans = minCost(cost,0,0,4,3,dp)\n",
    "print(dp)\n",
    "print(ans)"
   ]
  },
  {
   "cell_type": "markdown",
   "metadata": {},
   "source": [
    "# MinCost Iteratively"
   ]
  },
  {
   "cell_type": "code",
   "execution_count": 5,
   "metadata": {},
   "outputs": [
    {
     "name": "stdout",
     "output_type": "stream",
     "text": [
      "30\n"
     ]
    }
   ],
   "source": [
    "import sys\n",
    "def minCostIteratively(cost,n,m):\n",
    "    dp = [[sys.maxsize for j in range(m+1)] for i in range(n+1)]\n",
    "    \n",
    "    for i in range(n-1,-1,-1):\n",
    "        for j in range(m-1,-1,-1):\n",
    "            if i == n-1 and j == m-1:\n",
    "                dp[i][j] = cost[i][j]\n",
    "            else:\n",
    "                ans1 = dp[i][j+1]\n",
    "                ans2 = dp[i+1][j]\n",
    "                ans3 = dp[i+1][j+1]\n",
    "                dp[i][j] = cost[i][j] + min(ans1, ans2, ans3)\n",
    "    return dp[0][0]\n",
    "    \n",
    "    \n",
    "cost = [[1,5,11],[8,13,12],[2,3,7],[15,16,18]]\n",
    "n = 4\n",
    "m = 3\n",
    "ans = minCostIteratively(cost,n,m)\n",
    "print(ans)"
   ]
  },
  {
   "cell_type": "markdown",
   "metadata": {},
   "source": [
    "# LCS - Problem"
   ]
  },
  {
   "cell_type": "code",
   "execution_count": 12,
   "metadata": {},
   "outputs": [
    {
     "name": "stdout",
     "output_type": "stream",
     "text": [
      "adebc\n",
      "dcadb\n",
      "3\n"
     ]
    }
   ],
   "source": [
    "\"\"\"\n",
    "Given 2 strings of S1 and S2 with lengths m and n respectively, find the length of longest common subsequence.\n",
    "A subsequence of a string S whose length is n, is a string containing characters in same relative order as they are present in S, but not necessarily contiguous. Subsequences contain all the strings of length varying from 0 to n. E.g. subsequences of string \"abc\" are - \"\",a,b,c,ab,bc,ac,abc.\n",
    "Input Format :\n",
    "Line 1 : String S1\n",
    "Line 2 : String s2\n",
    "Output Format :\n",
    "Line 1 : Length of lcs\n",
    "Sample Input :\n",
    "adebc\n",
    "dcadb\n",
    "Sample Output :\n",
    "3\n",
    "\"\"\"\n",
    "def lcsDP(str1, str2, i, j, dp):\n",
    "#Implement Your Code Here\n",
    "    if i == len(str1) or j == len(str2):\n",
    "        return 0\n",
    "    \n",
    "    if str1[i] == str2[j]:\n",
    "        if dp[i+1][j+1] == -1:\n",
    "            smallAns = lcsDP(str1, str2, i+1, j+1, dp)\n",
    "            dp[i+1][j+1] = smallAns\n",
    "            ans =  1 + smallAns\n",
    "        else:\n",
    "            ans = 1 + dp[i+1][j+1]\n",
    "    else:\n",
    "        if dp[i+1][j] == -1:\n",
    "            ans1 = lcsDP(str1, str2, i+1, j, dp)\n",
    "            dp[i+1][j] = ans1\n",
    "        else:\n",
    "            ans1 = dp[i+1][j]\n",
    "        if dp[i][j+1] == -1:\n",
    "            ans2 = lcsDP(str1, str2, i, j+1, dp)\n",
    "            dp[i][j+1] = ans2\n",
    "        else:\n",
    "            ans2 = dp[i][j+1]\n",
    "        ans = max(ans1, ans2)\n",
    "    return ans\n",
    "\n",
    "s1 =input().strip()\n",
    "s2 =input().strip()\n",
    "n = len(s1)\n",
    "m = len(s2)\n",
    "dp = [[-1 for j in range(m+1)] for i in range(n+1)]\n",
    "print(lcsDP(s1, s2,0,0,dp))"
   ]
  },
  {
   "cell_type": "markdown",
   "metadata": {},
   "source": [
    "# LCS(Recursive)"
   ]
  },
  {
   "cell_type": "code",
   "execution_count": 7,
   "metadata": {},
   "outputs": [
    {
     "name": "stdout",
     "output_type": "stream",
     "text": [
      "4\n"
     ]
    }
   ],
   "source": [
    "def lcs(str1, str2, i, j):\n",
    "    \n",
    "    if i == len(str1) or j == len(str2):\n",
    "        return 0\n",
    "    \n",
    "    if str1[i] == str2[j]:\n",
    "        return 1 + lcs(str1, str2, i+1, j+1)\n",
    "    else:\n",
    "        ans1 = lcs(str1, str2, i+1, j)\n",
    "        ans2 = lcs(str1, str2, i, j+1)\n",
    "        ans = max(ans1, ans2)\n",
    "    return ans\n",
    "    \n",
    "str1 = \"abedgjc\"\n",
    "str2 = \"bmdgsc\"\n",
    "ans = lcs(str1,str2,0,0)\n",
    "print(ans)"
   ]
  },
  {
   "cell_type": "markdown",
   "metadata": {},
   "source": [
    "# LCS(Memoization)"
   ]
  },
  {
   "cell_type": "code",
   "execution_count": 10,
   "metadata": {},
   "outputs": [
    {
     "name": "stdout",
     "output_type": "stream",
     "text": [
      "4\n"
     ]
    }
   ],
   "source": [
    "def lcs(str1, str2, i, j, dp):\n",
    "    \n",
    "    if i == len(str1) or j == len(str2):\n",
    "        return 0\n",
    "    \n",
    "    if str1[i] == str2[j]:\n",
    "        if dp[i+1][j+1] == -1:\n",
    "            smallAns = lcs(str1, str2, i+1, j+1, dp)\n",
    "            dp[i+1][j+1] = smallAns\n",
    "            ans =  1 + smallAns\n",
    "        else:\n",
    "            ans = 1 + dp[i+1][j+1]\n",
    "    else:\n",
    "        if dp[i+1][j] == -1:\n",
    "            ans1 = lcs(str1, str2, i+1, j, dp)\n",
    "            dp[i+1][j] = ans1\n",
    "        else:\n",
    "            ans1 = dp[i+1][j]\n",
    "        if dp[i][j+1] == -1:\n",
    "            ans2 = lcs(str1, str2, i, j+1, dp)\n",
    "            dp[i][j+1] = ans2\n",
    "        else:\n",
    "            ans2 = dp[i][j+1]\n",
    "        ans = max(ans1, ans2)\n",
    "    return ans\n",
    "    \n",
    "str1 = \"abedgjc\"\n",
    "str2 = \"bmdgsc\"\n",
    "n = len(str1)\n",
    "m = len(str2)\n",
    "dp = [[-1 for j in range(m+1)] for i in range(n+1)]\n",
    "ans = lcs(str1,str2,0,0,dp)\n",
    "print(ans)"
   ]
  },
  {
   "cell_type": "markdown",
   "metadata": {},
   "source": [
    "# LCS Iterative Code"
   ]
  },
  {
   "cell_type": "code",
   "execution_count": null,
   "metadata": {},
   "outputs": [],
   "source": []
  }
 ],
 "metadata": {
  "kernelspec": {
   "display_name": "Python 3",
   "language": "python",
   "name": "python3"
  },
  "language_info": {
   "codemirror_mode": {
    "name": "ipython",
    "version": 3
   },
   "file_extension": ".py",
   "mimetype": "text/x-python",
   "name": "python",
   "nbconvert_exporter": "python",
   "pygments_lexer": "ipython3",
   "version": "3.7.4"
  }
 },
 "nbformat": 4,
 "nbformat_minor": 4
}
