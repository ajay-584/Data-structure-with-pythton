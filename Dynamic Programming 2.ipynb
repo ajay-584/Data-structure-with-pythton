{
 "cells": [
  {
   "cell_type": "markdown",
   "metadata": {},
   "source": [
    "# Min Cost Path Problem"
   ]
  },
  {
   "cell_type": "code",
   "execution_count": 3,
   "metadata": {},
   "outputs": [
    {
     "name": "stdout",
     "output_type": "stream",
     "text": [
      "30\n"
     ]
    }
   ],
   "source": [
    "\"\"\"\n",
    "Given an integer matrix of size m*n, you need to find out the value of minimum cost to reach from the cell (0, 0) to (m-1, n-1).\n",
    "From a cell (i, j), you can move in three directions : (i+1, j), (i, j+1) and (i+1, j+1).\n",
    "Cost of a path is defined as the sum of values of each cell through which path passes.\n",
    "Input Format :\n",
    "Line 1 : Two integers, m and n\n",
    "Next m lines : n integers of each row (separated by space)\n",
    "Output Format :\n",
    "Minimum cost\n",
    "Constraints :\n",
    "1 <= m, n <= 20\n",
    "Sample Input 1 :\n",
    "3 4\n",
    "3 4 1 2\n",
    "2 1 8 9\n",
    "4 7 8 1\n",
    "Sample Output 1 :\n",
    "13\n",
    "\"\"\"\n",
    "import sys\n",
    "def minCost(cost,i,j,n,m):\n",
    "    \n",
    "    # Special case\n",
    "    if i==n-1 and j==m-1:\n",
    "        return cost[i][j]\n",
    "    \n",
    "    # Base case\n",
    "    if i >= n or j >=m :\n",
    "        return sys.maxsize\n",
    "    \n",
    "    ans1 = minCost(cost,i+1,j,n,m)\n",
    "    ans2 = minCost(cost,i,j+1,n,m)\n",
    "    ans3 = minCost(cost,i+1,j+1,n,m)\n",
    "    \n",
    "    ans = cost[i][j] + min(ans1,ans2,ans3)\n",
    "    return ans\n",
    "\n",
    "cost = [[1,5,11],[8,13,12],[2,3,7],[15,16,18]]\n",
    "ans = minCost(cost,0,0,4,3)\n",
    "print(ans)"
   ]
  },
  {
   "cell_type": "markdown",
   "metadata": {},
   "source": [
    "# MinCost Memoization"
   ]
  },
  {
   "cell_type": "code",
   "execution_count": 3,
   "metadata": {},
   "outputs": [
    {
     "name": "stdout",
     "output_type": "stream",
     "text": [
      "[[9223372036854775807, 39, 48, 9223372036854775807], [29, 34, 37, 9223372036854775807], [23, 21, 25, 9223372036854775807], [49, 34, 18, 9223372036854775807], [9223372036854775807, 9223372036854775807, 9223372036854775807, 9223372036854775807]]\n",
      "30\n"
     ]
    }
   ],
   "source": [
    "import sys\n",
    "def minCost(cost,i,j,n,m,dp):\n",
    "    \n",
    "    # Special case\n",
    "    if i==n-1 and j==m-1:\n",
    "        return cost[i][j]\n",
    "    \n",
    "    # Base case\n",
    "    if i >= n or j >=m :\n",
    "        return sys.maxsize\n",
    "    if dp[i+1][j] == sys.maxsize:     \n",
    "        ans1 = minCost(cost,i+1,j,n,m,dp)\n",
    "        dp[i+1][j] = ans1\n",
    "    else:\n",
    "        ans1 = dp[i+1][j]\n",
    "    if dp[i][j+1] == sys.maxsize:\n",
    "        ans2 = minCost(cost,i,j+1,n,m,dp)\n",
    "        dp[i][j+1] = ans2\n",
    "    else:\n",
    "        ans2 = dp[i][j+1]\n",
    "    if dp[i+1][j+1] == sys.maxsize:\n",
    "        ans3 = minCost(cost,i+1,j+1,n,m,dp)\n",
    "        dp[i+1][j+1] = ans3\n",
    "    else:\n",
    "        ans3 = dp[i+1][j+1]\n",
    "#     print(dp)\n",
    "    ans = cost[i][j] + min(ans1,ans2,ans3)\n",
    "    return ans\n",
    "\n",
    "cost = [[1,5,11],[8,13,12],[2,3,7],[15,16,18]]\n",
    "n = 4\n",
    "m = 3\n",
    "dp = [[sys.maxsize for j in range(m+1)] for i in range(n+1)]\n",
    "ans = minCost(cost,0,0,4,3,dp)\n",
    "print(dp)\n",
    "print(ans)"
   ]
  },
  {
   "cell_type": "markdown",
   "metadata": {},
   "source": [
    "# MinCost Iteratively"
   ]
  },
  {
   "cell_type": "code",
   "execution_count": 5,
   "metadata": {},
   "outputs": [
    {
     "name": "stdout",
     "output_type": "stream",
     "text": [
      "30\n"
     ]
    }
   ],
   "source": [
    "import sys\n",
    "def minCostIteratively(cost,n,m):\n",
    "    dp = [[sys.maxsize for j in range(m+1)] for i in range(n+1)]\n",
    "    \n",
    "    for i in range(n-1,-1,-1):\n",
    "        for j in range(m-1,-1,-1):\n",
    "            if i == n-1 and j == m-1:\n",
    "                dp[i][j] = cost[i][j]\n",
    "            else:\n",
    "                ans1 = dp[i][j+1]\n",
    "                ans2 = dp[i+1][j]\n",
    "                ans3 = dp[i+1][j+1]\n",
    "                dp[i][j] = cost[i][j] + min(ans1, ans2, ans3)\n",
    "    return dp[0][0]\n",
    "    \n",
    "    \n",
    "cost = [[1,5,11],[8,13,12],[2,3,7],[15,16,18]]\n",
    "n = 4\n",
    "m = 3\n",
    "ans = minCostIteratively(cost,n,m)\n",
    "print(ans)"
   ]
  },
  {
   "cell_type": "markdown",
   "metadata": {},
   "source": [
    "# LCS - Problem"
   ]
  },
  {
   "cell_type": "code",
   "execution_count": 12,
   "metadata": {},
   "outputs": [
    {
     "name": "stdout",
     "output_type": "stream",
     "text": [
      "adebc\n",
      "dcadb\n",
      "3\n"
     ]
    }
   ],
   "source": [
    "\"\"\"\n",
    "Given 2 strings of S1 and S2 with lengths m and n respectively, find the length of longest common subsequence.\n",
    "A subsequence of a string S whose length is n, is a string containing characters in same relative order as they are present in S, but not necessarily contiguous. Subsequences contain all the strings of length varying from 0 to n. E.g. subsequences of string \"abc\" are - \"\",a,b,c,ab,bc,ac,abc.\n",
    "Input Format :\n",
    "Line 1 : String S1\n",
    "Line 2 : String s2\n",
    "Output Format :\n",
    "Line 1 : Length of lcs\n",
    "Sample Input :\n",
    "adebc\n",
    "dcadb\n",
    "Sample Output :\n",
    "3\n",
    "\"\"\"\n",
    "def lcsDP(str1, str2, i, j, dp):\n",
    "#Implement Your Code Here\n",
    "    if i == len(str1) or j == len(str2):\n",
    "        return 0\n",
    "    \n",
    "    if str1[i] == str2[j]:\n",
    "        if dp[i+1][j+1] == -1:\n",
    "            smallAns = lcsDP(str1, str2, i+1, j+1, dp)\n",
    "            dp[i+1][j+1] = smallAns\n",
    "            ans =  1 + smallAns\n",
    "        else:\n",
    "            ans = 1 + dp[i+1][j+1]\n",
    "    else:\n",
    "        if dp[i+1][j] == -1:\n",
    "            ans1 = lcsDP(str1, str2, i+1, j, dp)\n",
    "            dp[i+1][j] = ans1\n",
    "        else:\n",
    "            ans1 = dp[i+1][j]\n",
    "        if dp[i][j+1] == -1:\n",
    "            ans2 = lcsDP(str1, str2, i, j+1, dp)\n",
    "            dp[i][j+1] = ans2\n",
    "        else:\n",
    "            ans2 = dp[i][j+1]\n",
    "        ans = max(ans1, ans2)\n",
    "    return ans\n",
    "\n",
    "s1 =input().strip()\n",
    "s2 =input().strip()\n",
    "n = len(s1)\n",
    "m = len(s2)\n",
    "dp = [[-1 for j in range(m+1)] for i in range(n+1)]\n",
    "print(lcsDP(s1, s2,0,0,dp))"
   ]
  },
  {
   "cell_type": "markdown",
   "metadata": {},
   "source": [
    "# LCS(Recursive)"
   ]
  },
  {
   "cell_type": "code",
   "execution_count": 7,
   "metadata": {},
   "outputs": [
    {
     "name": "stdout",
     "output_type": "stream",
     "text": [
      "4\n"
     ]
    }
   ],
   "source": [
    "def lcs(str1, str2, i, j):\n",
    "    \n",
    "    if i == len(str1) or j == len(str2):\n",
    "        return 0\n",
    "    \n",
    "    if str1[i] == str2[j]:\n",
    "        return 1 + lcs(str1, str2, i+1, j+1)\n",
    "    else:\n",
    "        ans1 = lcs(str1, str2, i+1, j)\n",
    "        ans2 = lcs(str1, str2, i, j+1)\n",
    "        ans = max(ans1, ans2)\n",
    "    return ans\n",
    "    \n",
    "str1 = \"abedgjc\"\n",
    "str2 = \"bmdgsc\"\n",
    "ans = lcs(str1,str2,0,0)\n",
    "print(ans)"
   ]
  },
  {
   "cell_type": "markdown",
   "metadata": {},
   "source": [
    "# LCS(Memoization)"
   ]
  },
  {
   "cell_type": "code",
   "execution_count": 10,
   "metadata": {},
   "outputs": [
    {
     "name": "stdout",
     "output_type": "stream",
     "text": [
      "4\n"
     ]
    }
   ],
   "source": [
    "def lcs(str1, str2, i, j, dp):\n",
    "    \n",
    "    if i == len(str1) or j == len(str2):\n",
    "        return 0\n",
    "    \n",
    "    if str1[i] == str2[j]:\n",
    "        if dp[i+1][j+1] == -1:\n",
    "            smallAns = lcs(str1, str2, i+1, j+1, dp)\n",
    "            dp[i+1][j+1] = smallAns\n",
    "            ans =  1 + smallAns\n",
    "        else:\n",
    "            ans = 1 + dp[i+1][j+1]\n",
    "    else:\n",
    "        if dp[i+1][j] == -1:\n",
    "            ans1 = lcs(str1, str2, i+1, j, dp)\n",
    "            dp[i+1][j] = ans1\n",
    "        else:\n",
    "            ans1 = dp[i+1][j]\n",
    "        if dp[i][j+1] == -1:\n",
    "            ans2 = lcs(str1, str2, i, j+1, dp)\n",
    "            dp[i][j+1] = ans2\n",
    "        else:\n",
    "            ans2 = dp[i][j+1]\n",
    "        ans = max(ans1, ans2)\n",
    "    return ans\n",
    "    \n",
    "str1 = \"abedgjc\"\n",
    "str2 = \"bmdgsc\"\n",
    "n = len(str1)\n",
    "m = len(str2)\n",
    "dp = [[-1 for j in range(m+1)] for i in range(n+1)]\n",
    "ans = lcs(str1,str2,0,0,dp)\n",
    "print(ans)"
   ]
  },
  {
   "cell_type": "markdown",
   "metadata": {},
   "source": [
    "# LCS Iterative Code"
   ]
  },
  {
   "cell_type": "code",
   "execution_count": 3,
   "metadata": {},
   "outputs": [
    {
     "name": "stdout",
     "output_type": "stream",
     "text": [
      "4\n"
     ]
    }
   ],
   "source": [
    "def lcsI(str1,str2):\n",
    "    n = len(str1)\n",
    "    m = len(str2)\n",
    "    dp = [[0 for j in range(m+1)] for i in range(n+1)] \n",
    "    for i in range(n-1,-1,-1):\n",
    "        for j in range(m-1,-1,-1):\n",
    "            if str1[i] == str2[j]:\n",
    "                dp[i][j] = 1 + dp[i+1][j+1]\n",
    "            else:\n",
    "                dp[i][j] = max(dp[i+1][j],dp[i][j+1])\n",
    "    return dp[0][0]\n",
    "\n",
    "str1 = \"abedgjc\"\n",
    "str2 = \"bmdgsc\"\n",
    "ans = lcsI(str1,str2)\n",
    "print(ans)"
   ]
  },
  {
   "cell_type": "markdown",
   "metadata": {},
   "source": [
    "# 0 1 Knapsack - Problem"
   ]
  },
  {
   "cell_type": "code",
   "execution_count": 2,
   "metadata": {},
   "outputs": [
    {
     "name": "stdout",
     "output_type": "stream",
     "text": [
      "4\n",
      "1 2 4 5\n",
      "5 4 8 6\n",
      "5\n",
      "13\n"
     ]
    }
   ],
   "source": [
    "\"\"\"\n",
    "A thief robbing a store and can carry a maximal weight of W into his knapsack. \n",
    "There are N items and ith item weigh wi and is value vi. \n",
    "What is the maximum value V, that thief can take ?\n",
    "Input Format :\n",
    "Line 1 : N i.e. number of items\n",
    "Line 2 : N Integers i.e. weights of items separated by space\n",
    "Line 3 : N Integers i.e. values of items separated by space\n",
    "Line 4 : Integer W i.e. maximum weight thief can carry\n",
    "Output Format :\n",
    "Line 1 : Maximum value V\n",
    "Constraints\n",
    "1 <= N <= 20\n",
    "1<= wi <= 100\n",
    "1 <= vi <= 100\n",
    "Sample Input 1 :\n",
    "4\n",
    "1 2 4 5\n",
    "5 4 8 6\n",
    "5\n",
    "Sample Output :\n",
    "13\n",
    "\"\"\"\n",
    "\n",
    "smallNumber = -2147483648 \n",
    "# This is INT_MIN \n",
    "def knapsackBF(weights, values, maxWeight): \n",
    "    ''' Return maximum value for a knapsack using Brute Force'''\n",
    "    n = len(weights) \n",
    "    if n==0: \n",
    "        return 0 \n",
    "    include = values[0] + knapsackBF(weights[1:], values[1:], maxWeight-weights[0]) if weights[0]<=maxWeight else smallNumber \n",
    "    exclude = knapsackBF(weights[1:], values[1:], maxWeight)\n",
    "    ans = max(include, exclude) \n",
    "    return ans\n",
    "\n",
    "from sys import setrecursionlimit\n",
    "setrecursionlimit(11000)\n",
    "n=int(input()) \n",
    "weights=list(int(i) \n",
    "for i in input().strip().split(' ')) \n",
    "values=list(int(i) for i in input().strip().split(' ')) \n",
    "maxWeight=int(input()) \n",
    "print(knapsackBF(weights, values, maxWeight))"
   ]
  },
  {
   "cell_type": "markdown",
   "metadata": {},
   "source": [
    "# Knapsack(Recursive Code)"
   ]
  },
  {
   "cell_type": "code",
   "execution_count": 3,
   "metadata": {},
   "outputs": [
    {
     "name": "stdout",
     "output_type": "stream",
     "text": [
      "500\n"
     ]
    }
   ],
   "source": [
    "def knapsack(w,val,wt,n,i):\n",
    "    \n",
    "    if i == n:\n",
    "        return 0\n",
    "    \n",
    "    if wt[i] > w:\n",
    "        ans = knapsack(w,val,wt,n,i+1)\n",
    "    else:\n",
    "        # inclusion of ith items\n",
    "        ans1 = val[i] + knapsack(w-wt[i],val,wt,n,i+1)\n",
    "        # exclusion of ith items\n",
    "        ans2 = knapsack(w,val,wt,n,i+1)\n",
    "        ans = max(ans2,ans1)\n",
    "    return ans\n",
    "        \n",
    "\n",
    "val = [200,300,100]\n",
    "wt = [20,25,30]\n",
    "w = 50\n",
    "n = len(val)\n",
    "ans = knapsack(w,val,wt,n,0)\n",
    "print(ans)"
   ]
  },
  {
   "cell_type": "markdown",
   "metadata": {},
   "source": [
    "# Overlapping Problems In Knapsack"
   ]
  },
  {
   "cell_type": "code",
   "execution_count": 4,
   "metadata": {},
   "outputs": [
    {
     "name": "stdout",
     "output_type": "stream",
     "text": [
      "500\n"
     ]
    }
   ],
   "source": [
    "def knapsack(w,val,wt,n,i):\n",
    "    \n",
    "    if i == n:\n",
    "        return 0\n",
    "    \n",
    "    if wt[i] > w:\n",
    "        ans = knapsack(w,val,wt,n,i+1)\n",
    "    else:\n",
    "        # inclusion of ith items\n",
    "        ans1 = val[i] + knapsack(w-wt[i],val,wt,n,i+1)\n",
    "        # exclusion of ith items\n",
    "        ans2 = knapsack(w,val,wt,n,i+1)\n",
    "        ans = max(ans2,ans1)\n",
    "    return ans\n",
    "        \n",
    "\n",
    "val = [200,300,100]\n",
    "wt = [20,25,30]\n",
    "w = 50\n",
    "n = len(val)\n",
    "ans = knapsack(w,val,wt,n,0)\n",
    "print(ans)"
   ]
  },
  {
   "cell_type": "markdown",
   "metadata": {},
   "source": [
    "# Knapsack Iterative"
   ]
  },
  {
   "cell_type": "code",
   "execution_count": 7,
   "metadata": {},
   "outputs": [
    {
     "name": "stdout",
     "output_type": "stream",
     "text": [
      "500\n"
     ]
    }
   ],
   "source": [
    "def knapsackI(w,val,wt):\n",
    "    n = len(val)\n",
    "    dp = [[0 for j in range(w+1)] for i in range(n+1)]\n",
    "    \n",
    "    for i in range(1,n+1):\n",
    "        for j in range(1,w+1):\n",
    "            if j < wt[i-1]:\n",
    "                ans = dp[i-1][j]\n",
    "            else:\n",
    "                ans1 = val[i-1] + dp[i-1][j-wt[i-1]]\n",
    "                ans2 = dp[i-1][j]\n",
    "                ans = max(ans1,ans2)\n",
    "            dp[i][j] = ans\n",
    "    return dp[n][w]\n",
    "        \n",
    "val = [200,300,100]\n",
    "wt = [20,25,30]\n",
    "w = 50\n",
    "ans = knapsackI(w,val,wt)\n",
    "print(ans)"
   ]
  },
  {
   "cell_type": "markdown",
   "metadata": {},
   "source": [
    "# Matrix Chain Multiplication"
   ]
  },
  {
   "cell_type": "code",
   "execution_count": 11,
   "metadata": {},
   "outputs": [
    {
     "name": "stdout",
     "output_type": "stream",
     "text": [
      "3\n",
      "10 15 20 25\n",
      "8000\n"
     ]
    }
   ],
   "source": [
    "\"\"\"\n",
    "Given a chain of matrices A1, A2, A3,.....An, you have to figure out the most efficient way to multiply these matrices \n",
    "i.e. determine where to place parentheses to minimise the number of multiplications.\n",
    "You will be given an array p[] of size n + 1. Dimension of matrix Ai is p[i - 1]*p[i].\n",
    "You need to find minimum number of multiplications needed to multiply the chain.\n",
    "Input Format :\n",
    "Line 1 : Integer n i.e. number of matrices\n",
    "Line 2 : n + 1 integers i.e. elements of array p[] \n",
    "Output Format :\n",
    "Line 1 : Minimum number of multiplication needed\n",
    "Constraints :\n",
    "1 <= n <= 100\n",
    "Sample Input 1 :\n",
    "3\n",
    "10 15 20 25\n",
    "Sample Output :\n",
    "8000\n",
    "Sample Output Explanation :\n",
    "There are two ways to multiply the chain - A1*(A2*A3) or (A1*A2)*A3.\n",
    "If multiply in order A1*(A2*A3) then number of multiplications required are 15000.\n",
    "If multiply in order (A1*A2)*A3 then number of multiplications required are 8000.\n",
    "Thus minimum number of multiplications required are 8000\n",
    "\"\"\"\n",
    "import sys\n",
    "def mcm(p,i,j,dp):\n",
    "    \n",
    "    if i == j:\n",
    "        return 0\n",
    "    \n",
    "    min_val = sys.maxsize\n",
    "    for k in range(i,j):\n",
    "        if dp[i][k] == -1:\n",
    "            ans1 = mcm(p,i,k,dp)\n",
    "            dp[i][k] = ans1\n",
    "        else:\n",
    "            ans1 = dp[i][k]\n",
    "        if dp[k+1][j] == -1:\n",
    "            ans2 = mcm(p,k+1,j,dp)\n",
    "            dp[k+1][j] = ans2\n",
    "        else:\n",
    "            ans2 = dp[k+1][j]\n",
    "        \n",
    "        mCost = p[i-1]*p[k]*p[j]\n",
    "        curr_val = ans1 + ans2 + mCost\n",
    "        min_val = min(min_val,curr_val)\n",
    "    return min_val\n",
    "\n",
    "n = int(input())\n",
    "p = list(map(int,input().split()))\n",
    "dp = [[-1 for j in range(n+1)] for i in range(n+1)]\n",
    "ans = mcm(p,1,n,dp)\n",
    "print(ans)"
   ]
  },
  {
   "cell_type": "markdown",
   "metadata": {},
   "source": [
    "# MCM - Memoization Solution"
   ]
  },
  {
   "cell_type": "code",
   "execution_count": 10,
   "metadata": {},
   "outputs": [
    {
     "name": "stdout",
     "output_type": "stream",
     "text": [
      "8000\n"
     ]
    }
   ],
   "source": [
    "import sys\n",
    "def mcm(p,i,j,dp):\n",
    "    \n",
    "    if i == j:\n",
    "        return 0\n",
    "    \n",
    "    min_val = sys.maxsize\n",
    "    for k in range(i,j):\n",
    "        if dp[i][k] == -1:\n",
    "            ans1 = mcm(p,i,k,dp)\n",
    "            dp[i][k] = ans1\n",
    "        else:\n",
    "            ans1 = dp[i][k]\n",
    "        if dp[k+1][j] == -1:\n",
    "            ans2 = mcm(p,k+1,j,dp)\n",
    "            dp[k+1][j] = ans2\n",
    "        else:\n",
    "            ans2 = dp[k+1][j]\n",
    "        \n",
    "        mCost = p[i-1]*p[k]*p[j]\n",
    "        curr_val = ans1 + ans2 + mCost\n",
    "        min_val = min(min_val,curr_val)\n",
    "    return min_val\n",
    "\n",
    "p = [10,15,20,25]\n",
    "n = len(p)-1\n",
    "dp = [[-1 for j in range(n+1)] for i in range(n+1)]\n",
    "ans = mcm(p,1,n,dp)\n",
    "print(ans)"
   ]
  },
  {
   "cell_type": "code",
   "execution_count": null,
   "metadata": {},
   "outputs": [],
   "source": []
  }
 ],
 "metadata": {
  "kernelspec": {
   "display_name": "Python 3",
   "language": "python",
   "name": "python3"
  },
  "language_info": {
   "codemirror_mode": {
    "name": "ipython",
    "version": 3
   },
   "file_extension": ".py",
   "mimetype": "text/x-python",
   "name": "python",
   "nbconvert_exporter": "python",
   "pygments_lexer": "ipython3",
   "version": "3.7.4"
  }
 },
 "nbformat": 4,
 "nbformat_minor": 4
}
