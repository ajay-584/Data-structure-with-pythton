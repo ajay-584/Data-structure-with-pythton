{
 "cells": [
  {
   "cell_type": "markdown",
   "metadata": {},
   "source": [
    "# Quiz"
   ]
  },
  {
   "cell_type": "code",
   "execution_count": 1,
   "metadata": {},
   "outputs": [],
   "source": [
    "\"\"\"\n",
    "Consider a max heap, represented by the array: 40, 30, 20, 10, 15, 16, 17, 8, 4. \n",
    "Now consider that a value 35 is inserted into this heap. After insertion, the new heap is\n",
    "Options\n",
    "40, 30, 20, 10, 15, 16, 17, 8, 4, 35\n",
    "40, 35, 20, 10, 30, 16, 17, 8, 4, 15 \n",
    "40, 30, 20, 10, 35, 16, 17, 8, 4, 15\n",
    "40, 35, 20, 10, 15, 16, 17, 8, 4, 30\n",
    "ans = 2nd\n",
    "\"\"\"\n",
    "pass"
   ]
  },
  {
   "cell_type": "code",
   "execution_count": 2,
   "metadata": {},
   "outputs": [],
   "source": [
    "\"\"\"\n",
    "A Priority-Queue is implemented as a Max-Heap. Initially, it has 5 elements. The level-order traversal of the heap is given below: 10, 8, 5, 3, 2 Two new elements ”1‘ and ”7‘ are inserted in the heap in that order. \n",
    "The level-order traversal of the heap after the insertion of the elements is:\n",
    "Options\n",
    "10, 8, 7, 5, 3, 2, 1\n",
    "10, 8, 7, 2, 3, 1, 5\n",
    "10, 8, 7, 1, 2, 3, 5\n",
    "10, 8, 7, 3, 2, 1, 5 \n",
    "ans = 4th\n",
    "\"\"\"\n",
    "pass"
   ]
  },
  {
   "cell_type": "code",
   "execution_count": 3,
   "metadata": {},
   "outputs": [],
   "source": [
    "\"\"\"\n",
    "An operator delete(i) for a binary heap data structure is to be designed to delete the item in the i-th node.\n",
    "Assume that the heap is implemented in an array and i refers to the i-th index of the array. \n",
    "If the heap tree has depth d (number of edges on the path from the root to the farthest leaf), \n",
    "then what is the time complexity to re-fix the heap efficiently after the removal of the element?\n",
    "Options\n",
    "O(1)\n",
    "O(d) but not O(1) \n",
    "O(2^d ) but not O(d)\n",
    "O(d*(2^d) ) but not O(2^d )\n",
    "ans o(d) but not o(1)\n",
    "\"\"\"\n",
    "pass"
   ]
  },
  {
   "cell_type": "markdown",
   "metadata": {},
   "source": [
    "# Implementation Of Priority Queue"
   ]
  },
  {
   "cell_type": "code",
   "execution_count": 4,
   "metadata": {},
   "outputs": [],
   "source": [
    "class PriorityQueueNode:\n",
    "    def __init__(self,value,priority):\n",
    "        self.value = value\n",
    "        self.priority = priority\n",
    "class PriorityQueue:\n",
    "    def __init__(self):\n",
    "        self.pq = []\n",
    "    \n",
    "    def getSize(self):\n",
    "        return len(self.pq)\n",
    "    \n",
    "    def isEmpty(self):\n",
    "        return self.getSize() == 0\n",
    "    \n",
    "    def getMin(slef):\n",
    "        if self.isEmpty() is True:\n",
    "            return None\n",
    "        return self.pq[0].value\n",
    "    \n",
    "    def removeMin(self):\n",
    "        pass\n",
    "    "
   ]
  },
  {
   "cell_type": "code",
   "execution_count": null,
   "metadata": {},
   "outputs": [],
   "source": []
  }
 ],
 "metadata": {
  "kernelspec": {
   "display_name": "Python 3",
   "language": "python",
   "name": "python3"
  },
  "language_info": {
   "codemirror_mode": {
    "name": "ipython",
    "version": 3
   },
   "file_extension": ".py",
   "mimetype": "text/x-python",
   "name": "python",
   "nbconvert_exporter": "python",
   "pygments_lexer": "ipython3",
   "version": "3.7.4"
  }
 },
 "nbformat": 4,
 "nbformat_minor": 4
}
